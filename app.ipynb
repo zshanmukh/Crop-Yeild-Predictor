{
  "nbformat": 4,
  "nbformat_minor": 2,
  "metadata": {
    "colab": {
      "name": "shanmukh.ipynb",
      "provenance": []
    },
    "kernelspec": {
      "name": "python3",
      "display_name": "Python 3.8.3 64-bit ('base': conda)"
    },
    "language_info": {
      "name": "python",
      "version": "3.8.3",
      "mimetype": "text/x-python",
      "codemirror_mode": {
        "name": "ipython",
        "version": 3
      },
      "pygments_lexer": "ipython3",
      "nbconvert_exporter": "python",
      "file_extension": ".py"
    },
    "interpreter": {
      "hash": "565f68dfd1673076c57f96022b773c67649ea25cd75c17a67158ed7af3f84750"
    }
  },
  "cells": [
    {
      "cell_type": "markdown",
      "source": [
        "# training with out viewing dataset"
      ],
      "metadata": {
        "id": "Dho0KDYFGhxP"
      }
    },
    {
      "cell_type": "code",
      "execution_count": 13,
      "source": [
        "import pandas as pd"
      ],
      "outputs": [],
      "metadata": {
        "id": "tJFgBnots6z_"
      }
    },
    {
      "cell_type": "code",
      "execution_count": 14,
      "source": [
        "train = pd.read_excel('./data/Andhrapradesh/chittoor_data.xls')"
      ],
      "outputs": [],
      "metadata": {
        "id": "UgCsWLPjtVjU"
      }
    },
    {
      "cell_type": "code",
      "execution_count": 15,
      "source": [
        "train"
      ],
      "outputs": [
        {
          "output_type": "execute_result",
          "data": {
            "text/html": [
              "<div>\n",
              "<style scoped>\n",
              "    .dataframe tbody tr th:only-of-type {\n",
              "        vertical-align: middle;\n",
              "    }\n",
              "\n",
              "    .dataframe tbody tr th {\n",
              "        vertical-align: top;\n",
              "    }\n",
              "\n",
              "    .dataframe thead th {\n",
              "        text-align: right;\n",
              "    }\n",
              "</style>\n",
              "<table border=\"1\" class=\"dataframe\">\n",
              "  <thead>\n",
              "    <tr style=\"text-align: right;\">\n",
              "      <th></th>\n",
              "      <th>Unnamed: 0</th>\n",
              "      <th>Crop</th>\n",
              "      <th>year</th>\n",
              "      <th>Area Harvested - Ha</th>\n",
              "      <th>Production Quantity - tonnes</th>\n",
              "      <th>Yield - Hg/Ha</th>\n",
              "    </tr>\n",
              "  </thead>\n",
              "  <tbody>\n",
              "    <tr>\n",
              "      <th>0</th>\n",
              "      <td>0</td>\n",
              "      <td>grape</td>\n",
              "      <td>1993</td>\n",
              "      <td>6000</td>\n",
              "      <td>1200000</td>\n",
              "      <td>18432</td>\n",
              "    </tr>\n",
              "    <tr>\n",
              "      <th>1</th>\n",
              "      <td>1</td>\n",
              "      <td>rice</td>\n",
              "      <td>1978</td>\n",
              "      <td>6300000</td>\n",
              "      <td>73352000</td>\n",
              "      <td>19623</td>\n",
              "    </tr>\n",
              "    <tr>\n",
              "      <th>2</th>\n",
              "      <td>2</td>\n",
              "      <td>barley</td>\n",
              "      <td>1985</td>\n",
              "      <td>70000</td>\n",
              "      <td>104225008</td>\n",
              "      <td>258628</td>\n",
              "    </tr>\n",
              "    <tr>\n",
              "      <th>3</th>\n",
              "      <td>3</td>\n",
              "      <td>tomato</td>\n",
              "      <td>1963</td>\n",
              "      <td>434000</td>\n",
              "      <td>24734608</td>\n",
              "      <td>343061</td>\n",
              "    </tr>\n",
              "    <tr>\n",
              "      <th>4</th>\n",
              "      <td>4</td>\n",
              "      <td>pineapple</td>\n",
              "      <td>1998</td>\n",
              "      <td>12572000</td>\n",
              "      <td>246806</td>\n",
              "      <td>137248</td>\n",
              "    </tr>\n",
              "    <tr>\n",
              "      <th>...</th>\n",
              "      <td>...</td>\n",
              "      <td>...</td>\n",
              "      <td>...</td>\n",
              "      <td>...</td>\n",
              "      <td>...</td>\n",
              "      <td>...</td>\n",
              "    </tr>\n",
              "    <tr>\n",
              "      <th>653</th>\n",
              "      <td>653</td>\n",
              "      <td>green_pea</td>\n",
              "      <td>1988</td>\n",
              "      <td>9822</td>\n",
              "      <td>1900000</td>\n",
              "      <td>10000</td>\n",
              "    </tr>\n",
              "    <tr>\n",
              "      <th>654</th>\n",
              "      <td>654</td>\n",
              "      <td>sugarcane</td>\n",
              "      <td>2006</td>\n",
              "      <td>849000</td>\n",
              "      <td>478271</td>\n",
              "      <td>16094</td>\n",
              "    </tr>\n",
              "    <tr>\n",
              "      <th>655</th>\n",
              "      <td>655</td>\n",
              "      <td>rice</td>\n",
              "      <td>2001</td>\n",
              "      <td>5797200</td>\n",
              "      <td>24104400</td>\n",
              "      <td>222274</td>\n",
              "    </tr>\n",
              "    <tr>\n",
              "      <th>656</th>\n",
              "      <td>656</td>\n",
              "      <td>papaya</td>\n",
              "      <td>1973</td>\n",
              "      <td>962200</td>\n",
              "      <td>203036800</td>\n",
              "      <td>10699</td>\n",
              "    </tr>\n",
              "    <tr>\n",
              "      <th>657</th>\n",
              "      <td>657</td>\n",
              "      <td>barley</td>\n",
              "      <td>1979</td>\n",
              "      <td>23567408</td>\n",
              "      <td>15205600</td>\n",
              "      <td>19579</td>\n",
              "    </tr>\n",
              "  </tbody>\n",
              "</table>\n",
              "<p>658 rows × 6 columns</p>\n",
              "</div>"
            ],
            "text/plain": [
              "     Unnamed: 0       Crop  year  Area Harvested - Ha  \\\n",
              "0             0      grape  1993                 6000   \n",
              "1             1       rice  1978              6300000   \n",
              "2             2     barley  1985                70000   \n",
              "3             3     tomato  1963               434000   \n",
              "4             4  pineapple  1998             12572000   \n",
              "..          ...        ...   ...                  ...   \n",
              "653         653  green_pea  1988                 9822   \n",
              "654         654  sugarcane  2006               849000   \n",
              "655         655       rice  2001              5797200   \n",
              "656         656     papaya  1973               962200   \n",
              "657         657     barley  1979             23567408   \n",
              "\n",
              "     Production Quantity - tonnes  Yield - Hg/Ha  \n",
              "0                         1200000          18432  \n",
              "1                        73352000          19623  \n",
              "2                       104225008         258628  \n",
              "3                        24734608         343061  \n",
              "4                          246806         137248  \n",
              "..                            ...            ...  \n",
              "653                       1900000          10000  \n",
              "654                        478271          16094  \n",
              "655                      24104400         222274  \n",
              "656                     203036800          10699  \n",
              "657                      15205600          19579  \n",
              "\n",
              "[658 rows x 6 columns]"
            ]
          },
          "metadata": {},
          "execution_count": 15
        }
      ],
      "metadata": {
        "colab": {
          "base_uri": "https://localhost:8080/",
          "height": 419
        },
        "id": "ulRQlczQtll4",
        "outputId": "ac9b57d9-aba8-408d-fbcc-47600b4cdeb1"
      }
    },
    {
      "cell_type": "code",
      "execution_count": 4,
      "source": [
        "print(\"Unique Crops: \", len(train.Crop.unique()))\r\n",
        "print(\"Avg. number of datas for each crop: \", 658/14)"
      ],
      "outputs": [
        {
          "output_type": "stream",
          "name": "stdout",
          "text": [
            "Unique Crops:  14\n",
            "Avg. number of datas for each crop:  47.0\n"
          ]
        }
      ],
      "metadata": {
        "colab": {
          "base_uri": "https://localhost:8080/"
        },
        "id": "yGFUFI3Mtnah",
        "outputId": "6349b293-5cca-4609-9c93-854542425014"
      }
    },
    {
      "cell_type": "code",
      "execution_count": 5,
      "source": [
        "df = train.drop('Unnamed: 0',axis =1)\r\n",
        "df[\"kfold\"] = -1\r\n"
      ],
      "outputs": [],
      "metadata": {
        "id": "PYQg7qbsxWBt"
      }
    },
    {
      "cell_type": "code",
      "execution_count": 6,
      "source": [
        "import numpy as np\r\n",
        "import pandas as pd\r\n",
        "from sklearn import model_selection\r\n",
        "df"
      ],
      "outputs": [
        {
          "output_type": "execute_result",
          "data": {
            "text/html": [
              "<div>\n",
              "<style scoped>\n",
              "    .dataframe tbody tr th:only-of-type {\n",
              "        vertical-align: middle;\n",
              "    }\n",
              "\n",
              "    .dataframe tbody tr th {\n",
              "        vertical-align: top;\n",
              "    }\n",
              "\n",
              "    .dataframe thead th {\n",
              "        text-align: right;\n",
              "    }\n",
              "</style>\n",
              "<table border=\"1\" class=\"dataframe\">\n",
              "  <thead>\n",
              "    <tr style=\"text-align: right;\">\n",
              "      <th></th>\n",
              "      <th>Crop</th>\n",
              "      <th>year</th>\n",
              "      <th>Area Harvested - Ha</th>\n",
              "      <th>Production Quantity - tonnes</th>\n",
              "      <th>Yield - Hg/Ha</th>\n",
              "      <th>kfold</th>\n",
              "    </tr>\n",
              "  </thead>\n",
              "  <tbody>\n",
              "    <tr>\n",
              "      <th>0</th>\n",
              "      <td>grape</td>\n",
              "      <td>1993</td>\n",
              "      <td>6000</td>\n",
              "      <td>1200000</td>\n",
              "      <td>18432</td>\n",
              "      <td>-1</td>\n",
              "    </tr>\n",
              "    <tr>\n",
              "      <th>1</th>\n",
              "      <td>rice</td>\n",
              "      <td>1978</td>\n",
              "      <td>6300000</td>\n",
              "      <td>73352000</td>\n",
              "      <td>19623</td>\n",
              "      <td>-1</td>\n",
              "    </tr>\n",
              "    <tr>\n",
              "      <th>2</th>\n",
              "      <td>barley</td>\n",
              "      <td>1985</td>\n",
              "      <td>70000</td>\n",
              "      <td>104225008</td>\n",
              "      <td>258628</td>\n",
              "      <td>-1</td>\n",
              "    </tr>\n",
              "    <tr>\n",
              "      <th>3</th>\n",
              "      <td>tomato</td>\n",
              "      <td>1963</td>\n",
              "      <td>434000</td>\n",
              "      <td>24734608</td>\n",
              "      <td>343061</td>\n",
              "      <td>-1</td>\n",
              "    </tr>\n",
              "    <tr>\n",
              "      <th>4</th>\n",
              "      <td>pineapple</td>\n",
              "      <td>1998</td>\n",
              "      <td>12572000</td>\n",
              "      <td>246806</td>\n",
              "      <td>137248</td>\n",
              "      <td>-1</td>\n",
              "    </tr>\n",
              "    <tr>\n",
              "      <th>...</th>\n",
              "      <td>...</td>\n",
              "      <td>...</td>\n",
              "      <td>...</td>\n",
              "      <td>...</td>\n",
              "      <td>...</td>\n",
              "      <td>...</td>\n",
              "    </tr>\n",
              "    <tr>\n",
              "      <th>653</th>\n",
              "      <td>green_pea</td>\n",
              "      <td>1988</td>\n",
              "      <td>9822</td>\n",
              "      <td>1900000</td>\n",
              "      <td>10000</td>\n",
              "      <td>-1</td>\n",
              "    </tr>\n",
              "    <tr>\n",
              "      <th>654</th>\n",
              "      <td>sugarcane</td>\n",
              "      <td>2006</td>\n",
              "      <td>849000</td>\n",
              "      <td>478271</td>\n",
              "      <td>16094</td>\n",
              "      <td>-1</td>\n",
              "    </tr>\n",
              "    <tr>\n",
              "      <th>655</th>\n",
              "      <td>rice</td>\n",
              "      <td>2001</td>\n",
              "      <td>5797200</td>\n",
              "      <td>24104400</td>\n",
              "      <td>222274</td>\n",
              "      <td>-1</td>\n",
              "    </tr>\n",
              "    <tr>\n",
              "      <th>656</th>\n",
              "      <td>papaya</td>\n",
              "      <td>1973</td>\n",
              "      <td>962200</td>\n",
              "      <td>203036800</td>\n",
              "      <td>10699</td>\n",
              "      <td>-1</td>\n",
              "    </tr>\n",
              "    <tr>\n",
              "      <th>657</th>\n",
              "      <td>barley</td>\n",
              "      <td>1979</td>\n",
              "      <td>23567408</td>\n",
              "      <td>15205600</td>\n",
              "      <td>19579</td>\n",
              "      <td>-1</td>\n",
              "    </tr>\n",
              "  </tbody>\n",
              "</table>\n",
              "<p>658 rows × 6 columns</p>\n",
              "</div>"
            ],
            "text/plain": [
              "          Crop  year  Area Harvested - Ha  Production Quantity - tonnes  \\\n",
              "0        grape  1993                 6000                       1200000   \n",
              "1         rice  1978              6300000                      73352000   \n",
              "2       barley  1985                70000                     104225008   \n",
              "3       tomato  1963               434000                      24734608   \n",
              "4    pineapple  1998             12572000                        246806   \n",
              "..         ...   ...                  ...                           ...   \n",
              "653  green_pea  1988                 9822                       1900000   \n",
              "654  sugarcane  2006               849000                        478271   \n",
              "655       rice  2001              5797200                      24104400   \n",
              "656     papaya  1973               962200                     203036800   \n",
              "657     barley  1979             23567408                      15205600   \n",
              "\n",
              "     Yield - Hg/Ha  kfold  \n",
              "0            18432     -1  \n",
              "1            19623     -1  \n",
              "2           258628     -1  \n",
              "3           343061     -1  \n",
              "4           137248     -1  \n",
              "..             ...    ...  \n",
              "653          10000     -1  \n",
              "654          16094     -1  \n",
              "655         222274     -1  \n",
              "656          10699     -1  \n",
              "657          19579     -1  \n",
              "\n",
              "[658 rows x 6 columns]"
            ]
          },
          "metadata": {},
          "execution_count": 6
        }
      ],
      "metadata": {
        "id": "Af3iOaHTbeio"
      }
    },
    {
      "cell_type": "code",
      "execution_count": 7,
      "source": [
        "df = train.drop('Unnamed: 0',axis =1)\r\n",
        "df[\"kfold\"] = -1\r\n",
        "kf = model_selection.KFold(n_splits=5, shuffle=True, random_state=42)\r\n",
        "for fold, (train_indicies, valid_indicies) in enumerate(kf.split(X=df)):\r\n",
        "    df.loc[valid_indicies, \"kfold\"] = fold"
      ],
      "outputs": [],
      "metadata": {
        "id": "U2aXNozzxYwd"
      }
    },
    {
      "cell_type": "code",
      "execution_count": 8,
      "source": [
        "df.head()"
      ],
      "outputs": [
        {
          "output_type": "execute_result",
          "data": {
            "text/html": [
              "<div>\n",
              "<style scoped>\n",
              "    .dataframe tbody tr th:only-of-type {\n",
              "        vertical-align: middle;\n",
              "    }\n",
              "\n",
              "    .dataframe tbody tr th {\n",
              "        vertical-align: top;\n",
              "    }\n",
              "\n",
              "    .dataframe thead th {\n",
              "        text-align: right;\n",
              "    }\n",
              "</style>\n",
              "<table border=\"1\" class=\"dataframe\">\n",
              "  <thead>\n",
              "    <tr style=\"text-align: right;\">\n",
              "      <th></th>\n",
              "      <th>Crop</th>\n",
              "      <th>year</th>\n",
              "      <th>Area Harvested - Ha</th>\n",
              "      <th>Production Quantity - tonnes</th>\n",
              "      <th>Yield - Hg/Ha</th>\n",
              "      <th>kfold</th>\n",
              "    </tr>\n",
              "  </thead>\n",
              "  <tbody>\n",
              "    <tr>\n",
              "      <th>0</th>\n",
              "      <td>grape</td>\n",
              "      <td>1993</td>\n",
              "      <td>6000</td>\n",
              "      <td>1200000</td>\n",
              "      <td>18432</td>\n",
              "      <td>1</td>\n",
              "    </tr>\n",
              "    <tr>\n",
              "      <th>1</th>\n",
              "      <td>rice</td>\n",
              "      <td>1978</td>\n",
              "      <td>6300000</td>\n",
              "      <td>73352000</td>\n",
              "      <td>19623</td>\n",
              "      <td>4</td>\n",
              "    </tr>\n",
              "    <tr>\n",
              "      <th>2</th>\n",
              "      <td>barley</td>\n",
              "      <td>1985</td>\n",
              "      <td>70000</td>\n",
              "      <td>104225008</td>\n",
              "      <td>258628</td>\n",
              "      <td>0</td>\n",
              "    </tr>\n",
              "    <tr>\n",
              "      <th>3</th>\n",
              "      <td>tomato</td>\n",
              "      <td>1963</td>\n",
              "      <td>434000</td>\n",
              "      <td>24734608</td>\n",
              "      <td>343061</td>\n",
              "      <td>2</td>\n",
              "    </tr>\n",
              "    <tr>\n",
              "      <th>4</th>\n",
              "      <td>pineapple</td>\n",
              "      <td>1998</td>\n",
              "      <td>12572000</td>\n",
              "      <td>246806</td>\n",
              "      <td>137248</td>\n",
              "      <td>4</td>\n",
              "    </tr>\n",
              "  </tbody>\n",
              "</table>\n",
              "</div>"
            ],
            "text/plain": [
              "        Crop  year  Area Harvested - Ha  Production Quantity - tonnes  \\\n",
              "0      grape  1993                 6000                       1200000   \n",
              "1       rice  1978              6300000                      73352000   \n",
              "2     barley  1985                70000                     104225008   \n",
              "3     tomato  1963               434000                      24734608   \n",
              "4  pineapple  1998             12572000                        246806   \n",
              "\n",
              "   Yield - Hg/Ha  kfold  \n",
              "0          18432      1  \n",
              "1          19623      4  \n",
              "2         258628      0  \n",
              "3         343061      2  \n",
              "4         137248      4  "
            ]
          },
          "metadata": {},
          "execution_count": 8
        }
      ],
      "metadata": {
        "colab": {
          "base_uri": "https://localhost:8080/",
          "height": 204
        },
        "id": "ng1GPhsibqBr",
        "outputId": "7fb08311-9e92-47e8-ebc4-57aca548831b"
      }
    },
    {
      "cell_type": "code",
      "execution_count": 9,
      "source": [
        "from sklearn.model_selection import train_test_split\r\n",
        "\r\n",
        "train, df_test = train_test_split(df, test_size=0.2)\r\n"
      ],
      "outputs": [],
      "metadata": {
        "id": "9z1V3l-Gcevm"
      }
    },
    {
      "cell_type": "code",
      "execution_count": 10,
      "source": [
        "train.head()"
      ],
      "outputs": [
        {
          "output_type": "execute_result",
          "data": {
            "text/html": [
              "<div>\n",
              "<style scoped>\n",
              "    .dataframe tbody tr th:only-of-type {\n",
              "        vertical-align: middle;\n",
              "    }\n",
              "\n",
              "    .dataframe tbody tr th {\n",
              "        vertical-align: top;\n",
              "    }\n",
              "\n",
              "    .dataframe thead th {\n",
              "        text-align: right;\n",
              "    }\n",
              "</style>\n",
              "<table border=\"1\" class=\"dataframe\">\n",
              "  <thead>\n",
              "    <tr style=\"text-align: right;\">\n",
              "      <th></th>\n",
              "      <th>Crop</th>\n",
              "      <th>year</th>\n",
              "      <th>Area Harvested - Ha</th>\n",
              "      <th>Production Quantity - tonnes</th>\n",
              "      <th>Yield - Hg/Ha</th>\n",
              "      <th>kfold</th>\n",
              "    </tr>\n",
              "  </thead>\n",
              "  <tbody>\n",
              "    <tr>\n",
              "      <th>277</th>\n",
              "      <td>tomato</td>\n",
              "      <td>1970</td>\n",
              "      <td>224500</td>\n",
              "      <td>110001008</td>\n",
              "      <td>200541</td>\n",
              "      <td>0</td>\n",
              "    </tr>\n",
              "    <tr>\n",
              "      <th>519</th>\n",
              "      <td>maize</td>\n",
              "      <td>2000</td>\n",
              "      <td>3205000</td>\n",
              "      <td>1564700</td>\n",
              "      <td>16058</td>\n",
              "      <td>3</td>\n",
              "    </tr>\n",
              "    <tr>\n",
              "      <th>472</th>\n",
              "      <td>ginger</td>\n",
              "      <td>1964</td>\n",
              "      <td>83490</td>\n",
              "      <td>750000</td>\n",
              "      <td>97222</td>\n",
              "      <td>3</td>\n",
              "    </tr>\n",
              "    <tr>\n",
              "      <th>386</th>\n",
              "      <td>banana</td>\n",
              "      <td>1970</td>\n",
              "      <td>5915100</td>\n",
              "      <td>643100</td>\n",
              "      <td>87500</td>\n",
              "      <td>3</td>\n",
              "    </tr>\n",
              "    <tr>\n",
              "      <th>317</th>\n",
              "      <td>green_pea</td>\n",
              "      <td>2004</td>\n",
              "      <td>1249000</td>\n",
              "      <td>156120</td>\n",
              "      <td>9167</td>\n",
              "      <td>3</td>\n",
              "    </tr>\n",
              "  </tbody>\n",
              "</table>\n",
              "</div>"
            ],
            "text/plain": [
              "          Crop  year  Area Harvested - Ha  Production Quantity - tonnes  \\\n",
              "277     tomato  1970               224500                     110001008   \n",
              "519      maize  2000              3205000                       1564700   \n",
              "472     ginger  1964                83490                        750000   \n",
              "386     banana  1970              5915100                        643100   \n",
              "317  green_pea  2004              1249000                        156120   \n",
              "\n",
              "     Yield - Hg/Ha  kfold  \n",
              "277         200541      0  \n",
              "519          16058      3  \n",
              "472          97222      3  \n",
              "386          87500      3  \n",
              "317           9167      3  "
            ]
          },
          "metadata": {},
          "execution_count": 10
        }
      ],
      "metadata": {
        "colab": {
          "base_uri": "https://localhost:8080/",
          "height": 204
        },
        "id": "1gSjSSfsc0jh",
        "outputId": "fb20cae7-e903-46d7-dc05-e27fec13912b"
      }
    },
    {
      "cell_type": "code",
      "execution_count": 11,
      "source": [
        "df = train"
      ],
      "outputs": [],
      "metadata": {
        "id": "kfV35Ruuc6OG"
      }
    },
    {
      "cell_type": "code",
      "execution_count": 17,
      "source": [
        "import pandas as pd\r\n",
        "import numpy as np\r\n",
        "from sklearn import preprocessing\r\n",
        "from sklearn.metrics import mean_squared_error\r\n",
        "from xgboost import XGBRegressor\r\n",
        "import optuna"
      ],
      "outputs": [],
      "metadata": {
        "id": "QzRCf5fauDAw"
      }
    },
    {
      "cell_type": "markdown",
      "source": [
        "## using optuna for hyper parameter tuning"
      ],
      "metadata": {
        "id": "SBHLOjMVGrNu"
      }
    },
    {
      "cell_type": "markdown",
      "source": [
        "## using k fold method\r\n"
      ],
      "metadata": {
        "id": "DBOKYiUgG_fK"
      }
    },
    {
      "cell_type": "code",
      "execution_count": 18,
      "source": [
        "\r\n",
        "\r\n",
        "useful_features = [c for c in df.columns if c not in (\"id\", \"Production Quantity - tonnes\", \"kfold\")]\r\n",
        "object_cols = [col for col in useful_features if col.startswith(\"Cro\")]\r\n",
        "df_test = df_test[useful_features]\r\n",
        "\r\n",
        "for col in object_cols:\r\n",
        "    temp_df = []\r\n",
        "    temp_test_feat = None\r\n",
        "    for fold in range(5):\r\n",
        "        xtrain =  df[df.kfold != fold].reset_index(drop=True)\r\n",
        "        xvalid = df[df.kfold == fold].reset_index(drop=True)\r\n",
        "        feat = xtrain.groupby(col)[\"Production Quantity - tonnes\"].agg(\"mean\")\r\n",
        "        feat = feat.to_dict()\r\n",
        "        xvalid.loc[:, f\"tar_enc_{col}\"] = xvalid[col].map(feat)\r\n",
        "        temp_df.append(xvalid)\r\n",
        "        if temp_test_feat is None:\r\n",
        "            temp_test_feat = df_test[col].map(feat)\r\n",
        "        else:\r\n",
        "            temp_test_feat += df_test[col].map(feat)\r\n",
        "    \r\n",
        "    temp_test_feat /= 5\r\n",
        "    df_test.loc[:, f\"tar_enc_{col}\"] = temp_test_feat\r\n",
        "    df = pd.concat(temp_df)\r\n",
        "    \r\n"
      ],
      "outputs": [],
      "metadata": {
        "id": "7UfGcjZ9vi_J"
      }
    },
    {
      "cell_type": "code",
      "execution_count": 19,
      "source": [
        "useful_features = [c for c in df.columns if c not in (\"id\", \"Production Quantity - tonnes\", \"kfold\")]\r\n",
        "object_cols = [col for col in useful_features if col.startswith(\"Cro\")]\r\n",
        "numerical_cols = [col for col in useful_features if not (col.startswith(\"Cro\"))]\r\n",
        "\r\n",
        "df_test = df_test[useful_features]\r\n"
      ],
      "outputs": [],
      "metadata": {
        "id": "QOBDEJl7e1aL"
      }
    },
    {
      "cell_type": "markdown",
      "source": [
        "# usibg ordinal encoder"
      ],
      "metadata": {
        "id": "2coplSrHG4v9"
      }
    },
    {
      "cell_type": "code",
      "execution_count": 20,
      "source": [
        "def run(trial):\r\n",
        "    fold = 0\r\n",
        "    learning_rate = trial.suggest_float(\"learning_rate\", 1e-2, 0.25, log=True)\r\n",
        "    reg_lambda = trial.suggest_loguniform(\"reg_lambda\", 1e-8, 100.0)\r\n",
        "    reg_alpha = trial.suggest_loguniform(\"reg_alpha\", 1e-8, 100.0)\r\n",
        "    subsample = trial.suggest_float(\"subsample\", 0.1, 1.0)\r\n",
        "    colsample_bytree = trial.suggest_float(\"colsample_bytree\", 0.1, 1.0)\r\n",
        "    max_depth = trial.suggest_int(\"max_depth\", 1, 7)\r\n",
        "\r\n",
        "    xtrain = df[df.kfold != fold].reset_index(drop=True)\r\n",
        "    xvalid = df[df.kfold == fold].reset_index(drop=True)\r\n",
        "\r\n",
        "    ytrain = xtrain['Production Quantity - tonnes']\r\n",
        "    yvalid = xvalid['Production Quantity - tonnes']\r\n",
        "\r\n",
        "    xtrain = xtrain[useful_features]\r\n",
        "    xvalid = xvalid[useful_features]\r\n",
        "\r\n",
        "    ordinal_encoder = preprocessing.OrdinalEncoder()\r\n",
        "    xtrain[object_cols] = ordinal_encoder.fit_transform(xtrain[object_cols])\r\n",
        "    xvalid[object_cols] = ordinal_encoder.transform(xvalid[object_cols])\r\n",
        "\r\n",
        "    model = XGBRegressor(\r\n",
        "        random_state=42,\r\n",
        "        n_estimators=7000,\r\n",
        "        learning_rate=learning_rate,\r\n",
        "        reg_lambda=reg_lambda,\r\n",
        "        reg_alpha=reg_alpha,\r\n",
        "        subsample=subsample,\r\n",
        "        colsample_bytree=colsample_bytree,\r\n",
        "        max_depth=max_depth,\r\n",
        "    )\r\n",
        "    model.fit(xtrain, ytrain, eval_set=[(xvalid, yvalid)], verbose=1000)\r\n",
        "    preds_valid = model.predict(xvalid)\r\n",
        "    rmse = mean_squared_error(yvalid, preds_valid, squared=False)\r\n",
        "    return rmse"
      ],
      "outputs": [],
      "metadata": {
        "id": "OCx5N127v3EI"
      }
    },
    {
      "cell_type": "code",
      "execution_count": 21,
      "source": [
        "study = optuna.create_study(direction=\"minimize\")\r\n",
        "study.optimize(run, n_trials=15)"
      ],
      "outputs": [
        {
          "output_type": "stream",
          "name": "stderr",
          "text": [
            "\u001b[32m[I 2021-09-24 18:57:38,200]\u001b[0m A new study created in memory with name: no-name-d37107d4-6a1d-45e2-b35f-bcc54a70d7e1\u001b[0m\n"
          ]
        },
        {
          "output_type": "stream",
          "name": "stdout",
          "text": [
            "[0]\tvalidation_0-rmse:63634516.00000\n",
            "[1000]\tvalidation_0-rmse:57286572.00000\n",
            "[2000]\tvalidation_0-rmse:58338948.00000\n",
            "[3000]\tvalidation_0-rmse:59143668.00000\n",
            "[4000]\tvalidation_0-rmse:59343932.00000\n",
            "[5000]\tvalidation_0-rmse:59660984.00000\n",
            "[6000]\tvalidation_0-rmse:59790120.00000\n",
            "[6999]\tvalidation_0-rmse:59908208.00000\n"
          ]
        },
        {
          "output_type": "stream",
          "name": "stderr",
          "text": [
            "\u001b[32m[I 2021-09-24 18:57:44,676]\u001b[0m Trial 0 finished with value: 59908206.487769246 and parameters: {'learning_rate': 0.011475557230675117, 'reg_lambda': 0.21668671336310583, 'reg_alpha': 0.13156936824986623, 'subsample': 0.7006971547202588, 'colsample_bytree': 0.9442833825500442, 'max_depth': 3}. Best is trial 0 with value: 59908206.487769246.\u001b[0m\n"
          ]
        },
        {
          "output_type": "stream",
          "name": "stdout",
          "text": [
            "[0]\tvalidation_0-rmse:63525552.00000\n",
            "[1000]\tvalidation_0-rmse:57760672.00000\n",
            "[2000]\tvalidation_0-rmse:57664748.00000\n",
            "[3000]\tvalidation_0-rmse:57691560.00000\n",
            "[4000]\tvalidation_0-rmse:57688672.00000\n",
            "[5000]\tvalidation_0-rmse:57688080.00000\n",
            "[6000]\tvalidation_0-rmse:57688040.00000\n",
            "[6999]\tvalidation_0-rmse:57688060.00000\n"
          ]
        },
        {
          "output_type": "stream",
          "name": "stderr",
          "text": [
            "\u001b[32m[I 2021-09-24 18:57:53,768]\u001b[0m Trial 1 finished with value: 57688060.5020693 and parameters: {'learning_rate': 0.01696701569191739, 'reg_lambda': 3.937364058614218e-07, 'reg_alpha': 1.9503989415937797, 'subsample': 0.4346335443389969, 'colsample_bytree': 0.8145867288752338, 'max_depth': 6}. Best is trial 1 with value: 57688060.5020693.\u001b[0m\n"
          ]
        },
        {
          "output_type": "stream",
          "name": "stdout",
          "text": [
            "[0]\tvalidation_0-rmse:60375516.00000\n",
            "[1000]\tvalidation_0-rmse:60481236.00000\n",
            "[2000]\tvalidation_0-rmse:61456892.00000\n",
            "[3000]\tvalidation_0-rmse:61578392.00000\n",
            "[4000]\tvalidation_0-rmse:61626584.00000\n",
            "[5000]\tvalidation_0-rmse:61632092.00000\n",
            "[6000]\tvalidation_0-rmse:61637940.00000\n",
            "[6999]\tvalidation_0-rmse:61639868.00000\n"
          ]
        },
        {
          "output_type": "stream",
          "name": "stderr",
          "text": [
            "\u001b[32m[I 2021-09-24 18:57:58,294]\u001b[0m Trial 2 finished with value: 61639870.824231826 and parameters: {'learning_rate': 0.16753240346839143, 'reg_lambda': 0.017088576517766994, 'reg_alpha': 1.2312432996830011e-05, 'subsample': 0.8890514567354394, 'colsample_bytree': 0.782592782977793, 'max_depth': 2}. Best is trial 1 with value: 57688060.5020693.\u001b[0m\n"
          ]
        },
        {
          "output_type": "stream",
          "name": "stdout",
          "text": [
            "[0]\tvalidation_0-rmse:62996964.00000\n",
            "[1000]\tvalidation_0-rmse:61500072.00000\n",
            "[2000]\tvalidation_0-rmse:61728688.00000\n",
            "[3000]\tvalidation_0-rmse:61684200.00000\n",
            "[4000]\tvalidation_0-rmse:61675132.00000\n",
            "[5000]\tvalidation_0-rmse:61672844.00000\n",
            "[6000]\tvalidation_0-rmse:61672136.00000\n",
            "[6999]\tvalidation_0-rmse:61671988.00000\n"
          ]
        },
        {
          "output_type": "stream",
          "name": "stderr",
          "text": [
            "\u001b[32m[I 2021-09-24 18:58:05,910]\u001b[0m Trial 3 finished with value: 61671987.097613126 and parameters: {'learning_rate': 0.1086909500837267, 'reg_lambda': 20.28280792655185, 'reg_alpha': 8.935060995877408e-06, 'subsample': 0.3298778404217916, 'colsample_bytree': 0.8142373225449812, 'max_depth': 6}. Best is trial 1 with value: 57688060.5020693.\u001b[0m\n"
          ]
        },
        {
          "output_type": "stream",
          "name": "stdout",
          "text": [
            "[0]\tvalidation_0-rmse:62770564.00000\n",
            "[1000]\tvalidation_0-rmse:59861128.00000\n",
            "[2000]\tvalidation_0-rmse:59903792.00000\n",
            "[3000]\tvalidation_0-rmse:59904180.00000\n",
            "[4000]\tvalidation_0-rmse:59904332.00000\n",
            "[5000]\tvalidation_0-rmse:59904368.00000\n",
            "[6000]\tvalidation_0-rmse:59904376.00000\n",
            "[6999]\tvalidation_0-rmse:59904384.00000\n"
          ]
        },
        {
          "output_type": "stream",
          "name": "stderr",
          "text": [
            "\u001b[32m[I 2021-09-24 18:58:11,290]\u001b[0m Trial 4 finished with value: 59904382.73339664 and parameters: {'learning_rate': 0.0924440327450672, 'reg_lambda': 0.07720258096532721, 'reg_alpha': 0.5861605779057618, 'subsample': 0.7205392202425634, 'colsample_bytree': 0.42020621386368995, 'max_depth': 4}. Best is trial 1 with value: 57688060.5020693.\u001b[0m\n"
          ]
        },
        {
          "output_type": "stream",
          "name": "stdout",
          "text": [
            "[0]\tvalidation_0-rmse:63483376.00000\n",
            "[1000]\tvalidation_0-rmse:56200680.00000\n",
            "[2000]\tvalidation_0-rmse:56693452.00000\n",
            "[3000]\tvalidation_0-rmse:56978100.00000\n",
            "[4000]\tvalidation_0-rmse:57291108.00000\n",
            "[5000]\tvalidation_0-rmse:57778100.00000\n",
            "[6000]\tvalidation_0-rmse:57998204.00000\n",
            "[6999]\tvalidation_0-rmse:58427516.00000\n"
          ]
        },
        {
          "output_type": "stream",
          "name": "stderr",
          "text": [
            "\u001b[32m[I 2021-09-24 18:58:15,099]\u001b[0m Trial 5 finished with value: 58427515.14090674 and parameters: {'learning_rate': 0.03019191152767971, 'reg_lambda': 0.05638894484312818, 'reg_alpha': 1.5611139628619917, 'subsample': 0.907046650570386, 'colsample_bytree': 0.5633222274639088, 'max_depth': 1}. Best is trial 1 with value: 57688060.5020693.\u001b[0m\n"
          ]
        },
        {
          "output_type": "stream",
          "name": "stdout",
          "text": [
            "[0]\tvalidation_0-rmse:61707048.00000\n",
            "[1000]\tvalidation_0-rmse:66916924.00000\n",
            "[2000]\tvalidation_0-rmse:66879244.00000\n",
            "[3000]\tvalidation_0-rmse:66877592.00000\n",
            "[4000]\tvalidation_0-rmse:66877608.00000\n",
            "[5000]\tvalidation_0-rmse:66877628.00000\n",
            "[6000]\tvalidation_0-rmse:66877648.00000\n",
            "[6999]\tvalidation_0-rmse:66877660.00000\n"
          ]
        },
        {
          "output_type": "stream",
          "name": "stderr",
          "text": [
            "\u001b[32m[I 2021-09-24 18:58:21,692]\u001b[0m Trial 6 finished with value: 66877657.6581978 and parameters: {'learning_rate': 0.1078270987722645, 'reg_lambda': 0.0010299845158149427, 'reg_alpha': 2.816300080126254, 'subsample': 0.27155462734498437, 'colsample_bytree': 0.5772857838870046, 'max_depth': 5}. Best is trial 1 with value: 57688060.5020693.\u001b[0m\n"
          ]
        },
        {
          "output_type": "stream",
          "name": "stdout",
          "text": [
            "[0]\tvalidation_0-rmse:63415232.00000\n",
            "[1000]\tvalidation_0-rmse:57280108.00000\n",
            "[2000]\tvalidation_0-rmse:58839944.00000\n",
            "[3000]\tvalidation_0-rmse:59570592.00000\n",
            "[4000]\tvalidation_0-rmse:59784696.00000\n",
            "[5000]\tvalidation_0-rmse:60007292.00000\n",
            "[6000]\tvalidation_0-rmse:60076000.00000\n",
            "[6999]\tvalidation_0-rmse:60273804.00000\n"
          ]
        },
        {
          "output_type": "stream",
          "name": "stderr",
          "text": [
            "\u001b[32m[I 2021-09-24 18:58:25,862]\u001b[0m Trial 7 finished with value: 60273803.3909851 and parameters: {'learning_rate': 0.027993045715379118, 'reg_lambda': 3.3076377498173874e-05, 'reg_alpha': 1.981126298023002e-08, 'subsample': 0.9738251272699078, 'colsample_bytree': 0.907070906696082, 'max_depth': 2}. Best is trial 1 with value: 57688060.5020693.\u001b[0m\n"
          ]
        },
        {
          "output_type": "stream",
          "name": "stdout",
          "text": [
            "[0]\tvalidation_0-rmse:61857972.00000\n",
            "[1000]\tvalidation_0-rmse:63540212.00000\n",
            "[2000]\tvalidation_0-rmse:63529760.00000\n",
            "[3000]\tvalidation_0-rmse:63530636.00000\n",
            "[4000]\tvalidation_0-rmse:63530700.00000\n",
            "[5000]\tvalidation_0-rmse:63530712.00000\n",
            "[6000]\tvalidation_0-rmse:63530732.00000\n",
            "[6999]\tvalidation_0-rmse:63530756.00000\n"
          ]
        },
        {
          "output_type": "stream",
          "name": "stderr",
          "text": [
            "\u001b[32m[I 2021-09-24 18:58:30,731]\u001b[0m Trial 8 finished with value: 63530756.12050341 and parameters: {'learning_rate': 0.24903485050326624, 'reg_lambda': 0.2582195970435307, 'reg_alpha': 0.007941792971749444, 'subsample': 0.6964051259801141, 'colsample_bytree': 0.586166797317612, 'max_depth': 3}. Best is trial 1 with value: 57688060.5020693.\u001b[0m\n"
          ]
        },
        {
          "output_type": "stream",
          "name": "stdout",
          "text": [
            "[0]\tvalidation_0-rmse:63667680.00000\n",
            "[1000]\tvalidation_0-rmse:62758224.00000\n",
            "[2000]\tvalidation_0-rmse:64595444.00000\n",
            "[3000]\tvalidation_0-rmse:65320532.00000\n",
            "[4000]\tvalidation_0-rmse:65705216.00000\n",
            "[5000]\tvalidation_0-rmse:65938336.00000\n",
            "[6000]\tvalidation_0-rmse:66058068.00000\n",
            "[6999]\tvalidation_0-rmse:66152612.00000\n"
          ]
        },
        {
          "output_type": "stream",
          "name": "stderr",
          "text": [
            "\u001b[32m[I 2021-09-24 18:58:38,297]\u001b[0m Trial 9 finished with value: 66152611.76164784 and parameters: {'learning_rate': 0.01707732278357159, 'reg_lambda': 0.0006009679434272815, 'reg_alpha': 1.8054204457413653e-08, 'subsample': 0.7299124284865193, 'colsample_bytree': 0.3173782444772495, 'max_depth': 7}. Best is trial 1 with value: 57688060.5020693.\u001b[0m\n"
          ]
        },
        {
          "output_type": "stream",
          "name": "stdout",
          "text": [
            "[0]\tvalidation_0-rmse:63442100.00000\n",
            "[1000]\tvalidation_0-rmse:69422784.00000\n",
            "[2000]\tvalidation_0-rmse:70995576.00000\n",
            "[3000]\tvalidation_0-rmse:71447808.00000\n",
            "[4000]\tvalidation_0-rmse:71546488.00000\n",
            "[5000]\tvalidation_0-rmse:71580064.00000\n",
            "[6000]\tvalidation_0-rmse:71588688.00000\n",
            "[6999]\tvalidation_0-rmse:71591736.00000\n"
          ]
        },
        {
          "output_type": "stream",
          "name": "stderr",
          "text": [
            "\u001b[32m[I 2021-09-24 18:58:45,981]\u001b[0m Trial 10 finished with value: 71591736.54751502 and parameters: {'learning_rate': 0.04697310743224723, 'reg_lambda': 1.8239113841736247e-08, 'reg_alpha': 54.21124220433481, 'subsample': 0.45198392358245615, 'colsample_bytree': 0.20503057235972866, 'max_depth': 7}. Best is trial 1 with value: 57688060.5020693.\u001b[0m\n"
          ]
        },
        {
          "output_type": "stream",
          "name": "stdout",
          "text": [
            "[0]\tvalidation_0-rmse:63515288.00000\n",
            "[1000]\tvalidation_0-rmse:56062764.00000\n",
            "[2000]\tvalidation_0-rmse:57579224.00000\n",
            "[3000]\tvalidation_0-rmse:58642116.00000\n",
            "[4000]\tvalidation_0-rmse:58731916.00000\n",
            "[5000]\tvalidation_0-rmse:59549224.00000\n",
            "[6000]\tvalidation_0-rmse:59704428.00000\n",
            "[6999]\tvalidation_0-rmse:60356064.00000\n"
          ]
        },
        {
          "output_type": "stream",
          "name": "stderr",
          "text": [
            "\u001b[32m[I 2021-09-24 18:58:49,581]\u001b[0m Trial 11 finished with value: 60356065.97029077 and parameters: {'learning_rate': 0.028617473392035343, 'reg_lambda': 2.6438711600551987e-07, 'reg_alpha': 75.25267780738349, 'subsample': 0.48554856004459807, 'colsample_bytree': 0.6946960302559786, 'max_depth': 1}. Best is trial 1 with value: 57688060.5020693.\u001b[0m\n"
          ]
        },
        {
          "output_type": "stream",
          "name": "stdout",
          "text": [
            "[0]\tvalidation_0-rmse:63686704.00000\n",
            "[1000]\tvalidation_0-rmse:61493532.00000\n",
            "[2000]\tvalidation_0-rmse:61713992.00000\n",
            "[3000]\tvalidation_0-rmse:61823516.00000\n",
            "[4000]\tvalidation_0-rmse:61838408.00000\n",
            "[5000]\tvalidation_0-rmse:61843564.00000\n",
            "[6000]\tvalidation_0-rmse:61845500.00000\n",
            "[6999]\tvalidation_0-rmse:61845980.00000\n"
          ]
        },
        {
          "output_type": "stream",
          "name": "stderr",
          "text": [
            "\u001b[32m[I 2021-09-24 18:58:56,498]\u001b[0m Trial 12 finished with value: 61845977.104411505 and parameters: {'learning_rate': 0.023413349184358192, 'reg_lambda': 3.4442425563177896e-06, 'reg_alpha': 0.003963011773185131, 'subsample': 0.5821226333238244, 'colsample_bytree': 0.44440592809774515, 'max_depth': 5}. Best is trial 1 with value: 57688060.5020693.\u001b[0m\n"
          ]
        },
        {
          "output_type": "stream",
          "name": "stdout",
          "text": [
            "[0]\tvalidation_0-rmse:63782192.00000\n",
            "[1000]\tvalidation_0-rmse:55068544.00000\n",
            "[2000]\tvalidation_0-rmse:55314392.00000\n",
            "[3000]\tvalidation_0-rmse:56309556.00000\n",
            "[4000]\tvalidation_0-rmse:56773140.00000\n",
            "[5000]\tvalidation_0-rmse:57007300.00000\n",
            "[6000]\tvalidation_0-rmse:57680908.00000\n",
            "[6999]\tvalidation_0-rmse:58343156.00000\n"
          ]
        },
        {
          "output_type": "stream",
          "name": "stderr",
          "text": [
            "\u001b[32m[I 2021-09-24 18:59:00,202]\u001b[0m Trial 13 finished with value: 58343156.906103775 and parameters: {'learning_rate': 0.010083988995525962, 'reg_lambda': 6.302940024742088, 'reg_alpha': 0.046015341501022974, 'subsample': 0.13824233923907153, 'colsample_bytree': 0.6387593660078521, 'max_depth': 1}. Best is trial 1 with value: 57688060.5020693.\u001b[0m\n"
          ]
        },
        {
          "output_type": "stream",
          "name": "stdout",
          "text": [
            "[0]\tvalidation_0-rmse:63843316.00000\n",
            "[1000]\tvalidation_0-rmse:58405256.00000\n",
            "[2000]\tvalidation_0-rmse:58410796.00000\n",
            "[3000]\tvalidation_0-rmse:58615344.00000\n",
            "[4000]\tvalidation_0-rmse:58593828.00000\n",
            "[5000]\tvalidation_0-rmse:58551608.00000\n",
            "[6000]\tvalidation_0-rmse:58438236.00000\n",
            "[6999]\tvalidation_0-rmse:58431816.00000\n"
          ]
        },
        {
          "output_type": "stream",
          "name": "stderr",
          "text": [
            "\u001b[32m[I 2021-09-24 18:59:06,050]\u001b[0m Trial 14 finished with value: 58431818.62122145 and parameters: {'learning_rate': 0.010242075435520439, 'reg_lambda': 75.07014533408987, 'reg_alpha': 9.047192304845467e-05, 'subsample': 0.1219400211495359, 'colsample_bytree': 0.7447781278505398, 'max_depth': 5}. Best is trial 1 with value: 57688060.5020693.\u001b[0m\n"
          ]
        }
      ],
      "metadata": {
        "id": "lxmIoC2yv6wR",
        "colab": {
          "base_uri": "https://localhost:8080/"
        },
        "outputId": "68119528-dea2-4c8b-c947-2024e1122a15"
      }
    },
    {
      "cell_type": "markdown",
      "source": [
        "## Best is trial 1 with RMSE value: 57688060.5020693."
      ],
      "metadata": {}
    },
    {
      "cell_type": "code",
      "execution_count": 22,
      "source": [
        "import pandas as pd\r\n",
        "import numpy as np\r\n",
        "from sklearn import preprocessing\r\n",
        "from sklearn.model_selection import train_test_split\r\n",
        "from sklearn.ensemble import RandomForestRegressor\r\n",
        "from sklearn.metrics import mean_squared_error\r\n",
        "from xgboost import XGBRegressor"
      ],
      "outputs": [],
      "metadata": {
        "id": "V9FwCOzRdDbk"
      }
    },
    {
      "cell_type": "code",
      "execution_count": 23,
      "source": [
        "numerical_cols = [col for col in useful_features if not (col.startswith(\"Cro\"))]\r\n"
      ],
      "outputs": [],
      "metadata": {
        "id": "R0GkHSgkeXXG"
      }
    },
    {
      "cell_type": "code",
      "execution_count": 24,
      "source": [
        "def run(trial):\r\n",
        "    fold = 0\r\n",
        "    learning_rate = trial.suggest_float(\"learning_rate\", 1e-2, 0.35, log=True)\r\n",
        "    reg_lambda = trial.suggest_loguniform(\"reg_lambda\", 1e-8, 100.0)\r\n",
        "    reg_alpha = trial.suggest_loguniform(\"reg_alpha\", 1e-8, 100.0)\r\n",
        "    subsample = trial.suggest_float(\"subsample\", 0.1, 1.0)\r\n",
        "    colsample_bytree = trial.suggest_float(\"colsample_bytree\", 0.1, 1.0)\r\n",
        "    max_depth = trial.suggest_int(\"max_depth\", 1, 9)\r\n",
        "\r\n",
        "    xtrain = df[df.kfold != fold].reset_index(drop=True)\r\n",
        "    xvalid = df[df.kfold == fold].reset_index(drop=True)\r\n",
        "\r\n",
        "    ytrain = xtrain['Production Quantity - tonnes']\r\n",
        "    yvalid = xvalid['Production Quantity - tonnes']\r\n",
        "\r\n",
        "    xtrain = xtrain[useful_features]\r\n",
        "    xvalid = xvalid[useful_features]\r\n",
        "\r\n",
        "    ordinal_encoder = preprocessing.OrdinalEncoder()\r\n",
        "    xtrain[object_cols] = ordinal_encoder.fit_transform(xtrain[object_cols])\r\n",
        "    xvalid[object_cols] = ordinal_encoder.transform(xvalid[object_cols])\r\n",
        "    scaler = preprocessing.StandardScaler()\r\n",
        "    xtrain[numerical_cols] = scaler.fit_transform(xtrain[numerical_cols])\r\n",
        "    xvalid[numerical_cols] = scaler.transform(xvalid[numerical_cols])\r\n",
        "\r\n",
        "    model = XGBRegressor(\r\n",
        "        random_state=42,\r\n",
        "        n_estimators=15000,\r\n",
        "        learning_rate=learning_rate,\r\n",
        "        reg_lambda=reg_lambda,\r\n",
        "        reg_alpha=reg_alpha,\r\n",
        "        subsample=subsample,\r\n",
        "        colsample_bytree=colsample_bytree,\r\n",
        "        max_depth=max_depth,\r\n",
        "    )\r\n",
        "    model.fit(xtrain, ytrain, eval_set=[(xvalid, yvalid)], verbose=1000)\r\n",
        "    preds_valid = model.predict(xvalid)\r\n",
        "    rmse = mean_squared_error(yvalid, preds_valid, squared=False)\r\n",
        "    return rmse"
      ],
      "outputs": [],
      "metadata": {
        "id": "4bGdZzEgejPz"
      }
    },
    {
      "cell_type": "code",
      "execution_count": 25,
      "source": [
        "study = optuna.create_study(direction=\"minimize\")\r\n",
        "study.optimize(run, n_trials=30)"
      ],
      "outputs": [
        {
          "output_type": "stream",
          "name": "stderr",
          "text": [
            "\u001b[32m[I 2021-09-24 19:00:30,124]\u001b[0m A new study created in memory with name: no-name-220085ff-60ae-484e-b8f1-6dd3f577da63\u001b[0m\n"
          ]
        },
        {
          "output_type": "stream",
          "name": "stdout",
          "text": [
            "[0]\tvalidation_0-rmse:60871248.00000\n",
            "[1000]\tvalidation_0-rmse:66184012.00000\n",
            "[2000]\tvalidation_0-rmse:66184248.00000\n",
            "[3000]\tvalidation_0-rmse:66184264.00000\n",
            "[4000]\tvalidation_0-rmse:66184272.00000\n",
            "[5000]\tvalidation_0-rmse:66184272.00000\n",
            "[6000]\tvalidation_0-rmse:66184268.00000\n",
            "[7000]\tvalidation_0-rmse:66184260.00000\n",
            "[8000]\tvalidation_0-rmse:66184268.00000\n",
            "[9000]\tvalidation_0-rmse:66184272.00000\n",
            "[10000]\tvalidation_0-rmse:66184284.00000\n",
            "[11000]\tvalidation_0-rmse:66184284.00000\n",
            "[12000]\tvalidation_0-rmse:66184284.00000\n",
            "[13000]\tvalidation_0-rmse:66184300.00000\n",
            "[14000]\tvalidation_0-rmse:66184304.00000\n",
            "[14999]\tvalidation_0-rmse:66184312.00000\n"
          ]
        },
        {
          "output_type": "stream",
          "name": "stderr",
          "text": [
            "\u001b[32m[I 2021-09-24 19:00:45,191]\u001b[0m Trial 0 finished with value: 66184309.55599928 and parameters: {'learning_rate': 0.11406436822873009, 'reg_lambda': 1.4743120618251355e-07, 'reg_alpha': 8.449620432004545, 'subsample': 0.254976330497924, 'colsample_bytree': 0.8931064275160162, 'max_depth': 6}. Best is trial 0 with value: 66184309.55599928.\u001b[0m\n"
          ]
        },
        {
          "output_type": "stream",
          "name": "stdout",
          "text": [
            "[0]\tvalidation_0-rmse:63724000.00000\n",
            "[1000]\tvalidation_0-rmse:59695944.00000\n",
            "[2000]\tvalidation_0-rmse:62479816.00000\n",
            "[3000]\tvalidation_0-rmse:63887252.00000\n",
            "[4000]\tvalidation_0-rmse:64795812.00000\n",
            "[5000]\tvalidation_0-rmse:65512364.00000\n",
            "[6000]\tvalidation_0-rmse:66095212.00000\n",
            "[7000]\tvalidation_0-rmse:66622592.00000\n",
            "[8000]\tvalidation_0-rmse:67140832.00000\n",
            "[9000]\tvalidation_0-rmse:67515856.00000\n",
            "[10000]\tvalidation_0-rmse:67816480.00000\n",
            "[11000]\tvalidation_0-rmse:68143328.00000\n",
            "[12000]\tvalidation_0-rmse:68434200.00000\n",
            "[13000]\tvalidation_0-rmse:68658768.00000\n",
            "[14000]\tvalidation_0-rmse:68842504.00000\n",
            "[14999]\tvalidation_0-rmse:69034144.00000\n"
          ]
        },
        {
          "output_type": "stream",
          "name": "stderr",
          "text": [
            "\u001b[32m[I 2021-09-24 19:01:00,754]\u001b[0m Trial 1 finished with value: 69034147.67049763 and parameters: {'learning_rate': 0.015298592361360582, 'reg_lambda': 14.010395749790328, 'reg_alpha': 3.092886106089809e-08, 'subsample': 0.749116531835799, 'colsample_bytree': 0.39686296095851237, 'max_depth': 7}. Best is trial 0 with value: 66184309.55599928.\u001b[0m\n"
          ]
        },
        {
          "output_type": "stream",
          "name": "stdout",
          "text": [
            "[0]\tvalidation_0-rmse:63651392.00000\n",
            "[1000]\tvalidation_0-rmse:59462700.00000\n",
            "[2000]\tvalidation_0-rmse:60055988.00000\n",
            "[3000]\tvalidation_0-rmse:60697844.00000\n",
            "[4000]\tvalidation_0-rmse:60775124.00000\n",
            "[5000]\tvalidation_0-rmse:60879460.00000\n",
            "[6000]\tvalidation_0-rmse:60990120.00000\n",
            "[7000]\tvalidation_0-rmse:61016184.00000\n",
            "[8000]\tvalidation_0-rmse:61034524.00000\n",
            "[9000]\tvalidation_0-rmse:61044516.00000\n",
            "[10000]\tvalidation_0-rmse:61050068.00000\n",
            "[11000]\tvalidation_0-rmse:61051288.00000\n",
            "[12000]\tvalidation_0-rmse:61053200.00000\n",
            "[13000]\tvalidation_0-rmse:61054480.00000\n",
            "[14000]\tvalidation_0-rmse:61055348.00000\n",
            "[14999]\tvalidation_0-rmse:61055684.00000\n"
          ]
        },
        {
          "output_type": "stream",
          "name": "stderr",
          "text": [
            "\u001b[32m[I 2021-09-24 19:01:14,069]\u001b[0m Trial 2 finished with value: 61055681.62250305 and parameters: {'learning_rate': 0.022911690757317426, 'reg_lambda': 0.6664974734773871, 'reg_alpha': 0.0071249041036076785, 'subsample': 0.4480537284020849, 'colsample_bytree': 0.47338008359146067, 'max_depth': 4}. Best is trial 2 with value: 61055681.62250305.\u001b[0m\n"
          ]
        },
        {
          "output_type": "stream",
          "name": "stdout",
          "text": [
            "[0]\tvalidation_0-rmse:59436780.00000\n",
            "[1000]\tvalidation_0-rmse:70468664.00000\n",
            "[2000]\tvalidation_0-rmse:70465872.00000\n",
            "[3000]\tvalidation_0-rmse:70465872.00000\n",
            "[4000]\tvalidation_0-rmse:70465872.00000\n",
            "[5000]\tvalidation_0-rmse:70465872.00000\n",
            "[6000]\tvalidation_0-rmse:70465864.00000\n",
            "[7000]\tvalidation_0-rmse:70465864.00000\n",
            "[8000]\tvalidation_0-rmse:70465856.00000\n",
            "[9000]\tvalidation_0-rmse:70465856.00000\n",
            "[10000]\tvalidation_0-rmse:70465848.00000\n",
            "[11000]\tvalidation_0-rmse:70465848.00000\n",
            "[12000]\tvalidation_0-rmse:70465848.00000\n",
            "[13000]\tvalidation_0-rmse:70465840.00000\n",
            "[14000]\tvalidation_0-rmse:70465856.00000\n",
            "[14999]\tvalidation_0-rmse:70465856.00000\n"
          ]
        },
        {
          "output_type": "stream",
          "name": "stderr",
          "text": [
            "\u001b[32m[I 2021-09-24 19:01:26,690]\u001b[0m Trial 3 finished with value: 70465853.63555719 and parameters: {'learning_rate': 0.2637179284028474, 'reg_lambda': 0.000273514414147045, 'reg_alpha': 1.1546637713177466e-08, 'subsample': 0.34465521645606295, 'colsample_bytree': 0.683242948084351, 'max_depth': 4}. Best is trial 2 with value: 61055681.62250305.\u001b[0m\n"
          ]
        },
        {
          "output_type": "stream",
          "name": "stdout",
          "text": [
            "[0]\tvalidation_0-rmse:60863396.00000\n",
            "[1000]\tvalidation_0-rmse:78798440.00000\n",
            "[2000]\tvalidation_0-rmse:78841280.00000\n",
            "[3000]\tvalidation_0-rmse:78841256.00000\n",
            "[4000]\tvalidation_0-rmse:78841272.00000\n",
            "[5000]\tvalidation_0-rmse:78841296.00000\n",
            "[6000]\tvalidation_0-rmse:78841336.00000\n",
            "[7000]\tvalidation_0-rmse:78841352.00000\n",
            "[8000]\tvalidation_0-rmse:78841384.00000\n",
            "[9000]\tvalidation_0-rmse:78841432.00000\n",
            "[10000]\tvalidation_0-rmse:78841448.00000\n",
            "[11000]\tvalidation_0-rmse:78841480.00000\n",
            "[12000]\tvalidation_0-rmse:78841512.00000\n",
            "[13000]\tvalidation_0-rmse:78841520.00000\n",
            "[14000]\tvalidation_0-rmse:78841544.00000\n",
            "[14999]\tvalidation_0-rmse:78841568.00000\n"
          ]
        },
        {
          "output_type": "stream",
          "name": "stderr",
          "text": [
            "\u001b[32m[I 2021-09-24 19:01:46,813]\u001b[0m Trial 4 finished with value: 78841567.64429522 and parameters: {'learning_rate': 0.16037020693762685, 'reg_lambda': 0.008714746101405983, 'reg_alpha': 3.1247167013809435e-08, 'subsample': 0.13918164070087724, 'colsample_bytree': 0.7172225898548467, 'max_depth': 8}. Best is trial 2 with value: 61055681.62250305.\u001b[0m\n"
          ]
        },
        {
          "output_type": "stream",
          "name": "stdout",
          "text": [
            "[0]\tvalidation_0-rmse:60988816.00000\n",
            "[1000]\tvalidation_0-rmse:61397168.00000\n",
            "[2000]\tvalidation_0-rmse:63192452.00000\n",
            "[3000]\tvalidation_0-rmse:65273856.00000\n",
            "[4000]\tvalidation_0-rmse:66565112.00000\n",
            "[5000]\tvalidation_0-rmse:67744264.00000\n",
            "[6000]\tvalidation_0-rmse:68399304.00000\n",
            "[7000]\tvalidation_0-rmse:68791216.00000\n",
            "[8000]\tvalidation_0-rmse:69599712.00000\n",
            "[9000]\tvalidation_0-rmse:69891912.00000\n",
            "[10000]\tvalidation_0-rmse:70990376.00000\n",
            "[11000]\tvalidation_0-rmse:70200536.00000\n",
            "[12000]\tvalidation_0-rmse:70769256.00000\n",
            "[13000]\tvalidation_0-rmse:70669552.00000\n",
            "[14000]\tvalidation_0-rmse:70626880.00000\n",
            "[14999]\tvalidation_0-rmse:70770304.00000\n"
          ]
        },
        {
          "output_type": "stream",
          "name": "stderr",
          "text": [
            "\u001b[32m[I 2021-09-24 19:01:55,140]\u001b[0m Trial 5 finished with value: 70770304.22592096 and parameters: {'learning_rate': 0.2962246765069966, 'reg_lambda': 0.01978505335565181, 'reg_alpha': 0.03366839697859998, 'subsample': 0.6200756034889134, 'colsample_bytree': 0.6992352405131179, 'max_depth': 1}. Best is trial 2 with value: 61055681.62250305.\u001b[0m\n"
          ]
        },
        {
          "output_type": "stream",
          "name": "stdout",
          "text": [
            "[0]\tvalidation_0-rmse:63754328.00000\n",
            "[1000]\tvalidation_0-rmse:59672848.00000\n",
            "[2000]\tvalidation_0-rmse:59858568.00000\n",
            "[3000]\tvalidation_0-rmse:59878656.00000\n",
            "[4000]\tvalidation_0-rmse:59880020.00000\n",
            "[5000]\tvalidation_0-rmse:59881648.00000\n",
            "[6000]\tvalidation_0-rmse:59882272.00000\n",
            "[7000]\tvalidation_0-rmse:59882416.00000\n",
            "[8000]\tvalidation_0-rmse:59882460.00000\n",
            "[9000]\tvalidation_0-rmse:59882452.00000\n",
            "[10000]\tvalidation_0-rmse:59882464.00000\n",
            "[11000]\tvalidation_0-rmse:59882488.00000\n",
            "[12000]\tvalidation_0-rmse:59882516.00000\n",
            "[13000]\tvalidation_0-rmse:59882540.00000\n",
            "[14000]\tvalidation_0-rmse:59882568.00000\n",
            "[14999]\tvalidation_0-rmse:59882596.00000\n"
          ]
        },
        {
          "output_type": "stream",
          "name": "stderr",
          "text": [
            "\u001b[32m[I 2021-09-24 19:02:13,974]\u001b[0m Trial 6 finished with value: 59882597.04416153 and parameters: {'learning_rate': 0.014743497535660007, 'reg_lambda': 0.16801316670775135, 'reg_alpha': 0.005221182364520261, 'subsample': 0.8595305289748592, 'colsample_bytree': 0.46778852891474043, 'max_depth': 6}. Best is trial 6 with value: 59882597.04416153.\u001b[0m\n"
          ]
        },
        {
          "output_type": "stream",
          "name": "stdout",
          "text": [
            "[0]\tvalidation_0-rmse:62930876.00000\n",
            "[1000]\tvalidation_0-rmse:62890968.00000\n",
            "[2000]\tvalidation_0-rmse:64360940.00000\n",
            "[3000]\tvalidation_0-rmse:66504436.00000\n",
            "[4000]\tvalidation_0-rmse:67193984.00000\n",
            "[5000]\tvalidation_0-rmse:66905788.00000\n",
            "[6000]\tvalidation_0-rmse:66646412.00000\n",
            "[7000]\tvalidation_0-rmse:66481668.00000\n",
            "[8000]\tvalidation_0-rmse:67022264.00000\n",
            "[9000]\tvalidation_0-rmse:67553632.00000\n",
            "[10000]\tvalidation_0-rmse:67880144.00000\n",
            "[11000]\tvalidation_0-rmse:68388280.00000\n",
            "[12000]\tvalidation_0-rmse:68651304.00000\n",
            "[13000]\tvalidation_0-rmse:69036928.00000\n",
            "[14000]\tvalidation_0-rmse:69081128.00000\n",
            "[14999]\tvalidation_0-rmse:69087760.00000\n"
          ]
        },
        {
          "output_type": "stream",
          "name": "stderr",
          "text": [
            "\u001b[32m[I 2021-09-24 19:02:23,912]\u001b[0m Trial 7 finished with value: 69087758.71282555 and parameters: {'learning_rate': 0.05039119024742193, 'reg_lambda': 2.6400910837260363e-05, 'reg_alpha': 0.0031791730573513493, 'subsample': 0.15620016171553736, 'colsample_bytree': 0.6369288635024849, 'max_depth': 2}. Best is trial 6 with value: 59882597.04416153.\u001b[0m\n"
          ]
        },
        {
          "output_type": "stream",
          "name": "stdout",
          "text": [
            "[0]\tvalidation_0-rmse:59227032.00000\n",
            "[1000]\tvalidation_0-rmse:57736380.00000\n",
            "[2000]\tvalidation_0-rmse:57736412.00000\n",
            "[3000]\tvalidation_0-rmse:57736444.00000\n",
            "[4000]\tvalidation_0-rmse:57736436.00000\n",
            "[5000]\tvalidation_0-rmse:57736412.00000\n",
            "[6000]\tvalidation_0-rmse:57736392.00000\n",
            "[7000]\tvalidation_0-rmse:57736376.00000\n",
            "[8000]\tvalidation_0-rmse:57736364.00000\n",
            "[9000]\tvalidation_0-rmse:57736308.00000\n",
            "[10000]\tvalidation_0-rmse:57736256.00000\n",
            "[11000]\tvalidation_0-rmse:57736232.00000\n",
            "[12000]\tvalidation_0-rmse:57736216.00000\n",
            "[13000]\tvalidation_0-rmse:57736164.00000\n",
            "[14000]\tvalidation_0-rmse:57736124.00000\n",
            "[14999]\tvalidation_0-rmse:57736080.00000\n"
          ]
        },
        {
          "output_type": "stream",
          "name": "stderr",
          "text": [
            "\u001b[32m[I 2021-09-24 19:02:56,723]\u001b[0m Trial 8 finished with value: 57736082.7602614 and parameters: {'learning_rate': 0.27254954631877526, 'reg_lambda': 6.040631392110914e-06, 'reg_alpha': 0.14408311226623435, 'subsample': 0.9583587951827631, 'colsample_bytree': 0.7268162397255014, 'max_depth': 9}. Best is trial 8 with value: 57736082.7602614.\u001b[0m\n"
          ]
        },
        {
          "output_type": "stream",
          "name": "stdout",
          "text": [
            "[0]\tvalidation_0-rmse:63762568.00000\n",
            "[1000]\tvalidation_0-rmse:61916440.00000\n",
            "[2000]\tvalidation_0-rmse:64097500.00000\n",
            "[3000]\tvalidation_0-rmse:65452664.00000\n",
            "[4000]\tvalidation_0-rmse:66243968.00000\n",
            "[5000]\tvalidation_0-rmse:66814592.00000\n",
            "[6000]\tvalidation_0-rmse:67170088.00000\n",
            "[7000]\tvalidation_0-rmse:67440704.00000\n",
            "[8000]\tvalidation_0-rmse:67598056.00000\n",
            "[9000]\tvalidation_0-rmse:67731248.00000\n",
            "[10000]\tvalidation_0-rmse:67810336.00000\n",
            "[11000]\tvalidation_0-rmse:67876832.00000\n",
            "[12000]\tvalidation_0-rmse:67909352.00000\n",
            "[13000]\tvalidation_0-rmse:67975048.00000\n",
            "[14000]\tvalidation_0-rmse:67990144.00000\n",
            "[14999]\tvalidation_0-rmse:68026128.00000\n"
          ]
        },
        {
          "output_type": "stream",
          "name": "stderr",
          "text": [
            "\u001b[32m[I 2021-09-24 19:03:12,017]\u001b[0m Trial 9 finished with value: 68026135.46604487 and parameters: {'learning_rate': 0.011450528300384274, 'reg_lambda': 0.002103511425617403, 'reg_alpha': 6.064966369912953e-06, 'subsample': 0.4792188683033528, 'colsample_bytree': 0.21371723232930798, 'max_depth': 7}. Best is trial 8 with value: 57736082.7602614.\u001b[0m\n"
          ]
        },
        {
          "output_type": "stream",
          "name": "stdout",
          "text": [
            "[0]\tvalidation_0-rmse:62480340.00000\n",
            "[1000]\tvalidation_0-rmse:55590548.00000\n",
            "[2000]\tvalidation_0-rmse:55590564.00000\n",
            "[3000]\tvalidation_0-rmse:55590600.00000\n",
            "[4000]\tvalidation_0-rmse:55590612.00000\n",
            "[5000]\tvalidation_0-rmse:55590632.00000\n",
            "[6000]\tvalidation_0-rmse:55590628.00000\n",
            "[7000]\tvalidation_0-rmse:55590648.00000\n",
            "[8000]\tvalidation_0-rmse:55590588.00000\n",
            "[9000]\tvalidation_0-rmse:55590552.00000\n",
            "[10000]\tvalidation_0-rmse:55590536.00000\n",
            "[11000]\tvalidation_0-rmse:55590520.00000\n",
            "[12000]\tvalidation_0-rmse:55590468.00000\n",
            "[13000]\tvalidation_0-rmse:55590440.00000\n",
            "[14000]\tvalidation_0-rmse:55590416.00000\n",
            "[14999]\tvalidation_0-rmse:55590396.00000\n"
          ]
        },
        {
          "output_type": "stream",
          "name": "stderr",
          "text": [
            "\u001b[32m[I 2021-09-24 19:03:35,102]\u001b[0m Trial 10 finished with value: 55590391.390720725 and parameters: {'learning_rate': 0.06209225849874633, 'reg_lambda': 1.2637358295474018e-08, 'reg_alpha': 91.5235647978829, 'subsample': 0.9860444479863868, 'colsample_bytree': 0.9777947899850269, 'max_depth': 9}. Best is trial 10 with value: 55590391.390720725.\u001b[0m\n"
          ]
        },
        {
          "output_type": "stream",
          "name": "stdout",
          "text": [
            "[0]\tvalidation_0-rmse:62524780.00000\n",
            "[1000]\tvalidation_0-rmse:54865768.00000\n",
            "[2000]\tvalidation_0-rmse:54865756.00000\n",
            "[3000]\tvalidation_0-rmse:54865780.00000\n",
            "[4000]\tvalidation_0-rmse:54865792.00000\n",
            "[5000]\tvalidation_0-rmse:54865808.00000\n",
            "[6000]\tvalidation_0-rmse:54865800.00000\n",
            "[7000]\tvalidation_0-rmse:54865804.00000\n",
            "[8000]\tvalidation_0-rmse:54865836.00000\n",
            "[9000]\tvalidation_0-rmse:54865856.00000\n",
            "[10000]\tvalidation_0-rmse:54865812.00000\n",
            "[11000]\tvalidation_0-rmse:54865780.00000\n",
            "[12000]\tvalidation_0-rmse:54865744.00000\n",
            "[13000]\tvalidation_0-rmse:54865732.00000\n",
            "[14000]\tvalidation_0-rmse:54865708.00000\n",
            "[14999]\tvalidation_0-rmse:54865720.00000\n"
          ]
        },
        {
          "output_type": "stream",
          "name": "stderr",
          "text": [
            "\u001b[32m[I 2021-09-24 19:04:01,882]\u001b[0m Trial 11 finished with value: 54865718.27538277 and parameters: {'learning_rate': 0.06002486285620892, 'reg_lambda': 1.9812187353034692e-08, 'reg_alpha': 84.1776924236116, 'subsample': 0.9810527664418206, 'colsample_bytree': 0.9945226843956394, 'max_depth': 9}. Best is trial 11 with value: 54865718.27538277.\u001b[0m\n"
          ]
        },
        {
          "output_type": "stream",
          "name": "stdout",
          "text": [
            "[0]\tvalidation_0-rmse:62720640.00000\n",
            "[1000]\tvalidation_0-rmse:57403156.00000\n",
            "[2000]\tvalidation_0-rmse:57403244.00000\n",
            "[3000]\tvalidation_0-rmse:57403340.00000\n",
            "[4000]\tvalidation_0-rmse:57403440.00000\n",
            "[5000]\tvalidation_0-rmse:57403568.00000\n",
            "[6000]\tvalidation_0-rmse:57403692.00000\n",
            "[7000]\tvalidation_0-rmse:57403800.00000\n",
            "[8000]\tvalidation_0-rmse:57403892.00000\n",
            "[9000]\tvalidation_0-rmse:57403980.00000\n",
            "[10000]\tvalidation_0-rmse:57404060.00000\n",
            "[11000]\tvalidation_0-rmse:57404160.00000\n",
            "[12000]\tvalidation_0-rmse:57404272.00000\n",
            "[13000]\tvalidation_0-rmse:57404384.00000\n",
            "[14000]\tvalidation_0-rmse:57404508.00000\n",
            "[14999]\tvalidation_0-rmse:57404596.00000\n"
          ]
        },
        {
          "output_type": "stream",
          "name": "stderr",
          "text": [
            "\u001b[32m[I 2021-09-24 19:04:31,082]\u001b[0m Trial 12 finished with value: 57404594.60359133 and parameters: {'learning_rate': 0.05101163383602175, 'reg_lambda': 2.583974336423819e-08, 'reg_alpha': 25.551710347107136, 'subsample': 0.986435320297871, 'colsample_bytree': 0.992383246952442, 'max_depth': 9}. Best is trial 11 with value: 54865718.27538277.\u001b[0m\n"
          ]
        },
        {
          "output_type": "stream",
          "name": "stdout",
          "text": [
            "[0]\tvalidation_0-rmse:61279328.00000\n",
            "[1000]\tvalidation_0-rmse:57951856.00000\n",
            "[2000]\tvalidation_0-rmse:57951772.00000\n",
            "[3000]\tvalidation_0-rmse:57951680.00000\n",
            "[4000]\tvalidation_0-rmse:57951552.00000\n",
            "[5000]\tvalidation_0-rmse:57951432.00000\n",
            "[6000]\tvalidation_0-rmse:57951308.00000\n",
            "[7000]\tvalidation_0-rmse:57951160.00000\n",
            "[8000]\tvalidation_0-rmse:57951028.00000\n",
            "[9000]\tvalidation_0-rmse:57950904.00000\n",
            "[10000]\tvalidation_0-rmse:57950768.00000\n",
            "[11000]\tvalidation_0-rmse:57950644.00000\n",
            "[12000]\tvalidation_0-rmse:57950520.00000\n",
            "[13000]\tvalidation_0-rmse:57950364.00000\n",
            "[14000]\tvalidation_0-rmse:57950212.00000\n",
            "[14999]\tvalidation_0-rmse:57950088.00000\n"
          ]
        },
        {
          "output_type": "stream",
          "name": "stderr",
          "text": [
            "\u001b[32m[I 2021-09-24 19:04:57,993]\u001b[0m Trial 13 finished with value: 57950088.59015257 and parameters: {'learning_rate': 0.09319419331503646, 'reg_lambda': 4.5195749173009257e-07, 'reg_alpha': 1.3149084173256527, 'subsample': 0.7503026130055832, 'colsample_bytree': 0.8727663446671047, 'max_depth': 9}. Best is trial 11 with value: 54865718.27538277.\u001b[0m\n"
          ]
        },
        {
          "output_type": "stream",
          "name": "stdout",
          "text": [
            "[0]\tvalidation_0-rmse:62888244.00000\n",
            "[1000]\tvalidation_0-rmse:57460768.00000\n",
            "[2000]\tvalidation_0-rmse:57460848.00000\n",
            "[3000]\tvalidation_0-rmse:57460844.00000\n",
            "[4000]\tvalidation_0-rmse:57460844.00000\n",
            "[5000]\tvalidation_0-rmse:57460832.00000\n",
            "[6000]\tvalidation_0-rmse:57460812.00000\n",
            "[7000]\tvalidation_0-rmse:57460780.00000\n",
            "[8000]\tvalidation_0-rmse:57460744.00000\n",
            "[9000]\tvalidation_0-rmse:57460712.00000\n",
            "[10000]\tvalidation_0-rmse:57460680.00000\n",
            "[11000]\tvalidation_0-rmse:57460660.00000\n",
            "[12000]\tvalidation_0-rmse:57460652.00000\n",
            "[13000]\tvalidation_0-rmse:57460640.00000\n",
            "[14000]\tvalidation_0-rmse:57460628.00000\n",
            "[14999]\tvalidation_0-rmse:57460640.00000\n"
          ]
        },
        {
          "output_type": "stream",
          "name": "stderr",
          "text": [
            "\u001b[32m[I 2021-09-24 19:05:25,735]\u001b[0m Trial 14 finished with value: 57460637.90923048 and parameters: {'learning_rate': 0.03578134862818129, 'reg_lambda': 1.645012775278581e-08, 'reg_alpha': 74.38691634712545, 'subsample': 0.8376992130991416, 'colsample_bytree': 0.9989274361774925, 'max_depth': 8}. Best is trial 11 with value: 54865718.27538277.\u001b[0m\n"
          ]
        },
        {
          "output_type": "stream",
          "name": "stdout",
          "text": [
            "[0]\tvalidation_0-rmse:62739416.00000\n",
            "[1000]\tvalidation_0-rmse:61016028.00000\n",
            "[2000]\tvalidation_0-rmse:61016712.00000\n",
            "[3000]\tvalidation_0-rmse:61016708.00000\n",
            "[4000]\tvalidation_0-rmse:61016692.00000\n",
            "[5000]\tvalidation_0-rmse:61016688.00000\n",
            "[6000]\tvalidation_0-rmse:61016684.00000\n",
            "[7000]\tvalidation_0-rmse:61016680.00000\n",
            "[8000]\tvalidation_0-rmse:61016692.00000\n",
            "[9000]\tvalidation_0-rmse:61016692.00000\n",
            "[10000]\tvalidation_0-rmse:61016676.00000\n",
            "[11000]\tvalidation_0-rmse:61016664.00000\n",
            "[12000]\tvalidation_0-rmse:61016656.00000\n",
            "[13000]\tvalidation_0-rmse:61016656.00000\n",
            "[14000]\tvalidation_0-rmse:61016648.00000\n",
            "[14999]\tvalidation_0-rmse:61016652.00000\n"
          ]
        },
        {
          "output_type": "stream",
          "name": "stderr",
          "text": [
            "\u001b[32m[I 2021-09-24 19:05:41,233]\u001b[0m Trial 15 finished with value: 61016653.70922655 and parameters: {'learning_rate': 0.08880078686535825, 'reg_lambda': 3.319483204018596e-06, 'reg_alpha': 3.2037344590762505e-05, 'subsample': 0.647706580967859, 'colsample_bytree': 0.8355374216882426, 'max_depth': 5}. Best is trial 11 with value: 54865718.27538277.\u001b[0m\n"
          ]
        },
        {
          "output_type": "stream",
          "name": "stdout",
          "text": [
            "[0]\tvalidation_0-rmse:62887244.00000\n",
            "[1000]\tvalidation_0-rmse:57020308.00000\n",
            "[2000]\tvalidation_0-rmse:57020500.00000\n",
            "[3000]\tvalidation_0-rmse:57020504.00000\n",
            "[4000]\tvalidation_0-rmse:57020468.00000\n",
            "[5000]\tvalidation_0-rmse:57020408.00000\n",
            "[6000]\tvalidation_0-rmse:57020376.00000\n",
            "[7000]\tvalidation_0-rmse:57020320.00000\n",
            "[8000]\tvalidation_0-rmse:57020260.00000\n",
            "[9000]\tvalidation_0-rmse:57020176.00000\n",
            "[10000]\tvalidation_0-rmse:57020080.00000\n",
            "[11000]\tvalidation_0-rmse:57019996.00000\n",
            "[12000]\tvalidation_0-rmse:57019900.00000\n",
            "[13000]\tvalidation_0-rmse:57019804.00000\n",
            "[14000]\tvalidation_0-rmse:57019736.00000\n",
            "[14999]\tvalidation_0-rmse:57019692.00000\n"
          ]
        },
        {
          "output_type": "stream",
          "name": "stderr",
          "text": [
            "\u001b[32m[I 2021-09-24 19:06:05,929]\u001b[0m Trial 16 finished with value: 57019691.13188762 and parameters: {'learning_rate': 0.030422908691804643, 'reg_lambda': 8.519349047328393e-05, 'reg_alpha': 0.8492385825847317, 'subsample': 0.8741983404332142, 'colsample_bytree': 0.8374277591648183, 'max_depth': 8}. Best is trial 11 with value: 54865718.27538277.\u001b[0m\n"
          ]
        },
        {
          "output_type": "stream",
          "name": "stdout",
          "text": [
            "[0]\tvalidation_0-rmse:63039220.00000\n",
            "[1000]\tvalidation_0-rmse:65947768.00000\n",
            "[2000]\tvalidation_0-rmse:66457960.00000\n",
            "[3000]\tvalidation_0-rmse:66519400.00000\n",
            "[4000]\tvalidation_0-rmse:66531572.00000\n",
            "[5000]\tvalidation_0-rmse:66533664.00000\n",
            "[6000]\tvalidation_0-rmse:66534156.00000\n",
            "[7000]\tvalidation_0-rmse:66534204.00000\n",
            "[8000]\tvalidation_0-rmse:66534172.00000\n",
            "[9000]\tvalidation_0-rmse:66534144.00000\n",
            "[10000]\tvalidation_0-rmse:66534116.00000\n",
            "[11000]\tvalidation_0-rmse:66534072.00000\n",
            "[12000]\tvalidation_0-rmse:66534032.00000\n",
            "[13000]\tvalidation_0-rmse:66533992.00000\n",
            "[14000]\tvalidation_0-rmse:66533948.00000\n",
            "[14999]\tvalidation_0-rmse:66533900.00000\n"
          ]
        },
        {
          "output_type": "stream",
          "name": "stderr",
          "text": [
            "\u001b[32m[I 2021-09-24 19:06:22,456]\u001b[0m Trial 17 finished with value: 66533902.867095366 and parameters: {'learning_rate': 0.06971195499339487, 'reg_lambda': 5.156446879409226e-07, 'reg_alpha': 0.00017613030731184035, 'subsample': 0.7400711230912933, 'colsample_bytree': 0.12630373441486858, 'max_depth': 7}. Best is trial 11 with value: 54865718.27538277.\u001b[0m\n"
          ]
        },
        {
          "output_type": "stream",
          "name": "stdout",
          "text": [
            "[0]\tvalidation_0-rmse:59780772.00000\n",
            "[1000]\tvalidation_0-rmse:61428648.00000\n",
            "[2000]\tvalidation_0-rmse:61437740.00000\n",
            "[3000]\tvalidation_0-rmse:61438128.00000\n",
            "[4000]\tvalidation_0-rmse:61438136.00000\n",
            "[5000]\tvalidation_0-rmse:61438136.00000\n",
            "[6000]\tvalidation_0-rmse:61438128.00000\n",
            "[7000]\tvalidation_0-rmse:61438124.00000\n",
            "[8000]\tvalidation_0-rmse:61438124.00000\n",
            "[9000]\tvalidation_0-rmse:61438116.00000\n",
            "[10000]\tvalidation_0-rmse:61438104.00000\n",
            "[11000]\tvalidation_0-rmse:61438096.00000\n",
            "[12000]\tvalidation_0-rmse:61438092.00000\n",
            "[13000]\tvalidation_0-rmse:61438084.00000\n",
            "[14000]\tvalidation_0-rmse:61438076.00000\n",
            "[14999]\tvalidation_0-rmse:61438072.00000\n"
          ]
        },
        {
          "output_type": "stream",
          "name": "stderr",
          "text": [
            "\u001b[32m[I 2021-09-24 19:06:33,140]\u001b[0m Trial 18 finished with value: 61438071.01846706 and parameters: {'learning_rate': 0.17594974540838898, 'reg_lambda': 2.8174975558609224e-08, 'reg_alpha': 2.320688198344116, 'subsample': 0.972546131476774, 'colsample_bytree': 0.918840109922601, 'max_depth': 3}. Best is trial 11 with value: 54865718.27538277.\u001b[0m\n"
          ]
        },
        {
          "output_type": "stream",
          "name": "stdout",
          "text": [
            "[0]\tvalidation_0-rmse:63663004.00000\n",
            "[1000]\tvalidation_0-rmse:58959820.00000\n",
            "[2000]\tvalidation_0-rmse:58959856.00000\n",
            "[3000]\tvalidation_0-rmse:58959864.00000\n",
            "[4000]\tvalidation_0-rmse:58959856.00000\n",
            "[5000]\tvalidation_0-rmse:58959824.00000\n",
            "[6000]\tvalidation_0-rmse:58959808.00000\n",
            "[7000]\tvalidation_0-rmse:58959796.00000\n",
            "[8000]\tvalidation_0-rmse:58959768.00000\n",
            "[9000]\tvalidation_0-rmse:58959744.00000\n",
            "[10000]\tvalidation_0-rmse:58959736.00000\n",
            "[11000]\tvalidation_0-rmse:58959736.00000\n",
            "[12000]\tvalidation_0-rmse:58959712.00000\n",
            "[13000]\tvalidation_0-rmse:58959700.00000\n",
            "[14000]\tvalidation_0-rmse:58959696.00000\n",
            "[14999]\tvalidation_0-rmse:58959688.00000\n"
          ]
        },
        {
          "output_type": "stream",
          "name": "stderr",
          "text": [
            "\u001b[32m[I 2021-09-24 19:06:58,514]\u001b[0m Trial 19 finished with value: 58959686.8376517 and parameters: {'learning_rate': 0.036776038780801476, 'reg_lambda': 1.2501226693203155e-06, 'reg_alpha': 66.60945449714842, 'subsample': 0.6207336749560822, 'colsample_bytree': 0.7901194074150502, 'max_depth': 9}. Best is trial 11 with value: 54865718.27538277.\u001b[0m\n"
          ]
        },
        {
          "output_type": "stream",
          "name": "stdout",
          "text": [
            "[0]\tvalidation_0-rmse:63237840.00000\n",
            "[1000]\tvalidation_0-rmse:60356844.00000\n",
            "[2000]\tvalidation_0-rmse:61031700.00000\n",
            "[3000]\tvalidation_0-rmse:61338732.00000\n",
            "[4000]\tvalidation_0-rmse:61476000.00000\n",
            "[5000]\tvalidation_0-rmse:61561336.00000\n",
            "[6000]\tvalidation_0-rmse:61605356.00000\n",
            "[7000]\tvalidation_0-rmse:61640204.00000\n",
            "[8000]\tvalidation_0-rmse:61657036.00000\n",
            "[9000]\tvalidation_0-rmse:61665588.00000\n",
            "[10000]\tvalidation_0-rmse:61668636.00000\n",
            "[11000]\tvalidation_0-rmse:61672668.00000\n",
            "[12000]\tvalidation_0-rmse:61675008.00000\n",
            "[13000]\tvalidation_0-rmse:61675720.00000\n",
            "[14000]\tvalidation_0-rmse:61676232.00000\n",
            "[14999]\tvalidation_0-rmse:61676684.00000\n"
          ]
        },
        {
          "output_type": "stream",
          "name": "stderr",
          "text": [
            "\u001b[32m[I 2021-09-24 19:07:13,149]\u001b[0m Trial 20 finished with value: 61676683.392741755 and parameters: {'learning_rate': 0.06347587199617483, 'reg_lambda': 57.91553092889665, 'reg_alpha': 0.18288818907069518, 'subsample': 0.8987063921658028, 'colsample_bytree': 0.5844100119757558, 'max_depth': 5}. Best is trial 11 with value: 54865718.27538277.\u001b[0m\n"
          ]
        },
        {
          "output_type": "stream",
          "name": "stdout",
          "text": [
            "[0]\tvalidation_0-rmse:63153452.00000\n",
            "[1000]\tvalidation_0-rmse:57023852.00000\n",
            "[2000]\tvalidation_0-rmse:57024236.00000\n",
            "[3000]\tvalidation_0-rmse:57024284.00000\n",
            "[4000]\tvalidation_0-rmse:57024312.00000\n",
            "[5000]\tvalidation_0-rmse:57024348.00000\n",
            "[6000]\tvalidation_0-rmse:57024396.00000\n",
            "[7000]\tvalidation_0-rmse:57024432.00000\n",
            "[8000]\tvalidation_0-rmse:57024460.00000\n",
            "[9000]\tvalidation_0-rmse:57024464.00000\n",
            "[10000]\tvalidation_0-rmse:57024420.00000\n",
            "[11000]\tvalidation_0-rmse:57024384.00000\n",
            "[12000]\tvalidation_0-rmse:57024364.00000\n",
            "[13000]\tvalidation_0-rmse:57024320.00000\n",
            "[14000]\tvalidation_0-rmse:57024284.00000\n",
            "[14999]\tvalidation_0-rmse:57024272.00000\n"
          ]
        },
        {
          "output_type": "stream",
          "name": "stderr",
          "text": [
            "\u001b[32m[I 2021-09-24 19:07:37,621]\u001b[0m Trial 21 finished with value: 57024269.32247681 and parameters: {'learning_rate': 0.029318863530953195, 'reg_lambda': 7.339176793443866e-05, 'reg_alpha': 2.243566352580887, 'subsample': 0.8817954228300275, 'colsample_bytree': 0.941937847356592, 'max_depth': 8}. Best is trial 11 with value: 54865718.27538277.\u001b[0m\n"
          ]
        },
        {
          "output_type": "stream",
          "name": "stdout",
          "text": [
            "[0]\tvalidation_0-rmse:63249280.00000\n",
            "[1000]\tvalidation_0-rmse:57534652.00000\n",
            "[2000]\tvalidation_0-rmse:57536952.00000\n",
            "[3000]\tvalidation_0-rmse:57536980.00000\n",
            "[4000]\tvalidation_0-rmse:57536976.00000\n",
            "[5000]\tvalidation_0-rmse:57536944.00000\n",
            "[6000]\tvalidation_0-rmse:57536932.00000\n",
            "[7000]\tvalidation_0-rmse:57536900.00000\n",
            "[8000]\tvalidation_0-rmse:57536872.00000\n",
            "[9000]\tvalidation_0-rmse:57536832.00000\n",
            "[10000]\tvalidation_0-rmse:57536796.00000\n",
            "[11000]\tvalidation_0-rmse:57536764.00000\n",
            "[12000]\tvalidation_0-rmse:57536728.00000\n",
            "[13000]\tvalidation_0-rmse:57536704.00000\n",
            "[14000]\tvalidation_0-rmse:57536672.00000\n",
            "[14999]\tvalidation_0-rmse:57536644.00000\n"
          ]
        },
        {
          "output_type": "stream",
          "name": "stderr",
          "text": [
            "\u001b[32m[I 2021-09-24 19:08:02,534]\u001b[0m Trial 22 finished with value: 57536643.244429834 and parameters: {'learning_rate': 0.023157584640473364, 'reg_lambda': 1.6034285606535744e-07, 'reg_alpha': 8.298590094275736, 'subsample': 0.8061844822511057, 'colsample_bytree': 0.8010564037276471, 'max_depth': 8}. Best is trial 11 with value: 54865718.27538277.\u001b[0m\n"
          ]
        },
        {
          "output_type": "stream",
          "name": "stdout",
          "text": [
            "[0]\tvalidation_0-rmse:62900352.00000\n",
            "[1000]\tvalidation_0-rmse:57149540.00000\n",
            "[2000]\tvalidation_0-rmse:57149592.00000\n",
            "[3000]\tvalidation_0-rmse:57149608.00000\n",
            "[4000]\tvalidation_0-rmse:57149604.00000\n",
            "[5000]\tvalidation_0-rmse:57149604.00000\n",
            "[6000]\tvalidation_0-rmse:57149584.00000\n",
            "[7000]\tvalidation_0-rmse:57149576.00000\n",
            "[8000]\tvalidation_0-rmse:57149572.00000\n",
            "[9000]\tvalidation_0-rmse:57149580.00000\n",
            "[10000]\tvalidation_0-rmse:57149592.00000\n",
            "[11000]\tvalidation_0-rmse:57149632.00000\n",
            "[12000]\tvalidation_0-rmse:57149676.00000\n",
            "[13000]\tvalidation_0-rmse:57149692.00000\n",
            "[14000]\tvalidation_0-rmse:57149740.00000\n",
            "[14999]\tvalidation_0-rmse:57149796.00000\n"
          ]
        },
        {
          "output_type": "stream",
          "name": "stderr",
          "text": [
            "\u001b[32m[I 2021-09-24 19:08:39,681]\u001b[0m Trial 23 finished with value: 57149792.560652696 and parameters: {'learning_rate': 0.04284958248633818, 'reg_lambda': 3.1012054043097384e-05, 'reg_alpha': 0.37024876870563134, 'subsample': 0.986447620899942, 'colsample_bytree': 0.9954936372062311, 'max_depth': 9}. Best is trial 11 with value: 54865718.27538277.\u001b[0m\n"
          ]
        },
        {
          "output_type": "stream",
          "name": "stdout",
          "text": [
            "[0]\tvalidation_0-rmse:63348516.00000\n",
            "[1000]\tvalidation_0-rmse:58052136.00000\n",
            "[2000]\tvalidation_0-rmse:58052776.00000\n",
            "[3000]\tvalidation_0-rmse:58052776.00000\n",
            "[4000]\tvalidation_0-rmse:58052808.00000\n",
            "[5000]\tvalidation_0-rmse:58052832.00000\n",
            "[6000]\tvalidation_0-rmse:58052876.00000\n",
            "[7000]\tvalidation_0-rmse:58052892.00000\n",
            "[8000]\tvalidation_0-rmse:58052876.00000\n",
            "[9000]\tvalidation_0-rmse:58052872.00000\n",
            "[10000]\tvalidation_0-rmse:58052864.00000\n",
            "[11000]\tvalidation_0-rmse:58052872.00000\n",
            "[12000]\tvalidation_0-rmse:58052848.00000\n",
            "[13000]\tvalidation_0-rmse:58052832.00000\n",
            "[14000]\tvalidation_0-rmse:58052820.00000\n",
            "[14999]\tvalidation_0-rmse:58052800.00000\n"
          ]
        },
        {
          "output_type": "stream",
          "name": "stderr",
          "text": [
            "\u001b[32m[I 2021-09-24 19:09:04,109]\u001b[0m Trial 24 finished with value: 58052801.44858329 and parameters: {'learning_rate': 0.025979426782921266, 'reg_lambda': 1.2423620690717319e-08, 'reg_alpha': 93.0437979779733, 'subsample': 0.9139529607628968, 'colsample_bytree': 0.7883858598560325, 'max_depth': 8}. Best is trial 11 with value: 54865718.27538277.\u001b[0m\n"
          ]
        },
        {
          "output_type": "stream",
          "name": "stdout",
          "text": [
            "[0]\tvalidation_0-rmse:62269036.00000\n",
            "[1000]\tvalidation_0-rmse:59245352.00000\n",
            "[2000]\tvalidation_0-rmse:59245324.00000\n",
            "[3000]\tvalidation_0-rmse:59245324.00000\n",
            "[4000]\tvalidation_0-rmse:59245316.00000\n",
            "[5000]\tvalidation_0-rmse:59245316.00000\n",
            "[6000]\tvalidation_0-rmse:59245304.00000\n",
            "[7000]\tvalidation_0-rmse:59245268.00000\n",
            "[8000]\tvalidation_0-rmse:59245244.00000\n",
            "[9000]\tvalidation_0-rmse:59245216.00000\n",
            "[10000]\tvalidation_0-rmse:59245200.00000\n",
            "[11000]\tvalidation_0-rmse:59245180.00000\n",
            "[12000]\tvalidation_0-rmse:59245168.00000\n",
            "[13000]\tvalidation_0-rmse:59245152.00000\n",
            "[14000]\tvalidation_0-rmse:59245144.00000\n",
            "[14999]\tvalidation_0-rmse:59245136.00000\n"
          ]
        },
        {
          "output_type": "stream",
          "name": "stderr",
          "text": [
            "\u001b[32m[I 2021-09-24 19:09:20,446]\u001b[0m Trial 25 finished with value: 59245134.870501176 and parameters: {'learning_rate': 0.07356762767406455, 'reg_lambda': 9.43537019827095e-08, 'reg_alpha': 6.6534963391140405, 'subsample': 0.7994095895578022, 'colsample_bytree': 0.9184948172304699, 'max_depth': 6}. Best is trial 11 with value: 54865718.27538277.\u001b[0m\n"
          ]
        },
        {
          "output_type": "stream",
          "name": "stdout",
          "text": [
            "[0]\tvalidation_0-rmse:60505496.00000\n",
            "[1000]\tvalidation_0-rmse:57017548.00000\n",
            "[2000]\tvalidation_0-rmse:57017548.00000\n",
            "[3000]\tvalidation_0-rmse:57017536.00000\n",
            "[4000]\tvalidation_0-rmse:57017500.00000\n",
            "[5000]\tvalidation_0-rmse:57017456.00000\n",
            "[6000]\tvalidation_0-rmse:57017416.00000\n",
            "[7000]\tvalidation_0-rmse:57017352.00000\n",
            "[8000]\tvalidation_0-rmse:57017320.00000\n",
            "[9000]\tvalidation_0-rmse:57017260.00000\n",
            "[10000]\tvalidation_0-rmse:57017204.00000\n",
            "[11000]\tvalidation_0-rmse:57017152.00000\n",
            "[12000]\tvalidation_0-rmse:57017072.00000\n",
            "[13000]\tvalidation_0-rmse:57017008.00000\n",
            "[14000]\tvalidation_0-rmse:57016948.00000\n",
            "[14999]\tvalidation_0-rmse:57016888.00000\n"
          ]
        },
        {
          "output_type": "stream",
          "name": "stderr",
          "text": [
            "\u001b[32m[I 2021-09-24 19:09:40,798]\u001b[0m Trial 26 finished with value: 57016889.18071951 and parameters: {'learning_rate': 0.1223752666585375, 'reg_lambda': 0.00042033513905053067, 'reg_alpha': 0.03733318241822445, 'subsample': 0.6768845670095476, 'colsample_bytree': 0.846071734142313, 'max_depth': 7}. Best is trial 11 with value: 54865718.27538277.\u001b[0m\n"
          ]
        },
        {
          "output_type": "stream",
          "name": "stdout",
          "text": [
            "[0]\tvalidation_0-rmse:62684072.00000\n",
            "[1000]\tvalidation_0-rmse:63668920.00000\n",
            "[2000]\tvalidation_0-rmse:63668908.00000\n",
            "[3000]\tvalidation_0-rmse:63668860.00000\n",
            "[4000]\tvalidation_0-rmse:63668812.00000\n",
            "[5000]\tvalidation_0-rmse:63668764.00000\n",
            "[6000]\tvalidation_0-rmse:63668716.00000\n",
            "[7000]\tvalidation_0-rmse:63668680.00000\n",
            "[8000]\tvalidation_0-rmse:63668668.00000\n",
            "[9000]\tvalidation_0-rmse:63668632.00000\n",
            "[10000]\tvalidation_0-rmse:63668612.00000\n",
            "[11000]\tvalidation_0-rmse:63668568.00000\n",
            "[12000]\tvalidation_0-rmse:63668552.00000\n",
            "[13000]\tvalidation_0-rmse:63668528.00000\n",
            "[14000]\tvalidation_0-rmse:63668488.00000\n",
            "[14999]\tvalidation_0-rmse:63668472.00000\n"
          ]
        },
        {
          "output_type": "stream",
          "name": "stderr",
          "text": [
            "\u001b[32m[I 2021-09-24 19:10:00,360]\u001b[0m Trial 27 finished with value: 63668469.97240189 and parameters: {'learning_rate': 0.14985789186639248, 'reg_lambda': 0.0011682941529796462, 'reg_alpha': 1.977366719428345e-06, 'subsample': 0.5317630003850818, 'colsample_bytree': 0.9379171801443036, 'max_depth': 7}. Best is trial 11 with value: 54865718.27538277.\u001b[0m\n"
          ]
        },
        {
          "output_type": "stream",
          "name": "stdout",
          "text": [
            "[0]\tvalidation_0-rmse:62745292.00000\n",
            "[1000]\tvalidation_0-rmse:61991896.00000\n",
            "[2000]\tvalidation_0-rmse:61991856.00000\n",
            "[3000]\tvalidation_0-rmse:61991816.00000\n",
            "[4000]\tvalidation_0-rmse:61991784.00000\n",
            "[5000]\tvalidation_0-rmse:61991752.00000\n",
            "[6000]\tvalidation_0-rmse:61991700.00000\n",
            "[7000]\tvalidation_0-rmse:61991652.00000\n",
            "[8000]\tvalidation_0-rmse:61991612.00000\n",
            "[9000]\tvalidation_0-rmse:61991576.00000\n",
            "[10000]\tvalidation_0-rmse:61991536.00000\n",
            "[11000]\tvalidation_0-rmse:61991488.00000\n",
            "[12000]\tvalidation_0-rmse:61991444.00000\n",
            "[13000]\tvalidation_0-rmse:61991396.00000\n",
            "[14000]\tvalidation_0-rmse:61991332.00000\n",
            "[14999]\tvalidation_0-rmse:61991288.00000\n"
          ]
        },
        {
          "output_type": "stream",
          "name": "stderr",
          "text": [
            "\u001b[32m[I 2021-09-24 19:10:19,748]\u001b[0m Trial 28 finished with value: 61991286.28116705 and parameters: {'learning_rate': 0.12281145108111655, 'reg_lambda': 8.115066618208779e-06, 'reg_alpha': 0.0001588508429419055, 'subsample': 0.6550226071315536, 'colsample_bytree': 0.8620966350797294, 'max_depth': 7}. Best is trial 11 with value: 54865718.27538277.\u001b[0m\n"
          ]
        },
        {
          "output_type": "stream",
          "name": "stdout",
          "text": [
            "[0]\tvalidation_0-rmse:62909280.00000\n",
            "[1000]\tvalidation_0-rmse:71685512.00000\n",
            "[2000]\tvalidation_0-rmse:73179296.00000\n",
            "[3000]\tvalidation_0-rmse:73478416.00000\n",
            "[4000]\tvalidation_0-rmse:73470024.00000\n",
            "[5000]\tvalidation_0-rmse:73483064.00000\n",
            "[6000]\tvalidation_0-rmse:73500176.00000\n",
            "[7000]\tvalidation_0-rmse:73503520.00000\n",
            "[8000]\tvalidation_0-rmse:73504936.00000\n",
            "[9000]\tvalidation_0-rmse:73505128.00000\n",
            "[10000]\tvalidation_0-rmse:73504832.00000\n",
            "[11000]\tvalidation_0-rmse:73504944.00000\n",
            "[12000]\tvalidation_0-rmse:73504976.00000\n",
            "[13000]\tvalidation_0-rmse:73505000.00000\n",
            "[14000]\tvalidation_0-rmse:73505032.00000\n",
            "[14999]\tvalidation_0-rmse:73505064.00000\n"
          ]
        },
        {
          "output_type": "stream",
          "name": "stderr",
          "text": [
            "\u001b[32m[I 2021-09-24 19:10:33,430]\u001b[0m Trial 29 finished with value: 73505062.84390947 and parameters: {'learning_rate': 0.11012933657851579, 'reg_lambda': 1.1878486510686572, 'reg_alpha': 0.037580118119157804, 'subsample': 0.40191188333015293, 'colsample_bytree': 0.2866551258348556, 'max_depth': 6}. Best is trial 11 with value: 54865718.27538277.\u001b[0m\n"
          ]
        }
      ],
      "metadata": {
        "colab": {
          "base_uri": "https://localhost:8080/",
          "height": 1000
        },
        "id": "pJBaGWNZe_Aq",
        "outputId": "5c1cac4e-5b4f-4b39-f893-ab2662e33552"
      }
    },
    {
      "cell_type": "code",
      "execution_count": 26,
      "source": [
        "final_predictions = []\r\n",
        "scores = []\r\n",
        "for fold in range(5):\r\n",
        "    xtrain =  df[df.kfold != fold].reset_index(drop=True)\r\n",
        "    xvalid = df[df.kfold == fold].reset_index(drop=True)\r\n",
        "    xtest = df_test.copy()\r\n",
        "\r\n",
        "    ytrain = xtrain['Production Quantity - tonnes']\r\n",
        "    yvalid = xvalid['Production Quantity - tonnes']\r\n",
        "    \r\n",
        "    xtrain = xtrain[useful_features]\r\n",
        "    xvalid = xvalid[useful_features]\r\n",
        "    \r\n",
        "    ordinal_encoder = preprocessing.OrdinalEncoder()\r\n",
        "    xtrain[object_cols] = ordinal_encoder.fit_transform(xtrain[object_cols])\r\n",
        "    xvalid[object_cols] = ordinal_encoder.transform(xvalid[object_cols])\r\n",
        "    xtest[object_cols] = ordinal_encoder.transform(xtest[object_cols])\r\n",
        "    \r\n",
        "    scaler = preprocessing.StandardScaler()\r\n",
        "    xtrain[numerical_cols] = scaler.fit_transform(xtrain[numerical_cols])\r\n",
        "    xvalid[numerical_cols] = scaler.transform(xvalid[numerical_cols])\r\n",
        "    xtest[numerical_cols] = scaler.transform(xtest[numerical_cols])\r\n",
        "    \r\n",
        "    model = XGBRegressor(random_state=fold ,\r\n",
        "        n_estimators=15000,)\r\n",
        "    model.fit(xtrain, ytrain)\r\n",
        "    preds_valid = model.predict(xvalid)\r\n",
        "    test_preds = model.predict(xtest)\r\n",
        "    final_predictions.append(test_preds)\r\n",
        "    rmse = mean_squared_error(yvalid, preds_valid, squared=False)\r\n",
        "    print(fold, rmse)\r\n",
        "    scores.append(rmse)\r\n",
        "\r\n",
        "print(np.mean(scores), np.std(scores))"
      ],
      "outputs": [
        {
          "output_type": "stream",
          "name": "stdout",
          "text": [
            "0 60797282.83171635\n",
            "1 68001724.21187364\n",
            "2 52042757.99662144\n",
            "3 68648573.6245918\n",
            "4 76884976.76979433\n",
            "65275063.08691951 8351643.718197534\n"
          ]
        }
      ],
      "metadata": {
        "colab": {
          "base_uri": "https://localhost:8080/"
        },
        "id": "yKlqVxOtfJnq",
        "outputId": "42f1f6fa-4ff8-4e69-904e-1a907b970124"
      }
    },
    {
      "cell_type": "code",
      "execution_count": 37,
      "source": [
        "df.head()"
      ],
      "outputs": [
        {
          "output_type": "execute_result",
          "data": {
            "text/html": [
              "<div>\n",
              "<style scoped>\n",
              "    .dataframe tbody tr th:only-of-type {\n",
              "        vertical-align: middle;\n",
              "    }\n",
              "\n",
              "    .dataframe tbody tr th {\n",
              "        vertical-align: top;\n",
              "    }\n",
              "\n",
              "    .dataframe thead th {\n",
              "        text-align: right;\n",
              "    }\n",
              "</style>\n",
              "<table border=\"1\" class=\"dataframe\">\n",
              "  <thead>\n",
              "    <tr style=\"text-align: right;\">\n",
              "      <th></th>\n",
              "      <th>Crop</th>\n",
              "      <th>year</th>\n",
              "      <th>Area Harvested - Ha</th>\n",
              "      <th>Production Quantity - tonnes</th>\n",
              "      <th>Yield - Hg/Ha</th>\n",
              "      <th>kfold</th>\n",
              "      <th>tar_enc_Crop</th>\n",
              "    </tr>\n",
              "  </thead>\n",
              "  <tbody>\n",
              "    <tr>\n",
              "      <th>0</th>\n",
              "      <td>tomato</td>\n",
              "      <td>1970</td>\n",
              "      <td>224500</td>\n",
              "      <td>110001008</td>\n",
              "      <td>200541</td>\n",
              "      <td>0</td>\n",
              "      <td>2.869614e+07</td>\n",
              "    </tr>\n",
              "    <tr>\n",
              "      <th>1</th>\n",
              "      <td>green_pea</td>\n",
              "      <td>1990</td>\n",
              "      <td>3312000</td>\n",
              "      <td>15100000</td>\n",
              "      <td>10456</td>\n",
              "      <td>0</td>\n",
              "      <td>2.071124e+07</td>\n",
              "    </tr>\n",
              "    <tr>\n",
              "      <th>2</th>\n",
              "      <td>maize</td>\n",
              "      <td>2002</td>\n",
              "      <td>5896700</td>\n",
              "      <td>419002</td>\n",
              "      <td>72506</td>\n",
              "      <td>0</td>\n",
              "      <td>4.266453e+07</td>\n",
              "    </tr>\n",
              "    <tr>\n",
              "      <th>3</th>\n",
              "      <td>maize</td>\n",
              "      <td>1980</td>\n",
              "      <td>413000</td>\n",
              "      <td>1576800</td>\n",
              "      <td>157391</td>\n",
              "      <td>0</td>\n",
              "      <td>4.266453e+07</td>\n",
              "    </tr>\n",
              "    <tr>\n",
              "      <th>4</th>\n",
              "      <td>tea</td>\n",
              "      <td>1998</td>\n",
              "      <td>5863100</td>\n",
              "      <td>1200000</td>\n",
              "      <td>17111</td>\n",
              "      <td>0</td>\n",
              "      <td>2.628405e+07</td>\n",
              "    </tr>\n",
              "  </tbody>\n",
              "</table>\n",
              "</div>"
            ],
            "text/plain": [
              "        Crop  year  Area Harvested - Ha  Production Quantity - tonnes  \\\n",
              "0     tomato  1970               224500                     110001008   \n",
              "1  green_pea  1990              3312000                      15100000   \n",
              "2      maize  2002              5896700                        419002   \n",
              "3      maize  1980               413000                       1576800   \n",
              "4        tea  1998              5863100                       1200000   \n",
              "\n",
              "   Yield - Hg/Ha  kfold  tar_enc_Crop  \n",
              "0         200541      0  2.869614e+07  \n",
              "1          10456      0  2.071124e+07  \n",
              "2          72506      0  4.266453e+07  \n",
              "3         157391      0  4.266453e+07  \n",
              "4          17111      0  2.628405e+07  "
            ]
          },
          "metadata": {},
          "execution_count": 37
        }
      ],
      "metadata": {
        "colab": {
          "base_uri": "https://localhost:8080/",
          "height": 204
        },
        "id": "Mczdd-hMgAdh",
        "outputId": "9bf4c96b-5325-463b-cef8-7f16839584e4"
      }
    },
    {
      "cell_type": "markdown",
      "source": [
        "# eda for the given data\n"
      ],
      "metadata": {
        "id": "3FqjuYBCHF0k"
      }
    },
    {
      "cell_type": "code",
      "execution_count": 28,
      "source": [
        "df['Yield - Hg/Ha'].corr(df['Production Quantity - tonnes'])"
      ],
      "outputs": [
        {
          "output_type": "execute_result",
          "data": {
            "text/plain": [
              "0.08025820736465311"
            ]
          },
          "metadata": {},
          "execution_count": 28
        }
      ],
      "metadata": {
        "colab": {
          "base_uri": "https://localhost:8080/"
        },
        "id": "zrVymnAHhT5Q",
        "outputId": "78390a86-fb81-4c26-8d0f-5263ae80e6cb"
      }
    },
    {
      "cell_type": "code",
      "execution_count": 29,
      "source": [
        "df2 = df[df.Crop == 'tea']"
      ],
      "outputs": [],
      "metadata": {
        "id": "vVGGus-ahcQu"
      }
    },
    {
      "cell_type": "code",
      "execution_count": 30,
      "source": [
        "df2['Area Harvested - Ha'].corr(df2['Production Quantity - tonnes'])"
      ],
      "outputs": [
        {
          "output_type": "execute_result",
          "data": {
            "text/plain": [
              "-0.16706318647398397"
            ]
          },
          "metadata": {},
          "execution_count": 30
        }
      ],
      "metadata": {
        "colab": {
          "base_uri": "https://localhost:8080/"
        },
        "id": "HygC07Hfh42y",
        "outputId": "ca10d2c1-091e-4cf4-bfb5-89c1368f1a53"
      }
    },
    {
      "cell_type": "code",
      "execution_count": 31,
      "source": [
        "for i in df.Crop.unique():\r\n",
        "  df2 = df[df.Crop == i]\r\n",
        "  l = df2['Yield - Hg/Ha'].corr(df2['Production Quantity - tonnes'])\r\n",
        "  print(l\r\n",
        "        )\r\n",
        "\r\n"
      ],
      "outputs": [
        {
          "output_type": "stream",
          "name": "stdout",
          "text": [
            "-0.0556251730090756\n",
            "-0.03240286028076761\n",
            "0.03806706919871063\n",
            "0.1465831531130699\n",
            "0.47441591455107546\n",
            "0.03573819369819891\n",
            "-0.2019979797536958\n",
            "0.04317165203053652\n",
            "-0.10243049546312755\n",
            "-0.025463353486695286\n",
            "0.182368551140221\n",
            "0.5212633671736154\n",
            "-0.1527064884113852\n",
            "-0.011220681033469435\n"
          ]
        }
      ],
      "metadata": {
        "colab": {
          "base_uri": "https://localhost:8080/"
        },
        "id": "9BaeOq-lh9zO",
        "outputId": "86beca4c-ddd6-479c-ffd3-e8aa4ea496ba"
      }
    },
    {
      "cell_type": "code",
      "execution_count": 32,
      "source": [
        "for i in df.Crop.unique():\r\n",
        "  df2 = df[df.Crop == i]\r\n",
        "  l = df2['Area Harvested - Ha'].corr(df2['Yield - Hg/Ha'])\r\n",
        "  print(l)"
      ],
      "outputs": [
        {
          "output_type": "stream",
          "name": "stdout",
          "text": [
            "-0.11042555631275923\n",
            "0.13236639934193772\n",
            "-0.15193165323708976\n",
            "-0.0871309361762539\n",
            "-0.11683283811565792\n",
            "-0.1880762746417556\n",
            "0.07635981388699761\n",
            "-0.02933326950447561\n",
            "-0.07286318957480281\n",
            "-0.2726888396140149\n",
            "-0.11374252714514736\n",
            "0.43292804809568175\n",
            "-0.1534989417164044\n",
            "-0.055358536257110125\n"
          ]
        }
      ],
      "metadata": {
        "colab": {
          "base_uri": "https://localhost:8080/"
        },
        "id": "hyXkSbc1iHPu",
        "outputId": "a1774e7d-e607-437e-ed97-a16d5fb14379"
      }
    },
    {
      "cell_type": "code",
      "execution_count": 33,
      "source": [
        "df2.head()"
      ],
      "outputs": [
        {
          "output_type": "execute_result",
          "data": {
            "text/html": [
              "<div>\n",
              "<style scoped>\n",
              "    .dataframe tbody tr th:only-of-type {\n",
              "        vertical-align: middle;\n",
              "    }\n",
              "\n",
              "    .dataframe tbody tr th {\n",
              "        vertical-align: top;\n",
              "    }\n",
              "\n",
              "    .dataframe thead th {\n",
              "        text-align: right;\n",
              "    }\n",
              "</style>\n",
              "<table border=\"1\" class=\"dataframe\">\n",
              "  <thead>\n",
              "    <tr style=\"text-align: right;\">\n",
              "      <th></th>\n",
              "      <th>Crop</th>\n",
              "      <th>year</th>\n",
              "      <th>Area Harvested - Ha</th>\n",
              "      <th>Production Quantity - tonnes</th>\n",
              "      <th>Yield - Hg/Ha</th>\n",
              "      <th>kfold</th>\n",
              "      <th>tar_enc_Crop</th>\n",
              "    </tr>\n",
              "  </thead>\n",
              "  <tbody>\n",
              "    <tr>\n",
              "      <th>66</th>\n",
              "      <td>sugarcane</td>\n",
              "      <td>1995</td>\n",
              "      <td>5600</td>\n",
              "      <td>2386776</td>\n",
              "      <td>88709</td>\n",
              "      <td>0</td>\n",
              "      <td>2.667981e+07</td>\n",
              "    </tr>\n",
              "    <tr>\n",
              "      <th>80</th>\n",
              "      <td>sugarcane</td>\n",
              "      <td>1978</td>\n",
              "      <td>115000</td>\n",
              "      <td>620800</td>\n",
              "      <td>15178</td>\n",
              "      <td>0</td>\n",
              "      <td>2.667981e+07</td>\n",
              "    </tr>\n",
              "    <tr>\n",
              "      <th>87</th>\n",
              "      <td>sugarcane</td>\n",
              "      <td>2006</td>\n",
              "      <td>849000</td>\n",
              "      <td>478271</td>\n",
              "      <td>16094</td>\n",
              "      <td>0</td>\n",
              "      <td>2.667981e+07</td>\n",
              "    </tr>\n",
              "    <tr>\n",
              "      <th>101</th>\n",
              "      <td>sugarcane</td>\n",
              "      <td>1979</td>\n",
              "      <td>6800</td>\n",
              "      <td>4580000</td>\n",
              "      <td>21599</td>\n",
              "      <td>0</td>\n",
              "      <td>2.667981e+07</td>\n",
              "    </tr>\n",
              "    <tr>\n",
              "      <th>31</th>\n",
              "      <td>sugarcane</td>\n",
              "      <td>2005</td>\n",
              "      <td>361663</td>\n",
              "      <td>815387</td>\n",
              "      <td>14913</td>\n",
              "      <td>1</td>\n",
              "      <td>3.180641e+07</td>\n",
              "    </tr>\n",
              "  </tbody>\n",
              "</table>\n",
              "</div>"
            ],
            "text/plain": [
              "          Crop  year  Area Harvested - Ha  Production Quantity - tonnes  \\\n",
              "66   sugarcane  1995                 5600                       2386776   \n",
              "80   sugarcane  1978               115000                        620800   \n",
              "87   sugarcane  2006               849000                        478271   \n",
              "101  sugarcane  1979                 6800                       4580000   \n",
              "31   sugarcane  2005               361663                        815387   \n",
              "\n",
              "     Yield - Hg/Ha  kfold  tar_enc_Crop  \n",
              "66           88709      0  2.667981e+07  \n",
              "80           15178      0  2.667981e+07  \n",
              "87           16094      0  2.667981e+07  \n",
              "101          21599      0  2.667981e+07  \n",
              "31           14913      1  3.180641e+07  "
            ]
          },
          "metadata": {},
          "execution_count": 33
        }
      ],
      "metadata": {
        "colab": {
          "base_uri": "https://localhost:8080/",
          "height": 204
        },
        "id": "sdztTB3aizQF",
        "outputId": "4155b411-2c1c-4341-f22e-a3e07ae4413d"
      }
    },
    {
      "cell_type": "code",
      "execution_count": 34,
      "source": [
        "df.head()"
      ],
      "outputs": [
        {
          "output_type": "execute_result",
          "data": {
            "text/html": [
              "<div>\n",
              "<style scoped>\n",
              "    .dataframe tbody tr th:only-of-type {\n",
              "        vertical-align: middle;\n",
              "    }\n",
              "\n",
              "    .dataframe tbody tr th {\n",
              "        vertical-align: top;\n",
              "    }\n",
              "\n",
              "    .dataframe thead th {\n",
              "        text-align: right;\n",
              "    }\n",
              "</style>\n",
              "<table border=\"1\" class=\"dataframe\">\n",
              "  <thead>\n",
              "    <tr style=\"text-align: right;\">\n",
              "      <th></th>\n",
              "      <th>Crop</th>\n",
              "      <th>year</th>\n",
              "      <th>Area Harvested - Ha</th>\n",
              "      <th>Production Quantity - tonnes</th>\n",
              "      <th>Yield - Hg/Ha</th>\n",
              "      <th>kfold</th>\n",
              "      <th>tar_enc_Crop</th>\n",
              "    </tr>\n",
              "  </thead>\n",
              "  <tbody>\n",
              "    <tr>\n",
              "      <th>0</th>\n",
              "      <td>tomato</td>\n",
              "      <td>1970</td>\n",
              "      <td>224500</td>\n",
              "      <td>110001008</td>\n",
              "      <td>200541</td>\n",
              "      <td>0</td>\n",
              "      <td>2.869614e+07</td>\n",
              "    </tr>\n",
              "    <tr>\n",
              "      <th>1</th>\n",
              "      <td>green_pea</td>\n",
              "      <td>1990</td>\n",
              "      <td>3312000</td>\n",
              "      <td>15100000</td>\n",
              "      <td>10456</td>\n",
              "      <td>0</td>\n",
              "      <td>2.071124e+07</td>\n",
              "    </tr>\n",
              "    <tr>\n",
              "      <th>2</th>\n",
              "      <td>maize</td>\n",
              "      <td>2002</td>\n",
              "      <td>5896700</td>\n",
              "      <td>419002</td>\n",
              "      <td>72506</td>\n",
              "      <td>0</td>\n",
              "      <td>4.266453e+07</td>\n",
              "    </tr>\n",
              "    <tr>\n",
              "      <th>3</th>\n",
              "      <td>maize</td>\n",
              "      <td>1980</td>\n",
              "      <td>413000</td>\n",
              "      <td>1576800</td>\n",
              "      <td>157391</td>\n",
              "      <td>0</td>\n",
              "      <td>4.266453e+07</td>\n",
              "    </tr>\n",
              "    <tr>\n",
              "      <th>4</th>\n",
              "      <td>tea</td>\n",
              "      <td>1998</td>\n",
              "      <td>5863100</td>\n",
              "      <td>1200000</td>\n",
              "      <td>17111</td>\n",
              "      <td>0</td>\n",
              "      <td>2.628405e+07</td>\n",
              "    </tr>\n",
              "  </tbody>\n",
              "</table>\n",
              "</div>"
            ],
            "text/plain": [
              "        Crop  year  Area Harvested - Ha  Production Quantity - tonnes  \\\n",
              "0     tomato  1970               224500                     110001008   \n",
              "1  green_pea  1990              3312000                      15100000   \n",
              "2      maize  2002              5896700                        419002   \n",
              "3      maize  1980               413000                       1576800   \n",
              "4        tea  1998              5863100                       1200000   \n",
              "\n",
              "   Yield - Hg/Ha  kfold  tar_enc_Crop  \n",
              "0         200541      0  2.869614e+07  \n",
              "1          10456      0  2.071124e+07  \n",
              "2          72506      0  4.266453e+07  \n",
              "3         157391      0  4.266453e+07  \n",
              "4          17111      0  2.628405e+07  "
            ]
          },
          "metadata": {},
          "execution_count": 34
        }
      ],
      "metadata": {
        "colab": {
          "base_uri": "https://localhost:8080/",
          "height": 204
        },
        "id": "yqZYVzAojHq0",
        "outputId": "e2705b8a-30b1-46fd-cb15-4d68a26f0e03"
      }
    },
    {
      "cell_type": "code",
      "execution_count": 35,
      "source": [
        "numerical_cols"
      ],
      "outputs": [
        {
          "output_type": "execute_result",
          "data": {
            "text/plain": [
              "['year', 'Area Harvested - Ha', 'Yield - Hg/Ha', 'tar_enc_Crop']"
            ]
          },
          "metadata": {},
          "execution_count": 35
        }
      ],
      "metadata": {
        "colab": {
          "base_uri": "https://localhost:8080/",
          "height": 163
        },
        "id": "f-mdS4XFjq9l",
        "outputId": "311a477b-d28a-4568-9e62-91afb4603011"
      }
    },
    {
      "cell_type": "code",
      "execution_count": 54,
      "source": [
        "from scipy import stats"
      ],
      "outputs": [],
      "metadata": {}
    },
    {
      "cell_type": "code",
      "execution_count": 63,
      "source": [
        "np.abs(stats.zscore(df['Area Harvested - Ha']))\r\n",
        "\r\n"
      ],
      "outputs": [
        {
          "output_type": "error",
          "ename": "IndexError",
          "evalue": "tuple index out of range",
          "traceback": [
            "\u001b[1;31m---------------------------------------------------------------------------\u001b[0m",
            "\u001b[1;31mIndexError\u001b[0m                                Traceback (most recent call last)",
            "\u001b[1;32m<ipython-input-63-371c7a2b95c8>\u001b[0m in \u001b[0;36m<module>\u001b[1;34m\u001b[0m\n\u001b[1;32m----> 1\u001b[1;33m \u001b[0mnp\u001b[0m\u001b[1;33m.\u001b[0m\u001b[0mabs\u001b[0m\u001b[1;33m(\u001b[0m\u001b[0mstats\u001b[0m\u001b[1;33m.\u001b[0m\u001b[0mzscore\u001b[0m\u001b[1;33m(\u001b[0m\u001b[0mdf\u001b[0m\u001b[1;33m[\u001b[0m\u001b[1;34m'Area Harvested - Ha'\u001b[0m\u001b[1;33m]\u001b[0m\u001b[1;33m,\u001b[0m \u001b[0maxis\u001b[0m \u001b[1;33m=\u001b[0m \u001b[1;36m1\u001b[0m\u001b[1;33m)\u001b[0m\u001b[1;33m)\u001b[0m\u001b[1;33m\u001b[0m\u001b[1;33m\u001b[0m\u001b[0m\n\u001b[0m",
            "\u001b[1;32m~\\anaconda3\\lib\\site-packages\\scipy\\stats\\stats.py\u001b[0m in \u001b[0;36mzscore\u001b[1;34m(a, axis, ddof, nan_policy)\u001b[0m\n\u001b[0;32m   2495\u001b[0m         \u001b[0msstd\u001b[0m \u001b[1;33m=\u001b[0m \u001b[0mnp\u001b[0m\u001b[1;33m.\u001b[0m\u001b[0mnanstd\u001b[0m\u001b[1;33m(\u001b[0m\u001b[0ma\u001b[0m\u001b[1;33m=\u001b[0m\u001b[0ma\u001b[0m\u001b[1;33m,\u001b[0m \u001b[0maxis\u001b[0m\u001b[1;33m=\u001b[0m\u001b[0maxis\u001b[0m\u001b[1;33m,\u001b[0m \u001b[0mddof\u001b[0m\u001b[1;33m=\u001b[0m\u001b[0mddof\u001b[0m\u001b[1;33m,\u001b[0m \u001b[0mkeepdims\u001b[0m\u001b[1;33m=\u001b[0m\u001b[1;32mTrue\u001b[0m\u001b[1;33m)\u001b[0m\u001b[1;33m\u001b[0m\u001b[1;33m\u001b[0m\u001b[0m\n\u001b[0;32m   2496\u001b[0m     \u001b[1;32melse\u001b[0m\u001b[1;33m:\u001b[0m\u001b[1;33m\u001b[0m\u001b[1;33m\u001b[0m\u001b[0m\n\u001b[1;32m-> 2497\u001b[1;33m         \u001b[0mmns\u001b[0m \u001b[1;33m=\u001b[0m \u001b[0ma\u001b[0m\u001b[1;33m.\u001b[0m\u001b[0mmean\u001b[0m\u001b[1;33m(\u001b[0m\u001b[0maxis\u001b[0m\u001b[1;33m=\u001b[0m\u001b[0maxis\u001b[0m\u001b[1;33m,\u001b[0m \u001b[0mkeepdims\u001b[0m\u001b[1;33m=\u001b[0m\u001b[1;32mTrue\u001b[0m\u001b[1;33m)\u001b[0m\u001b[1;33m\u001b[0m\u001b[1;33m\u001b[0m\u001b[0m\n\u001b[0m\u001b[0;32m   2498\u001b[0m         \u001b[0msstd\u001b[0m \u001b[1;33m=\u001b[0m \u001b[0ma\u001b[0m\u001b[1;33m.\u001b[0m\u001b[0mstd\u001b[0m\u001b[1;33m(\u001b[0m\u001b[0maxis\u001b[0m\u001b[1;33m=\u001b[0m\u001b[0maxis\u001b[0m\u001b[1;33m,\u001b[0m \u001b[0mddof\u001b[0m\u001b[1;33m=\u001b[0m\u001b[0mddof\u001b[0m\u001b[1;33m,\u001b[0m \u001b[0mkeepdims\u001b[0m\u001b[1;33m=\u001b[0m\u001b[1;32mTrue\u001b[0m\u001b[1;33m)\u001b[0m\u001b[1;33m\u001b[0m\u001b[1;33m\u001b[0m\u001b[0m\n\u001b[0;32m   2499\u001b[0m \u001b[1;33m\u001b[0m\u001b[0m\n",
            "\u001b[1;32m~\\anaconda3\\lib\\site-packages\\numpy\\core\\_methods.py\u001b[0m in \u001b[0;36m_mean\u001b[1;34m(a, axis, dtype, out, keepdims)\u001b[0m\n\u001b[0;32m    136\u001b[0m \u001b[1;33m\u001b[0m\u001b[0m\n\u001b[0;32m    137\u001b[0m     \u001b[0mis_float16_result\u001b[0m \u001b[1;33m=\u001b[0m \u001b[1;32mFalse\u001b[0m\u001b[1;33m\u001b[0m\u001b[1;33m\u001b[0m\u001b[0m\n\u001b[1;32m--> 138\u001b[1;33m     \u001b[0mrcount\u001b[0m \u001b[1;33m=\u001b[0m \u001b[0m_count_reduce_items\u001b[0m\u001b[1;33m(\u001b[0m\u001b[0marr\u001b[0m\u001b[1;33m,\u001b[0m \u001b[0maxis\u001b[0m\u001b[1;33m)\u001b[0m\u001b[1;33m\u001b[0m\u001b[1;33m\u001b[0m\u001b[0m\n\u001b[0m\u001b[0;32m    139\u001b[0m     \u001b[1;31m# Make this warning show up first\u001b[0m\u001b[1;33m\u001b[0m\u001b[1;33m\u001b[0m\u001b[1;33m\u001b[0m\u001b[0m\n\u001b[0;32m    140\u001b[0m     \u001b[1;32mif\u001b[0m \u001b[0mrcount\u001b[0m \u001b[1;33m==\u001b[0m \u001b[1;36m0\u001b[0m\u001b[1;33m:\u001b[0m\u001b[1;33m\u001b[0m\u001b[1;33m\u001b[0m\u001b[0m\n",
            "\u001b[1;32m~\\anaconda3\\lib\\site-packages\\numpy\\core\\_methods.py\u001b[0m in \u001b[0;36m_count_reduce_items\u001b[1;34m(arr, axis)\u001b[0m\n\u001b[0;32m     55\u001b[0m     \u001b[0mitems\u001b[0m \u001b[1;33m=\u001b[0m \u001b[1;36m1\u001b[0m\u001b[1;33m\u001b[0m\u001b[1;33m\u001b[0m\u001b[0m\n\u001b[0;32m     56\u001b[0m     \u001b[1;32mfor\u001b[0m \u001b[0max\u001b[0m \u001b[1;32min\u001b[0m \u001b[0maxis\u001b[0m\u001b[1;33m:\u001b[0m\u001b[1;33m\u001b[0m\u001b[1;33m\u001b[0m\u001b[0m\n\u001b[1;32m---> 57\u001b[1;33m         \u001b[0mitems\u001b[0m \u001b[1;33m*=\u001b[0m \u001b[0marr\u001b[0m\u001b[1;33m.\u001b[0m\u001b[0mshape\u001b[0m\u001b[1;33m[\u001b[0m\u001b[0max\u001b[0m\u001b[1;33m]\u001b[0m\u001b[1;33m\u001b[0m\u001b[1;33m\u001b[0m\u001b[0m\n\u001b[0m\u001b[0;32m     58\u001b[0m     \u001b[1;32mreturn\u001b[0m \u001b[0mitems\u001b[0m\u001b[1;33m\u001b[0m\u001b[1;33m\u001b[0m\u001b[0m\n\u001b[0;32m     59\u001b[0m \u001b[1;33m\u001b[0m\u001b[0m\n",
            "\u001b[1;31mIndexError\u001b[0m: tuple index out of range"
          ]
        }
      ],
      "metadata": {}
    },
    {
      "cell_type": "code",
      "execution_count": 55,
      "source": [
        "df[(np.abs(stats.zscore(df.loc['Area Harvested - Ha', 'Yield - Hg/Ha','year']) < 3).all(axis=1))]"
      ],
      "outputs": [
        {
          "output_type": "error",
          "ename": "IndexingError",
          "evalue": "Too many indexers",
          "traceback": [
            "\u001b[1;31m---------------------------------------------------------------------------\u001b[0m",
            "\u001b[1;31mIndexingError\u001b[0m                             Traceback (most recent call last)",
            "\u001b[1;32m<ipython-input-55-97fa338a24f0>\u001b[0m in \u001b[0;36m<module>\u001b[1;34m\u001b[0m\n\u001b[1;32m----> 1\u001b[1;33m \u001b[0mdf\u001b[0m\u001b[1;33m[\u001b[0m\u001b[1;33m(\u001b[0m\u001b[0mnp\u001b[0m\u001b[1;33m.\u001b[0m\u001b[0mabs\u001b[0m\u001b[1;33m(\u001b[0m\u001b[0mstats\u001b[0m\u001b[1;33m.\u001b[0m\u001b[0mzscore\u001b[0m\u001b[1;33m(\u001b[0m\u001b[0mdf\u001b[0m\u001b[1;33m.\u001b[0m\u001b[0mloc\u001b[0m\u001b[1;33m[\u001b[0m\u001b[1;34m'Area Harvested - Ha'\u001b[0m\u001b[1;33m,\u001b[0m \u001b[1;34m'Yield - Hg/Ha'\u001b[0m\u001b[1;33m,\u001b[0m\u001b[1;34m'year'\u001b[0m\u001b[1;33m]\u001b[0m\u001b[1;33m)\u001b[0m \u001b[1;33m<\u001b[0m \u001b[1;36m3\u001b[0m\u001b[1;33m)\u001b[0m\u001b[1;33m.\u001b[0m\u001b[0mall\u001b[0m\u001b[1;33m(\u001b[0m\u001b[0maxis\u001b[0m\u001b[1;33m=\u001b[0m\u001b[1;36m1\u001b[0m\u001b[1;33m)\u001b[0m\u001b[1;33m)\u001b[0m\u001b[1;33m]\u001b[0m\u001b[1;33m\u001b[0m\u001b[1;33m\u001b[0m\u001b[0m\n\u001b[0m",
            "\u001b[1;32m~\\anaconda3\\lib\\site-packages\\pandas\\core\\indexing.py\u001b[0m in \u001b[0;36m__getitem__\u001b[1;34m(self, key)\u001b[0m\n\u001b[0;32m   1760\u001b[0m                 \u001b[1;32mexcept\u001b[0m \u001b[1;33m(\u001b[0m\u001b[0mKeyError\u001b[0m\u001b[1;33m,\u001b[0m \u001b[0mIndexError\u001b[0m\u001b[1;33m,\u001b[0m \u001b[0mAttributeError\u001b[0m\u001b[1;33m)\u001b[0m\u001b[1;33m:\u001b[0m\u001b[1;33m\u001b[0m\u001b[1;33m\u001b[0m\u001b[0m\n\u001b[0;32m   1761\u001b[0m                     \u001b[1;32mpass\u001b[0m\u001b[1;33m\u001b[0m\u001b[1;33m\u001b[0m\u001b[0m\n\u001b[1;32m-> 1762\u001b[1;33m             \u001b[1;32mreturn\u001b[0m \u001b[0mself\u001b[0m\u001b[1;33m.\u001b[0m\u001b[0m_getitem_tuple\u001b[0m\u001b[1;33m(\u001b[0m\u001b[0mkey\u001b[0m\u001b[1;33m)\u001b[0m\u001b[1;33m\u001b[0m\u001b[1;33m\u001b[0m\u001b[0m\n\u001b[0m\u001b[0;32m   1763\u001b[0m         \u001b[1;32melse\u001b[0m\u001b[1;33m:\u001b[0m\u001b[1;33m\u001b[0m\u001b[1;33m\u001b[0m\u001b[0m\n\u001b[0;32m   1764\u001b[0m             \u001b[1;31m# we by definition only have the 0th axis\u001b[0m\u001b[1;33m\u001b[0m\u001b[1;33m\u001b[0m\u001b[1;33m\u001b[0m\u001b[0m\n",
            "\u001b[1;32m~\\anaconda3\\lib\\site-packages\\pandas\\core\\indexing.py\u001b[0m in \u001b[0;36m_getitem_tuple\u001b[1;34m(self, tup)\u001b[0m\n\u001b[0;32m   1275\u001b[0m \u001b[1;33m\u001b[0m\u001b[0m\n\u001b[0;32m   1276\u001b[0m         \u001b[1;31m# no multi-index, so validate all of the indexers\u001b[0m\u001b[1;33m\u001b[0m\u001b[1;33m\u001b[0m\u001b[1;33m\u001b[0m\u001b[0m\n\u001b[1;32m-> 1277\u001b[1;33m         \u001b[0mself\u001b[0m\u001b[1;33m.\u001b[0m\u001b[0m_has_valid_tuple\u001b[0m\u001b[1;33m(\u001b[0m\u001b[0mtup\u001b[0m\u001b[1;33m)\u001b[0m\u001b[1;33m\u001b[0m\u001b[1;33m\u001b[0m\u001b[0m\n\u001b[0m\u001b[0;32m   1278\u001b[0m \u001b[1;33m\u001b[0m\u001b[0m\n\u001b[0;32m   1279\u001b[0m         \u001b[1;31m# ugly hack for GH #836\u001b[0m\u001b[1;33m\u001b[0m\u001b[1;33m\u001b[0m\u001b[1;33m\u001b[0m\u001b[0m\n",
            "\u001b[1;32m~\\anaconda3\\lib\\site-packages\\pandas\\core\\indexing.py\u001b[0m in \u001b[0;36m_has_valid_tuple\u001b[1;34m(self, key)\u001b[0m\n\u001b[0;32m    699\u001b[0m         \u001b[1;32mfor\u001b[0m \u001b[0mi\u001b[0m\u001b[1;33m,\u001b[0m \u001b[0mk\u001b[0m \u001b[1;32min\u001b[0m \u001b[0menumerate\u001b[0m\u001b[1;33m(\u001b[0m\u001b[0mkey\u001b[0m\u001b[1;33m)\u001b[0m\u001b[1;33m:\u001b[0m\u001b[1;33m\u001b[0m\u001b[1;33m\u001b[0m\u001b[0m\n\u001b[0;32m    700\u001b[0m             \u001b[1;32mif\u001b[0m \u001b[0mi\u001b[0m \u001b[1;33m>=\u001b[0m \u001b[0mself\u001b[0m\u001b[1;33m.\u001b[0m\u001b[0mndim\u001b[0m\u001b[1;33m:\u001b[0m\u001b[1;33m\u001b[0m\u001b[1;33m\u001b[0m\u001b[0m\n\u001b[1;32m--> 701\u001b[1;33m                 \u001b[1;32mraise\u001b[0m \u001b[0mIndexingError\u001b[0m\u001b[1;33m(\u001b[0m\u001b[1;34m\"Too many indexers\"\u001b[0m\u001b[1;33m)\u001b[0m\u001b[1;33m\u001b[0m\u001b[1;33m\u001b[0m\u001b[0m\n\u001b[0m\u001b[0;32m    702\u001b[0m             \u001b[1;32mtry\u001b[0m\u001b[1;33m:\u001b[0m\u001b[1;33m\u001b[0m\u001b[1;33m\u001b[0m\u001b[0m\n\u001b[0;32m    703\u001b[0m                 \u001b[0mself\u001b[0m\u001b[1;33m.\u001b[0m\u001b[0m_validate_key\u001b[0m\u001b[1;33m(\u001b[0m\u001b[0mk\u001b[0m\u001b[1;33m,\u001b[0m \u001b[0mi\u001b[0m\u001b[1;33m)\u001b[0m\u001b[1;33m\u001b[0m\u001b[1;33m\u001b[0m\u001b[0m\n",
            "\u001b[1;31mIndexingError\u001b[0m: Too many indexers"
          ]
        }
      ],
      "metadata": {
        "colab": {
          "base_uri": "https://localhost:8080/",
          "height": 129
        },
        "id": "THjf4EIljQhw",
        "outputId": "7c944e9e-44ee-4a4c-96c7-85e453a8115c"
      }
    },
    {
      "cell_type": "code",
      "execution_count": 65,
      "source": [
        "from scipy import stats\r\n"
      ],
      "outputs": [],
      "metadata": {
        "id": "fIj9i1f2peK2"
      }
    },
    {
      "cell_type": "code",
      "execution_count": 66,
      "source": [
        "df[(np.abs(stats.zscore(df[2])) < 3)]\r\n"
      ],
      "outputs": [
        {
          "output_type": "error",
          "ename": "KeyError",
          "evalue": "2",
          "traceback": [
            "\u001b[1;31m---------------------------------------------------------------------------\u001b[0m",
            "\u001b[1;31mKeyError\u001b[0m                                  Traceback (most recent call last)",
            "\u001b[1;32m~\\anaconda3\\lib\\site-packages\\pandas\\core\\indexes\\base.py\u001b[0m in \u001b[0;36mget_loc\u001b[1;34m(self, key, method, tolerance)\u001b[0m\n\u001b[0;32m   2645\u001b[0m             \u001b[1;32mtry\u001b[0m\u001b[1;33m:\u001b[0m\u001b[1;33m\u001b[0m\u001b[1;33m\u001b[0m\u001b[0m\n\u001b[1;32m-> 2646\u001b[1;33m                 \u001b[1;32mreturn\u001b[0m \u001b[0mself\u001b[0m\u001b[1;33m.\u001b[0m\u001b[0m_engine\u001b[0m\u001b[1;33m.\u001b[0m\u001b[0mget_loc\u001b[0m\u001b[1;33m(\u001b[0m\u001b[0mkey\u001b[0m\u001b[1;33m)\u001b[0m\u001b[1;33m\u001b[0m\u001b[1;33m\u001b[0m\u001b[0m\n\u001b[0m\u001b[0;32m   2647\u001b[0m             \u001b[1;32mexcept\u001b[0m \u001b[0mKeyError\u001b[0m\u001b[1;33m:\u001b[0m\u001b[1;33m\u001b[0m\u001b[1;33m\u001b[0m\u001b[0m\n",
            "\u001b[1;32mpandas\\_libs\\index.pyx\u001b[0m in \u001b[0;36mpandas._libs.index.IndexEngine.get_loc\u001b[1;34m()\u001b[0m\n",
            "\u001b[1;32mpandas\\_libs\\index.pyx\u001b[0m in \u001b[0;36mpandas._libs.index.IndexEngine.get_loc\u001b[1;34m()\u001b[0m\n",
            "\u001b[1;32mpandas\\_libs\\hashtable_class_helper.pxi\u001b[0m in \u001b[0;36mpandas._libs.hashtable.PyObjectHashTable.get_item\u001b[1;34m()\u001b[0m\n",
            "\u001b[1;32mpandas\\_libs\\hashtable_class_helper.pxi\u001b[0m in \u001b[0;36mpandas._libs.hashtable.PyObjectHashTable.get_item\u001b[1;34m()\u001b[0m\n",
            "\u001b[1;31mKeyError\u001b[0m: 2",
            "\nDuring handling of the above exception, another exception occurred:\n",
            "\u001b[1;31mKeyError\u001b[0m                                  Traceback (most recent call last)",
            "\u001b[1;32m<ipython-input-66-c8f8f51c9471>\u001b[0m in \u001b[0;36m<module>\u001b[1;34m\u001b[0m\n\u001b[1;32m----> 1\u001b[1;33m \u001b[1;33m(\u001b[0m\u001b[0mnp\u001b[0m\u001b[1;33m.\u001b[0m\u001b[0mabs\u001b[0m\u001b[1;33m(\u001b[0m\u001b[0mstats\u001b[0m\u001b[1;33m.\u001b[0m\u001b[0mzscore\u001b[0m\u001b[1;33m(\u001b[0m\u001b[0mdf\u001b[0m\u001b[1;33m[\u001b[0m\u001b[1;36m2\u001b[0m\u001b[1;33m]\u001b[0m\u001b[1;33m)\u001b[0m\u001b[1;33m)\u001b[0m \u001b[1;33m<\u001b[0m \u001b[1;36m3\u001b[0m\u001b[1;33m)\u001b[0m\u001b[1;33m\u001b[0m\u001b[1;33m\u001b[0m\u001b[0m\n\u001b[0m",
            "\u001b[1;32m~\\anaconda3\\lib\\site-packages\\pandas\\core\\frame.py\u001b[0m in \u001b[0;36m__getitem__\u001b[1;34m(self, key)\u001b[0m\n\u001b[0;32m   2798\u001b[0m             \u001b[1;32mif\u001b[0m \u001b[0mself\u001b[0m\u001b[1;33m.\u001b[0m\u001b[0mcolumns\u001b[0m\u001b[1;33m.\u001b[0m\u001b[0mnlevels\u001b[0m \u001b[1;33m>\u001b[0m \u001b[1;36m1\u001b[0m\u001b[1;33m:\u001b[0m\u001b[1;33m\u001b[0m\u001b[1;33m\u001b[0m\u001b[0m\n\u001b[0;32m   2799\u001b[0m                 \u001b[1;32mreturn\u001b[0m \u001b[0mself\u001b[0m\u001b[1;33m.\u001b[0m\u001b[0m_getitem_multilevel\u001b[0m\u001b[1;33m(\u001b[0m\u001b[0mkey\u001b[0m\u001b[1;33m)\u001b[0m\u001b[1;33m\u001b[0m\u001b[1;33m\u001b[0m\u001b[0m\n\u001b[1;32m-> 2800\u001b[1;33m             \u001b[0mindexer\u001b[0m \u001b[1;33m=\u001b[0m \u001b[0mself\u001b[0m\u001b[1;33m.\u001b[0m\u001b[0mcolumns\u001b[0m\u001b[1;33m.\u001b[0m\u001b[0mget_loc\u001b[0m\u001b[1;33m(\u001b[0m\u001b[0mkey\u001b[0m\u001b[1;33m)\u001b[0m\u001b[1;33m\u001b[0m\u001b[1;33m\u001b[0m\u001b[0m\n\u001b[0m\u001b[0;32m   2801\u001b[0m             \u001b[1;32mif\u001b[0m \u001b[0mis_integer\u001b[0m\u001b[1;33m(\u001b[0m\u001b[0mindexer\u001b[0m\u001b[1;33m)\u001b[0m\u001b[1;33m:\u001b[0m\u001b[1;33m\u001b[0m\u001b[1;33m\u001b[0m\u001b[0m\n\u001b[0;32m   2802\u001b[0m                 \u001b[0mindexer\u001b[0m \u001b[1;33m=\u001b[0m \u001b[1;33m[\u001b[0m\u001b[0mindexer\u001b[0m\u001b[1;33m]\u001b[0m\u001b[1;33m\u001b[0m\u001b[1;33m\u001b[0m\u001b[0m\n",
            "\u001b[1;32m~\\anaconda3\\lib\\site-packages\\pandas\\core\\indexes\\base.py\u001b[0m in \u001b[0;36mget_loc\u001b[1;34m(self, key, method, tolerance)\u001b[0m\n\u001b[0;32m   2646\u001b[0m                 \u001b[1;32mreturn\u001b[0m \u001b[0mself\u001b[0m\u001b[1;33m.\u001b[0m\u001b[0m_engine\u001b[0m\u001b[1;33m.\u001b[0m\u001b[0mget_loc\u001b[0m\u001b[1;33m(\u001b[0m\u001b[0mkey\u001b[0m\u001b[1;33m)\u001b[0m\u001b[1;33m\u001b[0m\u001b[1;33m\u001b[0m\u001b[0m\n\u001b[0;32m   2647\u001b[0m             \u001b[1;32mexcept\u001b[0m \u001b[0mKeyError\u001b[0m\u001b[1;33m:\u001b[0m\u001b[1;33m\u001b[0m\u001b[1;33m\u001b[0m\u001b[0m\n\u001b[1;32m-> 2648\u001b[1;33m                 \u001b[1;32mreturn\u001b[0m \u001b[0mself\u001b[0m\u001b[1;33m.\u001b[0m\u001b[0m_engine\u001b[0m\u001b[1;33m.\u001b[0m\u001b[0mget_loc\u001b[0m\u001b[1;33m(\u001b[0m\u001b[0mself\u001b[0m\u001b[1;33m.\u001b[0m\u001b[0m_maybe_cast_indexer\u001b[0m\u001b[1;33m(\u001b[0m\u001b[0mkey\u001b[0m\u001b[1;33m)\u001b[0m\u001b[1;33m)\u001b[0m\u001b[1;33m\u001b[0m\u001b[1;33m\u001b[0m\u001b[0m\n\u001b[0m\u001b[0;32m   2649\u001b[0m         \u001b[0mindexer\u001b[0m \u001b[1;33m=\u001b[0m \u001b[0mself\u001b[0m\u001b[1;33m.\u001b[0m\u001b[0mget_indexer\u001b[0m\u001b[1;33m(\u001b[0m\u001b[1;33m[\u001b[0m\u001b[0mkey\u001b[0m\u001b[1;33m]\u001b[0m\u001b[1;33m,\u001b[0m \u001b[0mmethod\u001b[0m\u001b[1;33m=\u001b[0m\u001b[0mmethod\u001b[0m\u001b[1;33m,\u001b[0m \u001b[0mtolerance\u001b[0m\u001b[1;33m=\u001b[0m\u001b[0mtolerance\u001b[0m\u001b[1;33m)\u001b[0m\u001b[1;33m\u001b[0m\u001b[1;33m\u001b[0m\u001b[0m\n\u001b[0;32m   2650\u001b[0m         \u001b[1;32mif\u001b[0m \u001b[0mindexer\u001b[0m\u001b[1;33m.\u001b[0m\u001b[0mndim\u001b[0m \u001b[1;33m>\u001b[0m \u001b[1;36m1\u001b[0m \u001b[1;32mor\u001b[0m \u001b[0mindexer\u001b[0m\u001b[1;33m.\u001b[0m\u001b[0msize\u001b[0m \u001b[1;33m>\u001b[0m \u001b[1;36m1\u001b[0m\u001b[1;33m:\u001b[0m\u001b[1;33m\u001b[0m\u001b[1;33m\u001b[0m\u001b[0m\n",
            "\u001b[1;32mpandas\\_libs\\index.pyx\u001b[0m in \u001b[0;36mpandas._libs.index.IndexEngine.get_loc\u001b[1;34m()\u001b[0m\n",
            "\u001b[1;32mpandas\\_libs\\index.pyx\u001b[0m in \u001b[0;36mpandas._libs.index.IndexEngine.get_loc\u001b[1;34m()\u001b[0m\n",
            "\u001b[1;32mpandas\\_libs\\hashtable_class_helper.pxi\u001b[0m in \u001b[0;36mpandas._libs.hashtable.PyObjectHashTable.get_item\u001b[1;34m()\u001b[0m\n",
            "\u001b[1;32mpandas\\_libs\\hashtable_class_helper.pxi\u001b[0m in \u001b[0;36mpandas._libs.hashtable.PyObjectHashTable.get_item\u001b[1;34m()\u001b[0m\n",
            "\u001b[1;31mKeyError\u001b[0m: 2"
          ]
        }
      ],
      "metadata": {
        "colab": {
          "base_uri": "https://localhost:8080/",
          "height": 731
        },
        "id": "sVNz1lcVjbQV",
        "outputId": "8bdbbf01-4476-4dea-f1bd-38748eef76f6"
      }
    },
    {
      "cell_type": "markdown",
      "source": [
        "# co relation was very less so removing outliners"
      ],
      "metadata": {
        "id": "G8aZ5A7mHNim"
      }
    },
    {
      "cell_type": "code",
      "execution_count": 67,
      "source": [
        "q_low = df[\"Area Harvested - Ha\"].quantile(0.1)\r\n",
        "q_hi  = df[\"Area Harvested - Ha\"].quantile(0.9)\r\n",
        "\r\n",
        "df_filtered = df[(df[\"Area Harvested - Ha\"] < q_hi) & (df[\"Area Harvested - Ha\"] > q_low)]"
      ],
      "outputs": [],
      "metadata": {
        "id": "L0fmkCcWkNdZ"
      }
    },
    {
      "cell_type": "code",
      "execution_count": 68,
      "source": [
        "df_filtered"
      ],
      "outputs": [
        {
          "output_type": "execute_result",
          "data": {
            "text/html": [
              "<div>\n",
              "<style scoped>\n",
              "    .dataframe tbody tr th:only-of-type {\n",
              "        vertical-align: middle;\n",
              "    }\n",
              "\n",
              "    .dataframe tbody tr th {\n",
              "        vertical-align: top;\n",
              "    }\n",
              "\n",
              "    .dataframe thead th {\n",
              "        text-align: right;\n",
              "    }\n",
              "</style>\n",
              "<table border=\"1\" class=\"dataframe\">\n",
              "  <thead>\n",
              "    <tr style=\"text-align: right;\">\n",
              "      <th></th>\n",
              "      <th>Crop</th>\n",
              "      <th>year</th>\n",
              "      <th>Area Harvested - Ha</th>\n",
              "      <th>Production Quantity - tonnes</th>\n",
              "      <th>Yield - Hg/Ha</th>\n",
              "      <th>kfold</th>\n",
              "      <th>tar_enc_Crop</th>\n",
              "    </tr>\n",
              "  </thead>\n",
              "  <tbody>\n",
              "    <tr>\n",
              "      <th>0</th>\n",
              "      <td>tomato</td>\n",
              "      <td>1970</td>\n",
              "      <td>224500</td>\n",
              "      <td>110001008</td>\n",
              "      <td>200541</td>\n",
              "      <td>0</td>\n",
              "      <td>2.869614e+07</td>\n",
              "    </tr>\n",
              "    <tr>\n",
              "      <th>1</th>\n",
              "      <td>green_pea</td>\n",
              "      <td>1990</td>\n",
              "      <td>3312000</td>\n",
              "      <td>15100000</td>\n",
              "      <td>10456</td>\n",
              "      <td>0</td>\n",
              "      <td>2.071124e+07</td>\n",
              "    </tr>\n",
              "    <tr>\n",
              "      <th>2</th>\n",
              "      <td>maize</td>\n",
              "      <td>2002</td>\n",
              "      <td>5896700</td>\n",
              "      <td>419002</td>\n",
              "      <td>72506</td>\n",
              "      <td>0</td>\n",
              "      <td>4.266453e+07</td>\n",
              "    </tr>\n",
              "    <tr>\n",
              "      <th>3</th>\n",
              "      <td>maize</td>\n",
              "      <td>1980</td>\n",
              "      <td>413000</td>\n",
              "      <td>1576800</td>\n",
              "      <td>157391</td>\n",
              "      <td>0</td>\n",
              "      <td>4.266453e+07</td>\n",
              "    </tr>\n",
              "    <tr>\n",
              "      <th>4</th>\n",
              "      <td>tea</td>\n",
              "      <td>1998</td>\n",
              "      <td>5863100</td>\n",
              "      <td>1200000</td>\n",
              "      <td>17111</td>\n",
              "      <td>0</td>\n",
              "      <td>2.628405e+07</td>\n",
              "    </tr>\n",
              "    <tr>\n",
              "      <th>...</th>\n",
              "      <td>...</td>\n",
              "      <td>...</td>\n",
              "      <td>...</td>\n",
              "      <td>...</td>\n",
              "      <td>...</td>\n",
              "      <td>...</td>\n",
              "      <td>...</td>\n",
              "    </tr>\n",
              "    <tr>\n",
              "      <th>92</th>\n",
              "      <td>green_pea</td>\n",
              "      <td>1967</td>\n",
              "      <td>3870000</td>\n",
              "      <td>471952</td>\n",
              "      <td>347456</td>\n",
              "      <td>4</td>\n",
              "      <td>2.066252e+07</td>\n",
              "    </tr>\n",
              "    <tr>\n",
              "      <th>93</th>\n",
              "      <td>ginger</td>\n",
              "      <td>1993</td>\n",
              "      <td>2682000</td>\n",
              "      <td>354397</td>\n",
              "      <td>12416</td>\n",
              "      <td>4</td>\n",
              "      <td>3.100574e+07</td>\n",
              "    </tr>\n",
              "    <tr>\n",
              "      <th>94</th>\n",
              "      <td>rice</td>\n",
              "      <td>1961</td>\n",
              "      <td>384242</td>\n",
              "      <td>8961700</td>\n",
              "      <td>170581</td>\n",
              "      <td>4</td>\n",
              "      <td>4.702644e+07</td>\n",
              "    </tr>\n",
              "    <tr>\n",
              "      <th>95</th>\n",
              "      <td>banana</td>\n",
              "      <td>1961</td>\n",
              "      <td>7770000</td>\n",
              "      <td>230000</td>\n",
              "      <td>108882</td>\n",
              "      <td>4</td>\n",
              "      <td>8.643202e+06</td>\n",
              "    </tr>\n",
              "    <tr>\n",
              "      <th>97</th>\n",
              "      <td>potato</td>\n",
              "      <td>1994</td>\n",
              "      <td>80000</td>\n",
              "      <td>3758200</td>\n",
              "      <td>11534</td>\n",
              "      <td>4</td>\n",
              "      <td>2.859683e+07</td>\n",
              "    </tr>\n",
              "  </tbody>\n",
              "</table>\n",
              "<p>420 rows × 7 columns</p>\n",
              "</div>"
            ],
            "text/plain": [
              "         Crop  year  Area Harvested - Ha  Production Quantity - tonnes  \\\n",
              "0      tomato  1970               224500                     110001008   \n",
              "1   green_pea  1990              3312000                      15100000   \n",
              "2       maize  2002              5896700                        419002   \n",
              "3       maize  1980               413000                       1576800   \n",
              "4         tea  1998              5863100                       1200000   \n",
              "..        ...   ...                  ...                           ...   \n",
              "92  green_pea  1967              3870000                        471952   \n",
              "93     ginger  1993              2682000                        354397   \n",
              "94       rice  1961               384242                       8961700   \n",
              "95     banana  1961              7770000                        230000   \n",
              "97     potato  1994                80000                       3758200   \n",
              "\n",
              "    Yield - Hg/Ha  kfold  tar_enc_Crop  \n",
              "0          200541      0  2.869614e+07  \n",
              "1           10456      0  2.071124e+07  \n",
              "2           72506      0  4.266453e+07  \n",
              "3          157391      0  4.266453e+07  \n",
              "4           17111      0  2.628405e+07  \n",
              "..            ...    ...           ...  \n",
              "92         347456      4  2.066252e+07  \n",
              "93          12416      4  3.100574e+07  \n",
              "94         170581      4  4.702644e+07  \n",
              "95         108882      4  8.643202e+06  \n",
              "97          11534      4  2.859683e+07  \n",
              "\n",
              "[420 rows x 7 columns]"
            ]
          },
          "metadata": {},
          "execution_count": 68
        }
      ],
      "metadata": {
        "colab": {
          "base_uri": "https://localhost:8080/",
          "height": 419
        },
        "id": "hdwLGCgskfbk",
        "outputId": "460348f9-8ed1-4cb9-93dc-2ad12832833a"
      }
    },
    {
      "cell_type": "code",
      "execution_count": 69,
      "source": [
        "df "
      ],
      "outputs": [
        {
          "output_type": "execute_result",
          "data": {
            "text/html": [
              "<div>\n",
              "<style scoped>\n",
              "    .dataframe tbody tr th:only-of-type {\n",
              "        vertical-align: middle;\n",
              "    }\n",
              "\n",
              "    .dataframe tbody tr th {\n",
              "        vertical-align: top;\n",
              "    }\n",
              "\n",
              "    .dataframe thead th {\n",
              "        text-align: right;\n",
              "    }\n",
              "</style>\n",
              "<table border=\"1\" class=\"dataframe\">\n",
              "  <thead>\n",
              "    <tr style=\"text-align: right;\">\n",
              "      <th></th>\n",
              "      <th>Crop</th>\n",
              "      <th>year</th>\n",
              "      <th>Area Harvested - Ha</th>\n",
              "      <th>Production Quantity - tonnes</th>\n",
              "      <th>Yield - Hg/Ha</th>\n",
              "      <th>kfold</th>\n",
              "      <th>tar_enc_Crop</th>\n",
              "    </tr>\n",
              "  </thead>\n",
              "  <tbody>\n",
              "    <tr>\n",
              "      <th>0</th>\n",
              "      <td>tomato</td>\n",
              "      <td>1970</td>\n",
              "      <td>224500</td>\n",
              "      <td>110001008</td>\n",
              "      <td>200541</td>\n",
              "      <td>0</td>\n",
              "      <td>2.869614e+07</td>\n",
              "    </tr>\n",
              "    <tr>\n",
              "      <th>1</th>\n",
              "      <td>green_pea</td>\n",
              "      <td>1990</td>\n",
              "      <td>3312000</td>\n",
              "      <td>15100000</td>\n",
              "      <td>10456</td>\n",
              "      <td>0</td>\n",
              "      <td>2.071124e+07</td>\n",
              "    </tr>\n",
              "    <tr>\n",
              "      <th>2</th>\n",
              "      <td>maize</td>\n",
              "      <td>2002</td>\n",
              "      <td>5896700</td>\n",
              "      <td>419002</td>\n",
              "      <td>72506</td>\n",
              "      <td>0</td>\n",
              "      <td>4.266453e+07</td>\n",
              "    </tr>\n",
              "    <tr>\n",
              "      <th>3</th>\n",
              "      <td>maize</td>\n",
              "      <td>1980</td>\n",
              "      <td>413000</td>\n",
              "      <td>1576800</td>\n",
              "      <td>157391</td>\n",
              "      <td>0</td>\n",
              "      <td>4.266453e+07</td>\n",
              "    </tr>\n",
              "    <tr>\n",
              "      <th>4</th>\n",
              "      <td>tea</td>\n",
              "      <td>1998</td>\n",
              "      <td>5863100</td>\n",
              "      <td>1200000</td>\n",
              "      <td>17111</td>\n",
              "      <td>0</td>\n",
              "      <td>2.628405e+07</td>\n",
              "    </tr>\n",
              "    <tr>\n",
              "      <th>...</th>\n",
              "      <td>...</td>\n",
              "      <td>...</td>\n",
              "      <td>...</td>\n",
              "      <td>...</td>\n",
              "      <td>...</td>\n",
              "      <td>...</td>\n",
              "      <td>...</td>\n",
              "    </tr>\n",
              "    <tr>\n",
              "      <th>93</th>\n",
              "      <td>ginger</td>\n",
              "      <td>1993</td>\n",
              "      <td>2682000</td>\n",
              "      <td>354397</td>\n",
              "      <td>12416</td>\n",
              "      <td>4</td>\n",
              "      <td>3.100574e+07</td>\n",
              "    </tr>\n",
              "    <tr>\n",
              "      <th>94</th>\n",
              "      <td>rice</td>\n",
              "      <td>1961</td>\n",
              "      <td>384242</td>\n",
              "      <td>8961700</td>\n",
              "      <td>170581</td>\n",
              "      <td>4</td>\n",
              "      <td>4.702644e+07</td>\n",
              "    </tr>\n",
              "    <tr>\n",
              "      <th>95</th>\n",
              "      <td>banana</td>\n",
              "      <td>1961</td>\n",
              "      <td>7770000</td>\n",
              "      <td>230000</td>\n",
              "      <td>108882</td>\n",
              "      <td>4</td>\n",
              "      <td>8.643202e+06</td>\n",
              "    </tr>\n",
              "    <tr>\n",
              "      <th>96</th>\n",
              "      <td>rice</td>\n",
              "      <td>1980</td>\n",
              "      <td>25195700</td>\n",
              "      <td>110000</td>\n",
              "      <td>8874</td>\n",
              "      <td>4</td>\n",
              "      <td>4.702644e+07</td>\n",
              "    </tr>\n",
              "    <tr>\n",
              "      <th>97</th>\n",
              "      <td>potato</td>\n",
              "      <td>1994</td>\n",
              "      <td>80000</td>\n",
              "      <td>3758200</td>\n",
              "      <td>11534</td>\n",
              "      <td>4</td>\n",
              "      <td>2.859683e+07</td>\n",
              "    </tr>\n",
              "  </tbody>\n",
              "</table>\n",
              "<p>526 rows × 7 columns</p>\n",
              "</div>"
            ],
            "text/plain": [
              "         Crop  year  Area Harvested - Ha  Production Quantity - tonnes  \\\n",
              "0      tomato  1970               224500                     110001008   \n",
              "1   green_pea  1990              3312000                      15100000   \n",
              "2       maize  2002              5896700                        419002   \n",
              "3       maize  1980               413000                       1576800   \n",
              "4         tea  1998              5863100                       1200000   \n",
              "..        ...   ...                  ...                           ...   \n",
              "93     ginger  1993              2682000                        354397   \n",
              "94       rice  1961               384242                       8961700   \n",
              "95     banana  1961              7770000                        230000   \n",
              "96       rice  1980             25195700                        110000   \n",
              "97     potato  1994                80000                       3758200   \n",
              "\n",
              "    Yield - Hg/Ha  kfold  tar_enc_Crop  \n",
              "0          200541      0  2.869614e+07  \n",
              "1           10456      0  2.071124e+07  \n",
              "2           72506      0  4.266453e+07  \n",
              "3          157391      0  4.266453e+07  \n",
              "4           17111      0  2.628405e+07  \n",
              "..            ...    ...           ...  \n",
              "93          12416      4  3.100574e+07  \n",
              "94         170581      4  4.702644e+07  \n",
              "95         108882      4  8.643202e+06  \n",
              "96           8874      4  4.702644e+07  \n",
              "97          11534      4  2.859683e+07  \n",
              "\n",
              "[526 rows x 7 columns]"
            ]
          },
          "metadata": {},
          "execution_count": 69
        }
      ],
      "metadata": {
        "colab": {
          "base_uri": "https://localhost:8080/",
          "height": 419
        },
        "id": "vcwV1tbGkj5f",
        "outputId": "e4ed520d-16a3-489c-ebb1-1169c0b69940"
      }
    },
    {
      "cell_type": "code",
      "execution_count": 70,
      "source": [
        "df = df_filtered"
      ],
      "outputs": [],
      "metadata": {
        "id": "ueps6Mmjkm30"
      }
    },
    {
      "cell_type": "code",
      "execution_count": 71,
      "source": [
        "q_low = df[\"Production Quantity - tonnes\"].quantile(0.1)\r\n",
        "q_hi  = df[\"Production Quantity - tonnes\"].quantile(0.9)\r\n",
        "\r\n",
        "df_filtered = df[(df[\"Production Quantity - tonnes\"] < q_hi) & (df[\"Production Quantity - tonnes\"] > q_low)]"
      ],
      "outputs": [],
      "metadata": {
        "id": "oKvZNdcUkugA"
      }
    },
    {
      "cell_type": "code",
      "execution_count": 72,
      "source": [
        "df_filtered"
      ],
      "outputs": [
        {
          "output_type": "execute_result",
          "data": {
            "text/html": [
              "<div>\n",
              "<style scoped>\n",
              "    .dataframe tbody tr th:only-of-type {\n",
              "        vertical-align: middle;\n",
              "    }\n",
              "\n",
              "    .dataframe tbody tr th {\n",
              "        vertical-align: top;\n",
              "    }\n",
              "\n",
              "    .dataframe thead th {\n",
              "        text-align: right;\n",
              "    }\n",
              "</style>\n",
              "<table border=\"1\" class=\"dataframe\">\n",
              "  <thead>\n",
              "    <tr style=\"text-align: right;\">\n",
              "      <th></th>\n",
              "      <th>Crop</th>\n",
              "      <th>year</th>\n",
              "      <th>Area Harvested - Ha</th>\n",
              "      <th>Production Quantity - tonnes</th>\n",
              "      <th>Yield - Hg/Ha</th>\n",
              "      <th>kfold</th>\n",
              "      <th>tar_enc_Crop</th>\n",
              "    </tr>\n",
              "  </thead>\n",
              "  <tbody>\n",
              "    <tr>\n",
              "      <th>1</th>\n",
              "      <td>green_pea</td>\n",
              "      <td>1990</td>\n",
              "      <td>3312000</td>\n",
              "      <td>15100000</td>\n",
              "      <td>10456</td>\n",
              "      <td>0</td>\n",
              "      <td>2.071124e+07</td>\n",
              "    </tr>\n",
              "    <tr>\n",
              "      <th>2</th>\n",
              "      <td>maize</td>\n",
              "      <td>2002</td>\n",
              "      <td>5896700</td>\n",
              "      <td>419002</td>\n",
              "      <td>72506</td>\n",
              "      <td>0</td>\n",
              "      <td>4.266453e+07</td>\n",
              "    </tr>\n",
              "    <tr>\n",
              "      <th>3</th>\n",
              "      <td>maize</td>\n",
              "      <td>1980</td>\n",
              "      <td>413000</td>\n",
              "      <td>1576800</td>\n",
              "      <td>157391</td>\n",
              "      <td>0</td>\n",
              "      <td>4.266453e+07</td>\n",
              "    </tr>\n",
              "    <tr>\n",
              "      <th>4</th>\n",
              "      <td>tea</td>\n",
              "      <td>1998</td>\n",
              "      <td>5863100</td>\n",
              "      <td>1200000</td>\n",
              "      <td>17111</td>\n",
              "      <td>0</td>\n",
              "      <td>2.628405e+07</td>\n",
              "    </tr>\n",
              "    <tr>\n",
              "      <th>5</th>\n",
              "      <td>wheat</td>\n",
              "      <td>1997</td>\n",
              "      <td>308653</td>\n",
              "      <td>24713200</td>\n",
              "      <td>13799</td>\n",
              "      <td>0</td>\n",
              "      <td>1.548944e+07</td>\n",
              "    </tr>\n",
              "    <tr>\n",
              "      <th>...</th>\n",
              "      <td>...</td>\n",
              "      <td>...</td>\n",
              "      <td>...</td>\n",
              "      <td>...</td>\n",
              "      <td>...</td>\n",
              "      <td>...</td>\n",
              "      <td>...</td>\n",
              "    </tr>\n",
              "    <tr>\n",
              "      <th>92</th>\n",
              "      <td>green_pea</td>\n",
              "      <td>1967</td>\n",
              "      <td>3870000</td>\n",
              "      <td>471952</td>\n",
              "      <td>347456</td>\n",
              "      <td>4</td>\n",
              "      <td>2.066252e+07</td>\n",
              "    </tr>\n",
              "    <tr>\n",
              "      <th>93</th>\n",
              "      <td>ginger</td>\n",
              "      <td>1993</td>\n",
              "      <td>2682000</td>\n",
              "      <td>354397</td>\n",
              "      <td>12416</td>\n",
              "      <td>4</td>\n",
              "      <td>3.100574e+07</td>\n",
              "    </tr>\n",
              "    <tr>\n",
              "      <th>94</th>\n",
              "      <td>rice</td>\n",
              "      <td>1961</td>\n",
              "      <td>384242</td>\n",
              "      <td>8961700</td>\n",
              "      <td>170581</td>\n",
              "      <td>4</td>\n",
              "      <td>4.702644e+07</td>\n",
              "    </tr>\n",
              "    <tr>\n",
              "      <th>95</th>\n",
              "      <td>banana</td>\n",
              "      <td>1961</td>\n",
              "      <td>7770000</td>\n",
              "      <td>230000</td>\n",
              "      <td>108882</td>\n",
              "      <td>4</td>\n",
              "      <td>8.643202e+06</td>\n",
              "    </tr>\n",
              "    <tr>\n",
              "      <th>97</th>\n",
              "      <td>potato</td>\n",
              "      <td>1994</td>\n",
              "      <td>80000</td>\n",
              "      <td>3758200</td>\n",
              "      <td>11534</td>\n",
              "      <td>4</td>\n",
              "      <td>2.859683e+07</td>\n",
              "    </tr>\n",
              "  </tbody>\n",
              "</table>\n",
              "<p>336 rows × 7 columns</p>\n",
              "</div>"
            ],
            "text/plain": [
              "         Crop  year  Area Harvested - Ha  Production Quantity - tonnes  \\\n",
              "1   green_pea  1990              3312000                      15100000   \n",
              "2       maize  2002              5896700                        419002   \n",
              "3       maize  1980               413000                       1576800   \n",
              "4         tea  1998              5863100                       1200000   \n",
              "5       wheat  1997               308653                      24713200   \n",
              "..        ...   ...                  ...                           ...   \n",
              "92  green_pea  1967              3870000                        471952   \n",
              "93     ginger  1993              2682000                        354397   \n",
              "94       rice  1961               384242                       8961700   \n",
              "95     banana  1961              7770000                        230000   \n",
              "97     potato  1994                80000                       3758200   \n",
              "\n",
              "    Yield - Hg/Ha  kfold  tar_enc_Crop  \n",
              "1           10456      0  2.071124e+07  \n",
              "2           72506      0  4.266453e+07  \n",
              "3          157391      0  4.266453e+07  \n",
              "4           17111      0  2.628405e+07  \n",
              "5           13799      0  1.548944e+07  \n",
              "..            ...    ...           ...  \n",
              "92         347456      4  2.066252e+07  \n",
              "93          12416      4  3.100574e+07  \n",
              "94         170581      4  4.702644e+07  \n",
              "95         108882      4  8.643202e+06  \n",
              "97          11534      4  2.859683e+07  \n",
              "\n",
              "[336 rows x 7 columns]"
            ]
          },
          "metadata": {},
          "execution_count": 72
        }
      ],
      "metadata": {
        "colab": {
          "base_uri": "https://localhost:8080/",
          "height": 419
        },
        "id": "pR8ry7xbk6E9",
        "outputId": "5efd042e-7ea0-46cd-92c3-5b99e6af04db"
      }
    },
    {
      "cell_type": "code",
      "execution_count": 73,
      "source": [
        "df = df_filtered"
      ],
      "outputs": [],
      "metadata": {
        "id": "lpP1kT8Zk7wh"
      }
    },
    {
      "cell_type": "code",
      "execution_count": 74,
      "source": [
        "q_low = df[\"Yield - Hg/Ha\"].quantile(0.1)\r\n",
        "q_hi  = df[\"Yield - Hg/Ha\"].quantile(0.9)\r\n",
        "\r\n",
        "df_filtered = df[(df[\"Yield - Hg/Ha\"] < q_hi) & (df[\"Yield - Hg/Ha\"] > q_low)]"
      ],
      "outputs": [],
      "metadata": {
        "id": "VmpkCPWck_Mo"
      }
    },
    {
      "cell_type": "code",
      "execution_count": 75,
      "source": [
        "df_filtered"
      ],
      "outputs": [
        {
          "output_type": "execute_result",
          "data": {
            "text/html": [
              "<div>\n",
              "<style scoped>\n",
              "    .dataframe tbody tr th:only-of-type {\n",
              "        vertical-align: middle;\n",
              "    }\n",
              "\n",
              "    .dataframe tbody tr th {\n",
              "        vertical-align: top;\n",
              "    }\n",
              "\n",
              "    .dataframe thead th {\n",
              "        text-align: right;\n",
              "    }\n",
              "</style>\n",
              "<table border=\"1\" class=\"dataframe\">\n",
              "  <thead>\n",
              "    <tr style=\"text-align: right;\">\n",
              "      <th></th>\n",
              "      <th>Crop</th>\n",
              "      <th>year</th>\n",
              "      <th>Area Harvested - Ha</th>\n",
              "      <th>Production Quantity - tonnes</th>\n",
              "      <th>Yield - Hg/Ha</th>\n",
              "      <th>kfold</th>\n",
              "      <th>tar_enc_Crop</th>\n",
              "    </tr>\n",
              "  </thead>\n",
              "  <tbody>\n",
              "    <tr>\n",
              "      <th>2</th>\n",
              "      <td>maize</td>\n",
              "      <td>2002</td>\n",
              "      <td>5896700</td>\n",
              "      <td>419002</td>\n",
              "      <td>72506</td>\n",
              "      <td>0</td>\n",
              "      <td>4.266453e+07</td>\n",
              "    </tr>\n",
              "    <tr>\n",
              "      <th>3</th>\n",
              "      <td>maize</td>\n",
              "      <td>1980</td>\n",
              "      <td>413000</td>\n",
              "      <td>1576800</td>\n",
              "      <td>157391</td>\n",
              "      <td>0</td>\n",
              "      <td>4.266453e+07</td>\n",
              "    </tr>\n",
              "    <tr>\n",
              "      <th>4</th>\n",
              "      <td>tea</td>\n",
              "      <td>1998</td>\n",
              "      <td>5863100</td>\n",
              "      <td>1200000</td>\n",
              "      <td>17111</td>\n",
              "      <td>0</td>\n",
              "      <td>2.628405e+07</td>\n",
              "    </tr>\n",
              "    <tr>\n",
              "      <th>5</th>\n",
              "      <td>wheat</td>\n",
              "      <td>1997</td>\n",
              "      <td>308653</td>\n",
              "      <td>24713200</td>\n",
              "      <td>13799</td>\n",
              "      <td>0</td>\n",
              "      <td>1.548944e+07</td>\n",
              "    </tr>\n",
              "    <tr>\n",
              "      <th>6</th>\n",
              "      <td>potato</td>\n",
              "      <td>1996</td>\n",
              "      <td>5682700</td>\n",
              "      <td>1537800</td>\n",
              "      <td>146341</td>\n",
              "      <td>0</td>\n",
              "      <td>3.066632e+07</td>\n",
              "    </tr>\n",
              "    <tr>\n",
              "      <th>...</th>\n",
              "      <td>...</td>\n",
              "      <td>...</td>\n",
              "      <td>...</td>\n",
              "      <td>...</td>\n",
              "      <td>...</td>\n",
              "      <td>...</td>\n",
              "      <td>...</td>\n",
              "    </tr>\n",
              "    <tr>\n",
              "      <th>86</th>\n",
              "      <td>maize</td>\n",
              "      <td>1991</td>\n",
              "      <td>2774000</td>\n",
              "      <td>6361200</td>\n",
              "      <td>162162</td>\n",
              "      <td>4</td>\n",
              "      <td>2.157800e+07</td>\n",
              "    </tr>\n",
              "    <tr>\n",
              "      <th>89</th>\n",
              "      <td>papaya</td>\n",
              "      <td>1964</td>\n",
              "      <td>110000</td>\n",
              "      <td>2447000</td>\n",
              "      <td>13232</td>\n",
              "      <td>4</td>\n",
              "      <td>2.538743e+07</td>\n",
              "    </tr>\n",
              "    <tr>\n",
              "      <th>90</th>\n",
              "      <td>grape</td>\n",
              "      <td>1996</td>\n",
              "      <td>34330</td>\n",
              "      <td>1330000</td>\n",
              "      <td>184426</td>\n",
              "      <td>4</td>\n",
              "      <td>4.770028e+07</td>\n",
              "    </tr>\n",
              "    <tr>\n",
              "      <th>94</th>\n",
              "      <td>rice</td>\n",
              "      <td>1961</td>\n",
              "      <td>384242</td>\n",
              "      <td>8961700</td>\n",
              "      <td>170581</td>\n",
              "      <td>4</td>\n",
              "      <td>4.702644e+07</td>\n",
              "    </tr>\n",
              "    <tr>\n",
              "      <th>95</th>\n",
              "      <td>banana</td>\n",
              "      <td>1961</td>\n",
              "      <td>7770000</td>\n",
              "      <td>230000</td>\n",
              "      <td>108882</td>\n",
              "      <td>4</td>\n",
              "      <td>8.643202e+06</td>\n",
              "    </tr>\n",
              "  </tbody>\n",
              "</table>\n",
              "<p>268 rows × 7 columns</p>\n",
              "</div>"
            ],
            "text/plain": [
              "      Crop  year  Area Harvested - Ha  Production Quantity - tonnes  \\\n",
              "2    maize  2002              5896700                        419002   \n",
              "3    maize  1980               413000                       1576800   \n",
              "4      tea  1998              5863100                       1200000   \n",
              "5    wheat  1997               308653                      24713200   \n",
              "6   potato  1996              5682700                       1537800   \n",
              "..     ...   ...                  ...                           ...   \n",
              "86   maize  1991              2774000                       6361200   \n",
              "89  papaya  1964               110000                       2447000   \n",
              "90   grape  1996                34330                       1330000   \n",
              "94    rice  1961               384242                       8961700   \n",
              "95  banana  1961              7770000                        230000   \n",
              "\n",
              "    Yield - Hg/Ha  kfold  tar_enc_Crop  \n",
              "2           72506      0  4.266453e+07  \n",
              "3          157391      0  4.266453e+07  \n",
              "4           17111      0  2.628405e+07  \n",
              "5           13799      0  1.548944e+07  \n",
              "6          146341      0  3.066632e+07  \n",
              "..            ...    ...           ...  \n",
              "86         162162      4  2.157800e+07  \n",
              "89          13232      4  2.538743e+07  \n",
              "90         184426      4  4.770028e+07  \n",
              "94         170581      4  4.702644e+07  \n",
              "95         108882      4  8.643202e+06  \n",
              "\n",
              "[268 rows x 7 columns]"
            ]
          },
          "metadata": {},
          "execution_count": 75
        }
      ],
      "metadata": {
        "colab": {
          "base_uri": "https://localhost:8080/",
          "height": 419
        },
        "id": "NytqCieGlJqn",
        "outputId": "b3ca7db7-14a4-443f-daee-9a7cc57ab11e"
      }
    },
    {
      "cell_type": "code",
      "execution_count": 76,
      "source": [
        "df = df_filtered"
      ],
      "outputs": [],
      "metadata": {
        "id": "5TifHPRIlLg5"
      }
    },
    {
      "cell_type": "code",
      "execution_count": 77,
      "source": [
        "from sklearn.model_selection import train_test_split\r\n",
        "\r\n",
        "train, df_test = train_test_split(df, test_size=0.2)"
      ],
      "outputs": [],
      "metadata": {
        "id": "3Mem1Oj0lQQs"
      }
    },
    {
      "cell_type": "code",
      "execution_count": 78,
      "source": [
        "df.head()"
      ],
      "outputs": [
        {
          "output_type": "execute_result",
          "data": {
            "text/html": [
              "<div>\n",
              "<style scoped>\n",
              "    .dataframe tbody tr th:only-of-type {\n",
              "        vertical-align: middle;\n",
              "    }\n",
              "\n",
              "    .dataframe tbody tr th {\n",
              "        vertical-align: top;\n",
              "    }\n",
              "\n",
              "    .dataframe thead th {\n",
              "        text-align: right;\n",
              "    }\n",
              "</style>\n",
              "<table border=\"1\" class=\"dataframe\">\n",
              "  <thead>\n",
              "    <tr style=\"text-align: right;\">\n",
              "      <th></th>\n",
              "      <th>Crop</th>\n",
              "      <th>year</th>\n",
              "      <th>Area Harvested - Ha</th>\n",
              "      <th>Production Quantity - tonnes</th>\n",
              "      <th>Yield - Hg/Ha</th>\n",
              "      <th>kfold</th>\n",
              "      <th>tar_enc_Crop</th>\n",
              "    </tr>\n",
              "  </thead>\n",
              "  <tbody>\n",
              "    <tr>\n",
              "      <th>2</th>\n",
              "      <td>maize</td>\n",
              "      <td>2002</td>\n",
              "      <td>5896700</td>\n",
              "      <td>419002</td>\n",
              "      <td>72506</td>\n",
              "      <td>0</td>\n",
              "      <td>4.266453e+07</td>\n",
              "    </tr>\n",
              "    <tr>\n",
              "      <th>3</th>\n",
              "      <td>maize</td>\n",
              "      <td>1980</td>\n",
              "      <td>413000</td>\n",
              "      <td>1576800</td>\n",
              "      <td>157391</td>\n",
              "      <td>0</td>\n",
              "      <td>4.266453e+07</td>\n",
              "    </tr>\n",
              "    <tr>\n",
              "      <th>4</th>\n",
              "      <td>tea</td>\n",
              "      <td>1998</td>\n",
              "      <td>5863100</td>\n",
              "      <td>1200000</td>\n",
              "      <td>17111</td>\n",
              "      <td>0</td>\n",
              "      <td>2.628405e+07</td>\n",
              "    </tr>\n",
              "    <tr>\n",
              "      <th>5</th>\n",
              "      <td>wheat</td>\n",
              "      <td>1997</td>\n",
              "      <td>308653</td>\n",
              "      <td>24713200</td>\n",
              "      <td>13799</td>\n",
              "      <td>0</td>\n",
              "      <td>1.548944e+07</td>\n",
              "    </tr>\n",
              "    <tr>\n",
              "      <th>6</th>\n",
              "      <td>potato</td>\n",
              "      <td>1996</td>\n",
              "      <td>5682700</td>\n",
              "      <td>1537800</td>\n",
              "      <td>146341</td>\n",
              "      <td>0</td>\n",
              "      <td>3.066632e+07</td>\n",
              "    </tr>\n",
              "  </tbody>\n",
              "</table>\n",
              "</div>"
            ],
            "text/plain": [
              "     Crop  year  Area Harvested - Ha  Production Quantity - tonnes  \\\n",
              "2   maize  2002              5896700                        419002   \n",
              "3   maize  1980               413000                       1576800   \n",
              "4     tea  1998              5863100                       1200000   \n",
              "5   wheat  1997               308653                      24713200   \n",
              "6  potato  1996              5682700                       1537800   \n",
              "\n",
              "   Yield - Hg/Ha  kfold  tar_enc_Crop  \n",
              "2          72506      0  4.266453e+07  \n",
              "3         157391      0  4.266453e+07  \n",
              "4          17111      0  2.628405e+07  \n",
              "5          13799      0  1.548944e+07  \n",
              "6         146341      0  3.066632e+07  "
            ]
          },
          "metadata": {},
          "execution_count": 78
        }
      ],
      "metadata": {
        "colab": {
          "base_uri": "https://localhost:8080/",
          "height": 204
        },
        "id": "HF8MOae3m3E0",
        "outputId": "9b829b14-559a-49e8-8b3a-34c3e7262510"
      }
    },
    {
      "cell_type": "code",
      "execution_count": 79,
      "source": [
        "train.head()"
      ],
      "outputs": [
        {
          "output_type": "execute_result",
          "data": {
            "text/html": [
              "<div>\n",
              "<style scoped>\n",
              "    .dataframe tbody tr th:only-of-type {\n",
              "        vertical-align: middle;\n",
              "    }\n",
              "\n",
              "    .dataframe tbody tr th {\n",
              "        vertical-align: top;\n",
              "    }\n",
              "\n",
              "    .dataframe thead th {\n",
              "        text-align: right;\n",
              "    }\n",
              "</style>\n",
              "<table border=\"1\" class=\"dataframe\">\n",
              "  <thead>\n",
              "    <tr style=\"text-align: right;\">\n",
              "      <th></th>\n",
              "      <th>Crop</th>\n",
              "      <th>year</th>\n",
              "      <th>Area Harvested - Ha</th>\n",
              "      <th>Production Quantity - tonnes</th>\n",
              "      <th>Yield - Hg/Ha</th>\n",
              "      <th>kfold</th>\n",
              "      <th>tar_enc_Crop</th>\n",
              "    </tr>\n",
              "  </thead>\n",
              "  <tbody>\n",
              "    <tr>\n",
              "      <th>30</th>\n",
              "      <td>barley</td>\n",
              "      <td>1999</td>\n",
              "      <td>97000</td>\n",
              "      <td>366374</td>\n",
              "      <td>162500</td>\n",
              "      <td>1</td>\n",
              "      <td>2.761234e+07</td>\n",
              "    </tr>\n",
              "    <tr>\n",
              "      <th>94</th>\n",
              "      <td>maize</td>\n",
              "      <td>1977</td>\n",
              "      <td>2862000</td>\n",
              "      <td>393588</td>\n",
              "      <td>108860</td>\n",
              "      <td>3</td>\n",
              "      <td>4.520476e+07</td>\n",
              "    </tr>\n",
              "    <tr>\n",
              "      <th>103</th>\n",
              "      <td>potato</td>\n",
              "      <td>2006</td>\n",
              "      <td>350000</td>\n",
              "      <td>7600000</td>\n",
              "      <td>108761</td>\n",
              "      <td>3</td>\n",
              "      <td>2.235384e+07</td>\n",
              "    </tr>\n",
              "    <tr>\n",
              "      <th>73</th>\n",
              "      <td>green_pea</td>\n",
              "      <td>1975</td>\n",
              "      <td>1827800</td>\n",
              "      <td>6269300</td>\n",
              "      <td>145714</td>\n",
              "      <td>2</td>\n",
              "      <td>2.402946e+07</td>\n",
              "    </tr>\n",
              "    <tr>\n",
              "      <th>96</th>\n",
              "      <td>pineapple</td>\n",
              "      <td>1965</td>\n",
              "      <td>479000</td>\n",
              "      <td>787000</td>\n",
              "      <td>26270</td>\n",
              "      <td>2</td>\n",
              "      <td>1.098021e+07</td>\n",
              "    </tr>\n",
              "  </tbody>\n",
              "</table>\n",
              "</div>"
            ],
            "text/plain": [
              "          Crop  year  Area Harvested - Ha  Production Quantity - tonnes  \\\n",
              "30      barley  1999                97000                        366374   \n",
              "94       maize  1977              2862000                        393588   \n",
              "103     potato  2006               350000                       7600000   \n",
              "73   green_pea  1975              1827800                       6269300   \n",
              "96   pineapple  1965               479000                        787000   \n",
              "\n",
              "     Yield - Hg/Ha  kfold  tar_enc_Crop  \n",
              "30          162500      1  2.761234e+07  \n",
              "94          108860      3  4.520476e+07  \n",
              "103         108761      3  2.235384e+07  \n",
              "73          145714      2  2.402946e+07  \n",
              "96           26270      2  1.098021e+07  "
            ]
          },
          "metadata": {},
          "execution_count": 79
        }
      ],
      "metadata": {
        "colab": {
          "base_uri": "https://localhost:8080/",
          "height": 204
        },
        "id": "S0rBl3SEm8sy",
        "outputId": "39c8c05e-fb8f-4339-c84a-ff32f3ed209b"
      }
    },
    {
      "cell_type": "code",
      "execution_count": 86,
      "source": [
        "df = train"
      ],
      "outputs": [
        {
          "output_type": "stream",
          "name": "stdout",
          "text": [
            "᲼᲼᲼᲼᲼᲼\n"
          ]
        }
      ],
      "metadata": {
        "id": "-ZPnjR1slsEQ"
      }
    },
    {
      "cell_type": "code",
      "execution_count": 81,
      "source": [
        "kf = model_selection.KFold(n_splits=5, shuffle=True, random_state=42)\r\n",
        "for fold, (train_indicies, valid_indicies) in enumerate(kf.split(X=df)):\r\n",
        "    df.loc[valid_indicies, \"kfold\"] = fold "
      ],
      "outputs": [
        {
          "output_type": "error",
          "ename": "KeyError",
          "evalue": "'[138, 141, 144, 148, 152, 25, 158, 167, 170, 171, 175, 178, 182, 184, 190, 191, 66, 195, 197, 200, 75, 203, 209, 211, 111, 117] not in index'",
          "traceback": [
            "\u001b[1;31m---------------------------------------------------------------------------\u001b[0m",
            "\u001b[1;31mKeyError\u001b[0m                                  Traceback (most recent call last)",
            "\u001b[1;32m<ipython-input-81-0209b53a3b5b>\u001b[0m in \u001b[0;36m<module>\u001b[1;34m\u001b[0m\n\u001b[0;32m      1\u001b[0m \u001b[0mkf\u001b[0m \u001b[1;33m=\u001b[0m \u001b[0mmodel_selection\u001b[0m\u001b[1;33m.\u001b[0m\u001b[0mKFold\u001b[0m\u001b[1;33m(\u001b[0m\u001b[0mn_splits\u001b[0m\u001b[1;33m=\u001b[0m\u001b[1;36m5\u001b[0m\u001b[1;33m,\u001b[0m \u001b[0mshuffle\u001b[0m\u001b[1;33m=\u001b[0m\u001b[1;32mTrue\u001b[0m\u001b[1;33m,\u001b[0m \u001b[0mrandom_state\u001b[0m\u001b[1;33m=\u001b[0m\u001b[1;36m42\u001b[0m\u001b[1;33m)\u001b[0m\u001b[1;33m\u001b[0m\u001b[1;33m\u001b[0m\u001b[0m\n\u001b[0;32m      2\u001b[0m \u001b[1;32mfor\u001b[0m \u001b[0mfold\u001b[0m\u001b[1;33m,\u001b[0m \u001b[1;33m(\u001b[0m\u001b[0mtrain_indicies\u001b[0m\u001b[1;33m,\u001b[0m \u001b[0mvalid_indicies\u001b[0m\u001b[1;33m)\u001b[0m \u001b[1;32min\u001b[0m \u001b[0menumerate\u001b[0m\u001b[1;33m(\u001b[0m\u001b[0mkf\u001b[0m\u001b[1;33m.\u001b[0m\u001b[0msplit\u001b[0m\u001b[1;33m(\u001b[0m\u001b[0mX\u001b[0m\u001b[1;33m=\u001b[0m\u001b[0mdf\u001b[0m\u001b[1;33m)\u001b[0m\u001b[1;33m)\u001b[0m\u001b[1;33m:\u001b[0m\u001b[1;33m\u001b[0m\u001b[1;33m\u001b[0m\u001b[0m\n\u001b[1;32m----> 3\u001b[1;33m     \u001b[0mdf\u001b[0m\u001b[1;33m.\u001b[0m\u001b[0mloc\u001b[0m\u001b[1;33m[\u001b[0m\u001b[0mvalid_indicies\u001b[0m\u001b[1;33m,\u001b[0m \u001b[1;34m\"kfold\"\u001b[0m\u001b[1;33m]\u001b[0m \u001b[1;33m=\u001b[0m \u001b[0mfold\u001b[0m\u001b[1;33m\u001b[0m\u001b[1;33m\u001b[0m\u001b[0m\n\u001b[0m",
            "\u001b[1;32m~\\anaconda3\\lib\\site-packages\\pandas\\core\\indexing.py\u001b[0m in \u001b[0;36m__setitem__\u001b[1;34m(self, key, value)\u001b[0m\n\u001b[0;32m    668\u001b[0m         \u001b[1;32melse\u001b[0m\u001b[1;33m:\u001b[0m\u001b[1;33m\u001b[0m\u001b[1;33m\u001b[0m\u001b[0m\n\u001b[0;32m    669\u001b[0m             \u001b[0mkey\u001b[0m \u001b[1;33m=\u001b[0m \u001b[0mcom\u001b[0m\u001b[1;33m.\u001b[0m\u001b[0mapply_if_callable\u001b[0m\u001b[1;33m(\u001b[0m\u001b[0mkey\u001b[0m\u001b[1;33m,\u001b[0m \u001b[0mself\u001b[0m\u001b[1;33m.\u001b[0m\u001b[0mobj\u001b[0m\u001b[1;33m)\u001b[0m\u001b[1;33m\u001b[0m\u001b[1;33m\u001b[0m\u001b[0m\n\u001b[1;32m--> 670\u001b[1;33m         \u001b[0mindexer\u001b[0m \u001b[1;33m=\u001b[0m \u001b[0mself\u001b[0m\u001b[1;33m.\u001b[0m\u001b[0m_get_setitem_indexer\u001b[0m\u001b[1;33m(\u001b[0m\u001b[0mkey\u001b[0m\u001b[1;33m)\u001b[0m\u001b[1;33m\u001b[0m\u001b[1;33m\u001b[0m\u001b[0m\n\u001b[0m\u001b[0;32m    671\u001b[0m         \u001b[0mself\u001b[0m\u001b[1;33m.\u001b[0m\u001b[0m_setitem_with_indexer\u001b[0m\u001b[1;33m(\u001b[0m\u001b[0mindexer\u001b[0m\u001b[1;33m,\u001b[0m \u001b[0mvalue\u001b[0m\u001b[1;33m)\u001b[0m\u001b[1;33m\u001b[0m\u001b[1;33m\u001b[0m\u001b[0m\n\u001b[0;32m    672\u001b[0m \u001b[1;33m\u001b[0m\u001b[0m\n",
            "\u001b[1;32m~\\anaconda3\\lib\\site-packages\\pandas\\core\\indexing.py\u001b[0m in \u001b[0;36m_get_setitem_indexer\u001b[1;34m(self, key)\u001b[0m\n\u001b[0;32m    646\u001b[0m         \u001b[1;32mif\u001b[0m \u001b[0misinstance\u001b[0m\u001b[1;33m(\u001b[0m\u001b[0mkey\u001b[0m\u001b[1;33m,\u001b[0m \u001b[0mtuple\u001b[0m\u001b[1;33m)\u001b[0m\u001b[1;33m:\u001b[0m\u001b[1;33m\u001b[0m\u001b[1;33m\u001b[0m\u001b[0m\n\u001b[0;32m    647\u001b[0m             \u001b[1;32mtry\u001b[0m\u001b[1;33m:\u001b[0m\u001b[1;33m\u001b[0m\u001b[1;33m\u001b[0m\u001b[0m\n\u001b[1;32m--> 648\u001b[1;33m                 \u001b[1;32mreturn\u001b[0m \u001b[0mself\u001b[0m\u001b[1;33m.\u001b[0m\u001b[0m_convert_tuple\u001b[0m\u001b[1;33m(\u001b[0m\u001b[0mkey\u001b[0m\u001b[1;33m)\u001b[0m\u001b[1;33m\u001b[0m\u001b[1;33m\u001b[0m\u001b[0m\n\u001b[0m\u001b[0;32m    649\u001b[0m             \u001b[1;32mexcept\u001b[0m \u001b[0mIndexingError\u001b[0m\u001b[1;33m:\u001b[0m\u001b[1;33m\u001b[0m\u001b[1;33m\u001b[0m\u001b[0m\n\u001b[0;32m    650\u001b[0m                 \u001b[1;32mpass\u001b[0m\u001b[1;33m\u001b[0m\u001b[1;33m\u001b[0m\u001b[0m\n",
            "\u001b[1;32m~\\anaconda3\\lib\\site-packages\\pandas\\core\\indexing.py\u001b[0m in \u001b[0;36m_convert_tuple\u001b[1;34m(self, key)\u001b[0m\n\u001b[0;32m    731\u001b[0m                 \u001b[1;32mif\u001b[0m \u001b[0mi\u001b[0m \u001b[1;33m>=\u001b[0m \u001b[0mself\u001b[0m\u001b[1;33m.\u001b[0m\u001b[0mndim\u001b[0m\u001b[1;33m:\u001b[0m\u001b[1;33m\u001b[0m\u001b[1;33m\u001b[0m\u001b[0m\n\u001b[0;32m    732\u001b[0m                     \u001b[1;32mraise\u001b[0m \u001b[0mIndexingError\u001b[0m\u001b[1;33m(\u001b[0m\u001b[1;34m\"Too many indexers\"\u001b[0m\u001b[1;33m)\u001b[0m\u001b[1;33m\u001b[0m\u001b[1;33m\u001b[0m\u001b[0m\n\u001b[1;32m--> 733\u001b[1;33m                 \u001b[0midx\u001b[0m \u001b[1;33m=\u001b[0m \u001b[0mself\u001b[0m\u001b[1;33m.\u001b[0m\u001b[0m_convert_to_indexer\u001b[0m\u001b[1;33m(\u001b[0m\u001b[0mk\u001b[0m\u001b[1;33m,\u001b[0m \u001b[0maxis\u001b[0m\u001b[1;33m=\u001b[0m\u001b[0mi\u001b[0m\u001b[1;33m)\u001b[0m\u001b[1;33m\u001b[0m\u001b[1;33m\u001b[0m\u001b[0m\n\u001b[0m\u001b[0;32m    734\u001b[0m                 \u001b[0mkeyidx\u001b[0m\u001b[1;33m.\u001b[0m\u001b[0mappend\u001b[0m\u001b[1;33m(\u001b[0m\u001b[0midx\u001b[0m\u001b[1;33m)\u001b[0m\u001b[1;33m\u001b[0m\u001b[1;33m\u001b[0m\u001b[0m\n\u001b[0;32m    735\u001b[0m         \u001b[1;32mreturn\u001b[0m \u001b[0mtuple\u001b[0m\u001b[1;33m(\u001b[0m\u001b[0mkeyidx\u001b[0m\u001b[1;33m)\u001b[0m\u001b[1;33m\u001b[0m\u001b[1;33m\u001b[0m\u001b[0m\n",
            "\u001b[1;32m~\\anaconda3\\lib\\site-packages\\pandas\\core\\indexing.py\u001b[0m in \u001b[0;36m_convert_to_indexer\u001b[1;34m(self, obj, axis, raise_missing)\u001b[0m\n\u001b[0;32m   1730\u001b[0m             \u001b[1;32melse\u001b[0m\u001b[1;33m:\u001b[0m\u001b[1;33m\u001b[0m\u001b[1;33m\u001b[0m\u001b[0m\n\u001b[0;32m   1731\u001b[0m                 \u001b[1;31m# When setting, missing keys are not allowed, even with .loc:\u001b[0m\u001b[1;33m\u001b[0m\u001b[1;33m\u001b[0m\u001b[1;33m\u001b[0m\u001b[0m\n\u001b[1;32m-> 1732\u001b[1;33m                 \u001b[1;32mreturn\u001b[0m \u001b[0mself\u001b[0m\u001b[1;33m.\u001b[0m\u001b[0m_get_listlike_indexer\u001b[0m\u001b[1;33m(\u001b[0m\u001b[0mobj\u001b[0m\u001b[1;33m,\u001b[0m \u001b[0maxis\u001b[0m\u001b[1;33m,\u001b[0m \u001b[0mraise_missing\u001b[0m\u001b[1;33m=\u001b[0m\u001b[1;32mTrue\u001b[0m\u001b[1;33m)\u001b[0m\u001b[1;33m[\u001b[0m\u001b[1;36m1\u001b[0m\u001b[1;33m]\u001b[0m\u001b[1;33m\u001b[0m\u001b[1;33m\u001b[0m\u001b[0m\n\u001b[0m\u001b[0;32m   1733\u001b[0m         \u001b[1;32melse\u001b[0m\u001b[1;33m:\u001b[0m\u001b[1;33m\u001b[0m\u001b[1;33m\u001b[0m\u001b[0m\n\u001b[0;32m   1734\u001b[0m             \u001b[1;32mtry\u001b[0m\u001b[1;33m:\u001b[0m\u001b[1;33m\u001b[0m\u001b[1;33m\u001b[0m\u001b[0m\n",
            "\u001b[1;32m~\\anaconda3\\lib\\site-packages\\pandas\\core\\indexing.py\u001b[0m in \u001b[0;36m_get_listlike_indexer\u001b[1;34m(self, key, axis, raise_missing)\u001b[0m\n\u001b[0;32m   1550\u001b[0m             \u001b[0mkeyarr\u001b[0m\u001b[1;33m,\u001b[0m \u001b[0mindexer\u001b[0m\u001b[1;33m,\u001b[0m \u001b[0mnew_indexer\u001b[0m \u001b[1;33m=\u001b[0m \u001b[0max\u001b[0m\u001b[1;33m.\u001b[0m\u001b[0m_reindex_non_unique\u001b[0m\u001b[1;33m(\u001b[0m\u001b[0mkeyarr\u001b[0m\u001b[1;33m)\u001b[0m\u001b[1;33m\u001b[0m\u001b[1;33m\u001b[0m\u001b[0m\n\u001b[0;32m   1551\u001b[0m \u001b[1;33m\u001b[0m\u001b[0m\n\u001b[1;32m-> 1552\u001b[1;33m         self._validate_read_indexer(\n\u001b[0m\u001b[0;32m   1553\u001b[0m             \u001b[0mkeyarr\u001b[0m\u001b[1;33m,\u001b[0m \u001b[0mindexer\u001b[0m\u001b[1;33m,\u001b[0m \u001b[0mo\u001b[0m\u001b[1;33m.\u001b[0m\u001b[0m_get_axis_number\u001b[0m\u001b[1;33m(\u001b[0m\u001b[0maxis\u001b[0m\u001b[1;33m)\u001b[0m\u001b[1;33m,\u001b[0m \u001b[0mraise_missing\u001b[0m\u001b[1;33m=\u001b[0m\u001b[0mraise_missing\u001b[0m\u001b[1;33m\u001b[0m\u001b[1;33m\u001b[0m\u001b[0m\n\u001b[0;32m   1554\u001b[0m         )\n",
            "\u001b[1;32m~\\anaconda3\\lib\\site-packages\\pandas\\core\\indexing.py\u001b[0m in \u001b[0;36m_validate_read_indexer\u001b[1;34m(self, key, indexer, axis, raise_missing)\u001b[0m\n\u001b[0;32m   1644\u001b[0m             \u001b[1;32mif\u001b[0m \u001b[1;32mnot\u001b[0m \u001b[1;33m(\u001b[0m\u001b[0mself\u001b[0m\u001b[1;33m.\u001b[0m\u001b[0mname\u001b[0m \u001b[1;33m==\u001b[0m \u001b[1;34m\"loc\"\u001b[0m \u001b[1;32mand\u001b[0m \u001b[1;32mnot\u001b[0m \u001b[0mraise_missing\u001b[0m\u001b[1;33m)\u001b[0m\u001b[1;33m:\u001b[0m\u001b[1;33m\u001b[0m\u001b[1;33m\u001b[0m\u001b[0m\n\u001b[0;32m   1645\u001b[0m                 \u001b[0mnot_found\u001b[0m \u001b[1;33m=\u001b[0m \u001b[0mlist\u001b[0m\u001b[1;33m(\u001b[0m\u001b[0mset\u001b[0m\u001b[1;33m(\u001b[0m\u001b[0mkey\u001b[0m\u001b[1;33m)\u001b[0m \u001b[1;33m-\u001b[0m \u001b[0mset\u001b[0m\u001b[1;33m(\u001b[0m\u001b[0max\u001b[0m\u001b[1;33m)\u001b[0m\u001b[1;33m)\u001b[0m\u001b[1;33m\u001b[0m\u001b[1;33m\u001b[0m\u001b[0m\n\u001b[1;32m-> 1646\u001b[1;33m                 \u001b[1;32mraise\u001b[0m \u001b[0mKeyError\u001b[0m\u001b[1;33m(\u001b[0m\u001b[1;34mf\"{not_found} not in index\"\u001b[0m\u001b[1;33m)\u001b[0m\u001b[1;33m\u001b[0m\u001b[1;33m\u001b[0m\u001b[0m\n\u001b[0m\u001b[0;32m   1647\u001b[0m \u001b[1;33m\u001b[0m\u001b[0m\n\u001b[0;32m   1648\u001b[0m             \u001b[1;31m# we skip the warning on Categorical/Interval\u001b[0m\u001b[1;33m\u001b[0m\u001b[1;33m\u001b[0m\u001b[1;33m\u001b[0m\u001b[0m\n",
            "\u001b[1;31mKeyError\u001b[0m: '[138, 141, 144, 148, 152, 25, 158, 167, 170, 171, 175, 178, 182, 184, 190, 191, 66, 195, 197, 200, 75, 203, 209, 211, 111, 117] not in index'"
          ]
        }
      ],
      "metadata": {
        "colab": {
          "base_uri": "https://localhost:8080/",
          "height": 340
        },
        "id": "1ACQdxAlnnML",
        "outputId": "87c06ee8-ffcb-4c41-f144-dbdbcb5ad9e9"
      }
    },
    {
      "cell_type": "code",
      "execution_count": 82,
      "source": [
        "useful_features = [c for c in df.columns if c not in (\"id\", \"Production Quantity - tonnes\", \"kfold\")]\r\n",
        "object_cols = [col for col in useful_features if col.startswith(\"Cro\")]\r\n",
        "df_test = df_test[useful_features]\r\n",
        "\r\n",
        "for col in object_cols:\r\n",
        "    temp_df = []\r\n",
        "    temp_test_feat = None\r\n",
        "    for fold in range(5):\r\n",
        "        xtrain =  df[df.kfold != fold].reset_index(drop=True)\r\n",
        "        xvalid = df[df.kfold == fold].reset_index(drop=True)\r\n",
        "        feat = xtrain.groupby(col)[\"Production Quantity - tonnes\"].agg(\"mean\")\r\n",
        "        feat = feat.to_dict()\r\n",
        "        xvalid.loc[:, f\"tar_enc_{col}\"] = xvalid[col].map(feat)\r\n",
        "        temp_df.append(xvalid)\r\n",
        "        if temp_test_feat is None:\r\n",
        "            temp_test_feat = df_test[col].map(feat)\r\n",
        "        else:\r\n",
        "            temp_test_feat += df_test[col].map(feat)\r\n",
        "    \r\n",
        "    temp_test_feat /= 5\r\n",
        "    df_test.loc[:, f\"tar_enc_{col}\"] = temp_test_feat\r\n",
        "    df = pd.concat(temp_df)\r\n",
        "    \r\n"
      ],
      "outputs": [],
      "metadata": {
        "id": "YbGY95nLlttW"
      }
    },
    {
      "cell_type": "code",
      "execution_count": 83,
      "source": [
        "useful_features = [c for c in df.columns if c not in (\"id\", \"Production Quantity - tonnes\", \"kfold\")]\r\n",
        "object_cols = [col for col in useful_features if col.startswith(\"Cro\")]\r\n",
        "numerical_cols = [col for col in useful_features if not (col.startswith(\"Cro\"))]\r\n",
        "\r\n",
        "df_test = df_test[useful_features]\r\n"
      ],
      "outputs": [],
      "metadata": {
        "id": "Eu82HYallzZn"
      }
    },
    {
      "cell_type": "code",
      "execution_count": null,
      "source": [],
      "outputs": [],
      "metadata": {
        "id": "6EjbMJX-mxv2"
      }
    },
    {
      "cell_type": "markdown",
      "source": [
        "# trained once again with 0.1 to 0.9  quantile"
      ],
      "metadata": {
        "id": "MtSIqeqIHaIK"
      }
    },
    {
      "cell_type": "code",
      "execution_count": 84,
      "source": [
        "def run(trial):\r\n",
        "    fold = 0\r\n",
        "    learning_rate = trial.suggest_float(\"learning_rate\", 1e-2, 0.25, log=True)\r\n",
        "    reg_lambda = trial.suggest_loguniform(\"reg_lambda\", 1e-8, 100.0)\r\n",
        "    reg_alpha = trial.suggest_loguniform(\"reg_alpha\", 1e-8, 100.0)\r\n",
        "    subsample = trial.suggest_float(\"subsample\", 0.1, 1.0)\r\n",
        "    colsample_bytree = trial.suggest_float(\"colsample_bytree\", 0.1, 1.0)\r\n",
        "    max_depth = trial.suggest_int(\"max_depth\", 1, 7)\r\n",
        "\r\n",
        "    xtrain = df[df.kfold != fold].reset_index(drop=True)\r\n",
        "    xvalid = df[df.kfold == fold].reset_index(drop=True)\r\n",
        "\r\n",
        "    ytrain = xtrain['Production Quantity - tonnes']\r\n",
        "    yvalid = xvalid['Production Quantity - tonnes']\r\n",
        "\r\n",
        "    xtrain = xtrain[useful_features]\r\n",
        "    xvalid = xvalid[useful_features]\r\n",
        "\r\n",
        "    ordinal_encoder = preprocessing.OrdinalEncoder()\r\n",
        "    xtrain[object_cols] = ordinal_encoder.fit_transform(xtrain[object_cols])\r\n",
        "    xvalid[object_cols] = ordinal_encoder.transform(xvalid[object_cols])\r\n",
        "\r\n",
        "    model = XGBRegressor(\r\n",
        "        random_state=42,\r\n",
        "        n_estimators=7000,\r\n",
        "        learning_rate=learning_rate,\r\n",
        "        reg_lambda=reg_lambda,\r\n",
        "        reg_alpha=reg_alpha,\r\n",
        "        subsample=subsample,\r\n",
        "        colsample_bytree=colsample_bytree,\r\n",
        "        max_depth=max_depth,\r\n",
        "    )\r\n",
        "    model.fit(xtrain, ytrain, eval_set=[(xvalid, yvalid)], verbose=1000)\r\n",
        "    preds_valid = model.predict(xvalid)\r\n",
        "    rmse = mean_squared_error(yvalid, preds_valid, squared=False)\r\n",
        "    return rmse"
      ],
      "outputs": [],
      "metadata": {
        "id": "_SJyRrPAl579"
      }
    },
    {
      "cell_type": "code",
      "execution_count": 85,
      "source": [
        "study = optuna.create_study(direction=\"minimize\")\r\n",
        "study.optimize(run, n_trials=15)"
      ],
      "outputs": [
        {
          "output_type": "stream",
          "name": "stderr",
          "text": [
            "\u001b[32m[I 2021-09-24 19:40:23,338]\u001b[0m A new study created in memory with name: no-name-0d565a70-8f59-4f4b-adc3-71f084875257\u001b[0m\n"
          ]
        },
        {
          "output_type": "stream",
          "name": "stdout",
          "text": [
            "[0]\tvalidation_0-rmse:28406710.00000\n",
            "[1000]\tvalidation_0-rmse:25933680.00000\n",
            "[2000]\tvalidation_0-rmse:26211130.00000\n",
            "[3000]\tvalidation_0-rmse:26376322.00000\n",
            "[4000]\tvalidation_0-rmse:26305800.00000\n",
            "[5000]\tvalidation_0-rmse:26282356.00000\n",
            "[6000]\tvalidation_0-rmse:26420062.00000\n",
            "[6999]\tvalidation_0-rmse:26412768.00000\n"
          ]
        },
        {
          "output_type": "stream",
          "name": "stderr",
          "text": [
            "\u001b[32m[I 2021-09-24 19:40:29,507]\u001b[0m Trial 0 finished with value: 26412768.903269682 and parameters: {'learning_rate': 0.03162820512245759, 'reg_lambda': 70.43625065832556, 'reg_alpha': 0.02712324800032141, 'subsample': 0.3002582626744624, 'colsample_bytree': 0.806987829034877, 'max_depth': 7}. Best is trial 0 with value: 26412768.903269682.\u001b[0m\n"
          ]
        },
        {
          "output_type": "stream",
          "name": "stdout",
          "text": [
            "[0]\tvalidation_0-rmse:28311094.00000\n",
            "[1000]\tvalidation_0-rmse:26842676.00000\n",
            "[2000]\tvalidation_0-rmse:26758900.00000\n",
            "[3000]\tvalidation_0-rmse:26723530.00000\n",
            "[4000]\tvalidation_0-rmse:26733270.00000\n",
            "[5000]\tvalidation_0-rmse:26748886.00000\n",
            "[6000]\tvalidation_0-rmse:26752140.00000\n",
            "[6999]\tvalidation_0-rmse:26756400.00000\n"
          ]
        },
        {
          "output_type": "stream",
          "name": "stderr",
          "text": [
            "\u001b[32m[I 2021-09-24 19:40:34,866]\u001b[0m Trial 1 finished with value: 26756399.858046 and parameters: {'learning_rate': 0.02633326186669946, 'reg_lambda': 8.229469316774991e-08, 'reg_alpha': 0.00041291798486981776, 'subsample': 0.5313002392565962, 'colsample_bytree': 0.19680819698661745, 'max_depth': 5}. Best is trial 0 with value: 26412768.903269682.\u001b[0m\n"
          ]
        },
        {
          "output_type": "stream",
          "name": "stdout",
          "text": [
            "[0]\tvalidation_0-rmse:27779062.00000\n",
            "[1000]\tvalidation_0-rmse:28638856.00000\n",
            "[2000]\tvalidation_0-rmse:28962948.00000\n",
            "[3000]\tvalidation_0-rmse:29004306.00000\n",
            "[4000]\tvalidation_0-rmse:29032286.00000\n",
            "[5000]\tvalidation_0-rmse:29040966.00000\n",
            "[6000]\tvalidation_0-rmse:29045018.00000\n",
            "[6999]\tvalidation_0-rmse:29045418.00000\n"
          ]
        },
        {
          "output_type": "stream",
          "name": "stderr",
          "text": [
            "\u001b[32m[I 2021-09-24 19:40:39,104]\u001b[0m Trial 2 finished with value: 29045416.83602419 and parameters: {'learning_rate': 0.13898032799010046, 'reg_lambda': 5.151264629090772, 'reg_alpha': 0.01609855029790429, 'subsample': 0.4472734051699354, 'colsample_bytree': 0.1063046022868934, 'max_depth': 5}. Best is trial 0 with value: 26412768.903269682.\u001b[0m\n"
          ]
        },
        {
          "output_type": "stream",
          "name": "stdout",
          "text": [
            "[0]\tvalidation_0-rmse:27258170.00000\n",
            "[1000]\tvalidation_0-rmse:27246702.00000\n",
            "[2000]\tvalidation_0-rmse:27246714.00000\n",
            "[3000]\tvalidation_0-rmse:27246724.00000\n",
            "[4000]\tvalidation_0-rmse:27246734.00000\n",
            "[5000]\tvalidation_0-rmse:27246742.00000\n",
            "[6000]\tvalidation_0-rmse:27246754.00000\n",
            "[6999]\tvalidation_0-rmse:27246760.00000\n"
          ]
        },
        {
          "output_type": "stream",
          "name": "stderr",
          "text": [
            "\u001b[32m[I 2021-09-24 19:40:43,127]\u001b[0m Trial 3 finished with value: 27246759.944516588 and parameters: {'learning_rate': 0.24579492997373636, 'reg_lambda': 0.0001734517512392683, 'reg_alpha': 28.051000778170568, 'subsample': 0.7514431784777481, 'colsample_bytree': 0.40936274048366417, 'max_depth': 4}. Best is trial 0 with value: 26412768.903269682.\u001b[0m\n"
          ]
        },
        {
          "output_type": "stream",
          "name": "stdout",
          "text": [
            "[0]\tvalidation_0-rmse:27090854.00000\n",
            "[1000]\tvalidation_0-rmse:30576458.00000\n",
            "[2000]\tvalidation_0-rmse:30913748.00000\n",
            "[3000]\tvalidation_0-rmse:29751218.00000\n",
            "[4000]\tvalidation_0-rmse:29871098.00000\n",
            "[5000]\tvalidation_0-rmse:29875122.00000\n",
            "[6000]\tvalidation_0-rmse:30778318.00000\n",
            "[6999]\tvalidation_0-rmse:30525240.00000\n"
          ]
        },
        {
          "output_type": "stream",
          "name": "stderr",
          "text": [
            "\u001b[32m[I 2021-09-24 19:40:45,990]\u001b[0m Trial 4 finished with value: 30525240.612653386 and parameters: {'learning_rate': 0.2100121494251217, 'reg_lambda': 5.900189108020124e-08, 'reg_alpha': 3.3363019881977445e-05, 'subsample': 0.29790699979375396, 'colsample_bytree': 0.12167905399855207, 'max_depth': 1}. Best is trial 0 with value: 26412768.903269682.\u001b[0m\n"
          ]
        },
        {
          "output_type": "stream",
          "name": "stdout",
          "text": [
            "[0]\tvalidation_0-rmse:28300656.00000\n",
            "[1000]\tvalidation_0-rmse:27020812.00000\n",
            "[2000]\tvalidation_0-rmse:27180058.00000\n",
            "[3000]\tvalidation_0-rmse:27063780.00000\n",
            "[4000]\tvalidation_0-rmse:26973454.00000\n",
            "[5000]\tvalidation_0-rmse:26964160.00000\n",
            "[6000]\tvalidation_0-rmse:26968792.00000\n",
            "[6999]\tvalidation_0-rmse:26993122.00000\n"
          ]
        },
        {
          "output_type": "stream",
          "name": "stderr",
          "text": [
            "\u001b[32m[I 2021-09-24 19:40:49,574]\u001b[0m Trial 5 finished with value: 26993121.301341586 and parameters: {'learning_rate': 0.025457412076681386, 'reg_lambda': 5.263462136326889e-07, 'reg_alpha': 2.5941435098711443e-07, 'subsample': 0.6039311410149406, 'colsample_bytree': 0.37333306215189443, 'max_depth': 3}. Best is trial 0 with value: 26412768.903269682.\u001b[0m\n"
          ]
        },
        {
          "output_type": "stream",
          "name": "stdout",
          "text": [
            "[0]\tvalidation_0-rmse:28320254.00000\n",
            "[1000]\tvalidation_0-rmse:25850186.00000\n",
            "[2000]\tvalidation_0-rmse:26226582.00000\n",
            "[3000]\tvalidation_0-rmse:26215298.00000\n",
            "[4000]\tvalidation_0-rmse:26299770.00000\n",
            "[5000]\tvalidation_0-rmse:26407560.00000\n",
            "[6000]\tvalidation_0-rmse:26461392.00000\n",
            "[6999]\tvalidation_0-rmse:26494110.00000\n"
          ]
        },
        {
          "output_type": "stream",
          "name": "stderr",
          "text": [
            "\u001b[32m[I 2021-09-24 19:40:55,364]\u001b[0m Trial 6 finished with value: 26494110.575060315 and parameters: {'learning_rate': 0.04758310354600656, 'reg_lambda': 40.11396957070346, 'reg_alpha': 0.002323296971178196, 'subsample': 0.35261690862801687, 'colsample_bytree': 0.8563325351566251, 'max_depth': 7}. Best is trial 0 with value: 26412768.903269682.\u001b[0m\n"
          ]
        },
        {
          "output_type": "stream",
          "name": "stdout",
          "text": [
            "[0]\tvalidation_0-rmse:28157340.00000\n",
            "[1000]\tvalidation_0-rmse:25684028.00000\n",
            "[2000]\tvalidation_0-rmse:25684096.00000\n",
            "[3000]\tvalidation_0-rmse:25684088.00000\n",
            "[4000]\tvalidation_0-rmse:25684082.00000\n",
            "[5000]\tvalidation_0-rmse:25684066.00000\n",
            "[6000]\tvalidation_0-rmse:25684058.00000\n",
            "[6999]\tvalidation_0-rmse:25684054.00000\n"
          ]
        },
        {
          "output_type": "stream",
          "name": "stderr",
          "text": [
            "\u001b[32m[I 2021-09-24 19:41:00,556]\u001b[0m Trial 7 finished with value: 25684054.742233433 and parameters: {'learning_rate': 0.08631086343560368, 'reg_lambda': 2.2673409692234157, 'reg_alpha': 4.019210839274633e-08, 'subsample': 0.7089040149484294, 'colsample_bytree': 0.7208950144454566, 'max_depth': 5}. Best is trial 7 with value: 25684054.742233433.\u001b[0m\n"
          ]
        },
        {
          "output_type": "stream",
          "name": "stdout",
          "text": [
            "[0]\tvalidation_0-rmse:28434908.00000\n",
            "[1000]\tvalidation_0-rmse:25750160.00000\n",
            "[2000]\tvalidation_0-rmse:25806530.00000\n",
            "[3000]\tvalidation_0-rmse:25813496.00000\n",
            "[4000]\tvalidation_0-rmse:25814808.00000\n",
            "[5000]\tvalidation_0-rmse:25815014.00000\n",
            "[6000]\tvalidation_0-rmse:25815040.00000\n",
            "[6999]\tvalidation_0-rmse:25815048.00000\n"
          ]
        },
        {
          "output_type": "stream",
          "name": "stderr",
          "text": [
            "\u001b[32m[I 2021-09-24 19:41:06,186]\u001b[0m Trial 8 finished with value: 25815047.903934754 and parameters: {'learning_rate': 0.024029348960308446, 'reg_lambda': 1.7275901300254806, 'reg_alpha': 1.3751269469050156e-08, 'subsample': 0.4139356064438844, 'colsample_bytree': 0.7002721466516802, 'max_depth': 6}. Best is trial 7 with value: 25684054.742233433.\u001b[0m\n"
          ]
        },
        {
          "output_type": "stream",
          "name": "stdout",
          "text": [
            "[0]\tvalidation_0-rmse:28340866.00000\n",
            "[1000]\tvalidation_0-rmse:25095314.00000\n",
            "[2000]\tvalidation_0-rmse:25099420.00000\n",
            "[3000]\tvalidation_0-rmse:25100186.00000\n",
            "[4000]\tvalidation_0-rmse:25100216.00000\n",
            "[5000]\tvalidation_0-rmse:25100202.00000\n",
            "[6000]\tvalidation_0-rmse:25100186.00000\n",
            "[6999]\tvalidation_0-rmse:25100186.00000\n"
          ]
        },
        {
          "output_type": "stream",
          "name": "stderr",
          "text": [
            "\u001b[32m[I 2021-09-24 19:41:12,130]\u001b[0m Trial 9 finished with value: 25100184.1590705 and parameters: {'learning_rate': 0.01882248425956229, 'reg_lambda': 0.000298260904918134, 'reg_alpha': 3.5420405136689906e-05, 'subsample': 0.7232620480635139, 'colsample_bytree': 0.432776671763352, 'max_depth': 6}. Best is trial 9 with value: 25100184.1590705.\u001b[0m\n"
          ]
        },
        {
          "output_type": "stream",
          "name": "stdout",
          "text": [
            "[0]\tvalidation_0-rmse:28393018.00000\n",
            "[1000]\tvalidation_0-rmse:24331658.00000\n",
            "[2000]\tvalidation_0-rmse:24526140.00000\n",
            "[3000]\tvalidation_0-rmse:24378220.00000\n",
            "[4000]\tvalidation_0-rmse:24182066.00000\n",
            "[5000]\tvalidation_0-rmse:24003468.00000\n",
            "[6000]\tvalidation_0-rmse:23895024.00000\n",
            "[6999]\tvalidation_0-rmse:23834956.00000\n"
          ]
        },
        {
          "output_type": "stream",
          "name": "stderr",
          "text": [
            "\u001b[32m[I 2021-09-24 19:41:15,444]\u001b[0m Trial 10 finished with value: 23834955.18709412 and parameters: {'learning_rate': 0.0110883775618612, 'reg_lambda': 0.001745274409825321, 'reg_alpha': 1.3774591179647415e-05, 'subsample': 0.9637655763751369, 'colsample_bytree': 0.5309787471313389, 'max_depth': 2}. Best is trial 10 with value: 23834955.18709412.\u001b[0m\n"
          ]
        },
        {
          "output_type": "stream",
          "name": "stdout",
          "text": [
            "[0]\tvalidation_0-rmse:28400524.00000\n",
            "[1000]\tvalidation_0-rmse:24183616.00000\n",
            "[2000]\tvalidation_0-rmse:24463518.00000\n",
            "[3000]\tvalidation_0-rmse:24187546.00000\n",
            "[4000]\tvalidation_0-rmse:23444722.00000\n",
            "[5000]\tvalidation_0-rmse:23228522.00000\n",
            "[6000]\tvalidation_0-rmse:22954384.00000\n",
            "[6999]\tvalidation_0-rmse:22853854.00000\n"
          ]
        },
        {
          "output_type": "stream",
          "name": "stderr",
          "text": [
            "\u001b[32m[I 2021-09-24 19:41:18,725]\u001b[0m Trial 11 finished with value: 22853854.979515508 and parameters: {'learning_rate': 0.010069572470899202, 'reg_lambda': 0.0018283682560510674, 'reg_alpha': 2.8995302822210395e-06, 'subsample': 0.9952059909166179, 'colsample_bytree': 0.534930131584619, 'max_depth': 2}. Best is trial 11 with value: 22853854.979515508.\u001b[0m\n"
          ]
        },
        {
          "output_type": "stream",
          "name": "stdout",
          "text": [
            "[0]\tvalidation_0-rmse:28416044.00000\n",
            "[1000]\tvalidation_0-rmse:25176620.00000\n",
            "[2000]\tvalidation_0-rmse:25640628.00000\n",
            "[3000]\tvalidation_0-rmse:26018394.00000\n",
            "[4000]\tvalidation_0-rmse:26325186.00000\n",
            "[5000]\tvalidation_0-rmse:26460574.00000\n",
            "[6000]\tvalidation_0-rmse:26528060.00000\n",
            "[6999]\tvalidation_0-rmse:26641066.00000\n"
          ]
        },
        {
          "output_type": "stream",
          "name": "stderr",
          "text": [
            "\u001b[32m[I 2021-09-24 19:41:21,631]\u001b[0m Trial 12 finished with value: 26641066.469571304 and parameters: {'learning_rate': 0.01130728326557693, 'reg_lambda': 0.014378946150686628, 'reg_alpha': 2.6173440694129087e-06, 'subsample': 0.9988699113066356, 'colsample_bytree': 0.5772576082384363, 'max_depth': 1}. Best is trial 11 with value: 22853854.979515508.\u001b[0m\n"
          ]
        },
        {
          "output_type": "stream",
          "name": "stdout",
          "text": [
            "[0]\tvalidation_0-rmse:28397684.00000\n",
            "[1000]\tvalidation_0-rmse:24244212.00000\n",
            "[2000]\tvalidation_0-rmse:24508086.00000\n",
            "[3000]\tvalidation_0-rmse:24445810.00000\n",
            "[4000]\tvalidation_0-rmse:24227688.00000\n",
            "[5000]\tvalidation_0-rmse:24000280.00000\n",
            "[6000]\tvalidation_0-rmse:23891884.00000\n",
            "[6999]\tvalidation_0-rmse:23790742.00000\n"
          ]
        },
        {
          "output_type": "stream",
          "name": "stderr",
          "text": [
            "\u001b[32m[I 2021-09-24 19:41:24,909]\u001b[0m Trial 13 finished with value: 23790741.830437128 and parameters: {'learning_rate': 0.010504948422659064, 'reg_lambda': 0.013515826242027223, 'reg_alpha': 2.826645001284752e-06, 'subsample': 0.9512242160108667, 'colsample_bytree': 0.5698491209792547, 'max_depth': 2}. Best is trial 11 with value: 22853854.979515508.\u001b[0m\n"
          ]
        },
        {
          "output_type": "stream",
          "name": "stdout",
          "text": [
            "[0]\tvalidation_0-rmse:28360096.00000\n",
            "[1000]\tvalidation_0-rmse:29473182.00000\n",
            "[2000]\tvalidation_0-rmse:30304298.00000\n",
            "[3000]\tvalidation_0-rmse:29469570.00000\n",
            "[4000]\tvalidation_0-rmse:29058422.00000\n",
            "[5000]\tvalidation_0-rmse:28986908.00000\n",
            "[6000]\tvalidation_0-rmse:28998306.00000\n",
            "[6999]\tvalidation_0-rmse:28982696.00000\n"
          ]
        },
        {
          "output_type": "stream",
          "name": "stderr",
          "text": [
            "\u001b[32m[I 2021-09-24 19:41:28,586]\u001b[0m Trial 14 finished with value: 28982697.273174953 and parameters: {'learning_rate': 0.015800154262654173, 'reg_lambda': 0.042659495045043065, 'reg_alpha': 5.448083056744927e-07, 'subsample': 0.1253030376276123, 'colsample_bytree': 0.984048169623688, 'max_depth': 3}. Best is trial 11 with value: 22853854.979515508.\u001b[0m\n"
          ]
        }
      ],
      "metadata": {
        "colab": {
          "base_uri": "https://localhost:8080/"
        },
        "id": "pTAO7ubfmg8A",
        "outputId": "e0748b02-5fa2-42b7-e3e1-52ce0d4251d9"
      }
    },
    {
      "cell_type": "code",
      "execution_count": null,
      "source": [
        "df"
      ],
      "outputs": [
        {
          "output_type": "execute_result",
          "data": {
            "text/html": [
              "<div>\n",
              "<style scoped>\n",
              "    .dataframe tbody tr th:only-of-type {\n",
              "        vertical-align: middle;\n",
              "    }\n",
              "\n",
              "    .dataframe tbody tr th {\n",
              "        vertical-align: top;\n",
              "    }\n",
              "\n",
              "    .dataframe thead th {\n",
              "        text-align: right;\n",
              "    }\n",
              "</style>\n",
              "<table border=\"1\" class=\"dataframe\">\n",
              "  <thead>\n",
              "    <tr style=\"text-align: right;\">\n",
              "      <th></th>\n",
              "      <th>Crop</th>\n",
              "      <th>year</th>\n",
              "      <th>Area Harvested - Ha</th>\n",
              "      <th>Production Quantity - tonnes</th>\n",
              "      <th>Yield - Hg/Ha</th>\n",
              "    </tr>\n",
              "  </thead>\n",
              "  <tbody>\n",
              "    <tr>\n",
              "      <th>1</th>\n",
              "      <td>rice</td>\n",
              "      <td>1978</td>\n",
              "      <td>6300000</td>\n",
              "      <td>73352000</td>\n",
              "      <td>19623</td>\n",
              "    </tr>\n",
              "    <tr>\n",
              "      <th>2</th>\n",
              "      <td>barley</td>\n",
              "      <td>1985</td>\n",
              "      <td>70000</td>\n",
              "      <td>104225008</td>\n",
              "      <td>258628</td>\n",
              "    </tr>\n",
              "    <tr>\n",
              "      <th>4</th>\n",
              "      <td>pineapple</td>\n",
              "      <td>1998</td>\n",
              "      <td>12572000</td>\n",
              "      <td>246806</td>\n",
              "      <td>137248</td>\n",
              "    </tr>\n",
              "    <tr>\n",
              "      <th>9</th>\n",
              "      <td>banana</td>\n",
              "      <td>1980</td>\n",
              "      <td>1482800</td>\n",
              "      <td>72156200</td>\n",
              "      <td>19972</td>\n",
              "    </tr>\n",
              "    <tr>\n",
              "      <th>10</th>\n",
              "      <td>grape</td>\n",
              "      <td>1999</td>\n",
              "      <td>4054900</td>\n",
              "      <td>660000</td>\n",
              "      <td>16279</td>\n",
              "    </tr>\n",
              "    <tr>\n",
              "      <th>...</th>\n",
              "      <td>...</td>\n",
              "      <td>...</td>\n",
              "      <td>...</td>\n",
              "      <td>...</td>\n",
              "      <td>...</td>\n",
              "    </tr>\n",
              "    <tr>\n",
              "      <th>650</th>\n",
              "      <td>pineapple</td>\n",
              "      <td>1987</td>\n",
              "      <td>43950</td>\n",
              "      <td>59840000</td>\n",
              "      <td>142045</td>\n",
              "    </tr>\n",
              "    <tr>\n",
              "      <th>651</th>\n",
              "      <td>potato</td>\n",
              "      <td>1986</td>\n",
              "      <td>490000</td>\n",
              "      <td>37451808</td>\n",
              "      <td>17921</td>\n",
              "    </tr>\n",
              "    <tr>\n",
              "      <th>652</th>\n",
              "      <td>grape</td>\n",
              "      <td>1976</td>\n",
              "      <td>23261904</td>\n",
              "      <td>44068800</td>\n",
              "      <td>26971</td>\n",
              "    </tr>\n",
              "    <tr>\n",
              "      <th>654</th>\n",
              "      <td>sugarcane</td>\n",
              "      <td>2006</td>\n",
              "      <td>849000</td>\n",
              "      <td>478271</td>\n",
              "      <td>16094</td>\n",
              "    </tr>\n",
              "    <tr>\n",
              "      <th>655</th>\n",
              "      <td>rice</td>\n",
              "      <td>2001</td>\n",
              "      <td>5797200</td>\n",
              "      <td>24104400</td>\n",
              "      <td>222274</td>\n",
              "    </tr>\n",
              "  </tbody>\n",
              "</table>\n",
              "<p>336 rows × 5 columns</p>\n",
              "</div>"
            ],
            "text/plain": [
              "          Crop  year  ...  Production Quantity - tonnes  Yield - Hg/Ha\n",
              "1         rice  1978  ...                      73352000          19623\n",
              "2       barley  1985  ...                     104225008         258628\n",
              "4    pineapple  1998  ...                        246806         137248\n",
              "9       banana  1980  ...                      72156200          19972\n",
              "10       grape  1999  ...                        660000          16279\n",
              "..         ...   ...  ...                           ...            ...\n",
              "650  pineapple  1987  ...                      59840000         142045\n",
              "651     potato  1986  ...                      37451808          17921\n",
              "652      grape  1976  ...                      44068800          26971\n",
              "654  sugarcane  2006  ...                        478271          16094\n",
              "655       rice  2001  ...                      24104400         222274\n",
              "\n",
              "[336 rows x 5 columns]"
            ]
          },
          "metadata": {},
          "execution_count": 35
        }
      ],
      "metadata": {
        "colab": {
          "base_uri": "https://localhost:8080/",
          "height": 419
        },
        "id": "NumH78INmn3o",
        "outputId": "c07003e9-92e3-406a-cb0d-ad2033e92626"
      }
    },
    {
      "cell_type": "code",
      "execution_count": null,
      "source": [],
      "outputs": [],
      "metadata": {
        "id": "yCK53rcdnIgm"
      }
    },
    {
      "cell_type": "markdown",
      "source": [
        "# visualization of whole data"
      ],
      "metadata": {
        "id": "99RAY4a2HlQm"
      }
    },
    {
      "cell_type": "code",
      "execution_count": null,
      "source": [
        "train = pd.read_excel('./data/AndhraPradesh/chittoor_data.xls')"
      ],
      "outputs": [],
      "metadata": {
        "id": "WcoDh_VeqDV5"
      }
    },
    {
      "cell_type": "code",
      "execution_count": null,
      "source": [
        "train"
      ],
      "outputs": [
        {
          "output_type": "execute_result",
          "data": {
            "text/html": [
              "<div>\n",
              "<style scoped>\n",
              "    .dataframe tbody tr th:only-of-type {\n",
              "        vertical-align: middle;\n",
              "    }\n",
              "\n",
              "    .dataframe tbody tr th {\n",
              "        vertical-align: top;\n",
              "    }\n",
              "\n",
              "    .dataframe thead th {\n",
              "        text-align: right;\n",
              "    }\n",
              "</style>\n",
              "<table border=\"1\" class=\"dataframe\">\n",
              "  <thead>\n",
              "    <tr style=\"text-align: right;\">\n",
              "      <th></th>\n",
              "      <th>Unnamed: 0</th>\n",
              "      <th>Crop</th>\n",
              "      <th>year</th>\n",
              "      <th>Area Harvested - Ha</th>\n",
              "      <th>Production Quantity - tonnes</th>\n",
              "      <th>Yield - Hg/Ha</th>\n",
              "    </tr>\n",
              "  </thead>\n",
              "  <tbody>\n",
              "    <tr>\n",
              "      <th>0</th>\n",
              "      <td>0</td>\n",
              "      <td>grape</td>\n",
              "      <td>1993</td>\n",
              "      <td>6000</td>\n",
              "      <td>1200000</td>\n",
              "      <td>18432</td>\n",
              "    </tr>\n",
              "    <tr>\n",
              "      <th>1</th>\n",
              "      <td>1</td>\n",
              "      <td>rice</td>\n",
              "      <td>1978</td>\n",
              "      <td>6300000</td>\n",
              "      <td>73352000</td>\n",
              "      <td>19623</td>\n",
              "    </tr>\n",
              "    <tr>\n",
              "      <th>2</th>\n",
              "      <td>2</td>\n",
              "      <td>barley</td>\n",
              "      <td>1985</td>\n",
              "      <td>70000</td>\n",
              "      <td>104225008</td>\n",
              "      <td>258628</td>\n",
              "    </tr>\n",
              "    <tr>\n",
              "      <th>3</th>\n",
              "      <td>3</td>\n",
              "      <td>tomato</td>\n",
              "      <td>1963</td>\n",
              "      <td>434000</td>\n",
              "      <td>24734608</td>\n",
              "      <td>343061</td>\n",
              "    </tr>\n",
              "    <tr>\n",
              "      <th>4</th>\n",
              "      <td>4</td>\n",
              "      <td>pineapple</td>\n",
              "      <td>1998</td>\n",
              "      <td>12572000</td>\n",
              "      <td>246806</td>\n",
              "      <td>137248</td>\n",
              "    </tr>\n",
              "    <tr>\n",
              "      <th>...</th>\n",
              "      <td>...</td>\n",
              "      <td>...</td>\n",
              "      <td>...</td>\n",
              "      <td>...</td>\n",
              "      <td>...</td>\n",
              "      <td>...</td>\n",
              "    </tr>\n",
              "    <tr>\n",
              "      <th>653</th>\n",
              "      <td>653</td>\n",
              "      <td>green_pea</td>\n",
              "      <td>1988</td>\n",
              "      <td>9822</td>\n",
              "      <td>1900000</td>\n",
              "      <td>10000</td>\n",
              "    </tr>\n",
              "    <tr>\n",
              "      <th>654</th>\n",
              "      <td>654</td>\n",
              "      <td>sugarcane</td>\n",
              "      <td>2006</td>\n",
              "      <td>849000</td>\n",
              "      <td>478271</td>\n",
              "      <td>16094</td>\n",
              "    </tr>\n",
              "    <tr>\n",
              "      <th>655</th>\n",
              "      <td>655</td>\n",
              "      <td>rice</td>\n",
              "      <td>2001</td>\n",
              "      <td>5797200</td>\n",
              "      <td>24104400</td>\n",
              "      <td>222274</td>\n",
              "    </tr>\n",
              "    <tr>\n",
              "      <th>656</th>\n",
              "      <td>656</td>\n",
              "      <td>papaya</td>\n",
              "      <td>1973</td>\n",
              "      <td>962200</td>\n",
              "      <td>203036800</td>\n",
              "      <td>10699</td>\n",
              "    </tr>\n",
              "    <tr>\n",
              "      <th>657</th>\n",
              "      <td>657</td>\n",
              "      <td>barley</td>\n",
              "      <td>1979</td>\n",
              "      <td>23567408</td>\n",
              "      <td>15205600</td>\n",
              "      <td>19579</td>\n",
              "    </tr>\n",
              "  </tbody>\n",
              "</table>\n",
              "<p>658 rows × 6 columns</p>\n",
              "</div>"
            ],
            "text/plain": [
              "     Unnamed: 0       Crop  ...  Production Quantity - tonnes  Yield - Hg/Ha\n",
              "0             0      grape  ...                       1200000          18432\n",
              "1             1       rice  ...                      73352000          19623\n",
              "2             2     barley  ...                     104225008         258628\n",
              "3             3     tomato  ...                      24734608         343061\n",
              "4             4  pineapple  ...                        246806         137248\n",
              "..          ...        ...  ...                           ...            ...\n",
              "653         653  green_pea  ...                       1900000          10000\n",
              "654         654  sugarcane  ...                        478271          16094\n",
              "655         655       rice  ...                      24104400         222274\n",
              "656         656     papaya  ...                     203036800          10699\n",
              "657         657     barley  ...                      15205600          19579\n",
              "\n",
              "[658 rows x 6 columns]"
            ]
          },
          "metadata": {},
          "execution_count": 37
        }
      ],
      "metadata": {
        "colab": {
          "base_uri": "https://localhost:8080/",
          "height": 419
        },
        "id": "rAczOoexqH-F",
        "outputId": "e4933fd5-f016-48e6-aa13-28a1ae42b979"
      }
    },
    {
      "cell_type": "code",
      "execution_count": null,
      "source": [
        "train.boxplot(by ='Crop', column =['Area Harvested - Ha'], grid = False)"
      ],
      "outputs": [
        {
          "output_type": "execute_result",
          "data": {
            "text/plain": [
              "<matplotlib.axes._subplots.AxesSubplot at 0x7f9769baa410>"
            ]
          },
          "metadata": {},
          "execution_count": 38
        },
        {
          "output_type": "display_data",
          "data": {
            "image/png": "[encoded data removed]",
            "text/plain": [
              "<Figure size 432x288 with 1 Axes>"
            ]
          },
          "metadata": {
            "needs_background": "light"
          }
        }
      ],
      "metadata": {
        "colab": {
          "base_uri": "https://localhost:8080/",
          "height": 318
        },
        "id": "J19aItEHqSH7",
        "outputId": "323df58a-262f-4dde-af47-dba3fc6c1cf8"
      }
    },
    {
      "cell_type": "code",
      "execution_count": null,
      "source": [
        "import seaborn as sns\r\n",
        "sns.set(rc={'figure.figsize':(11.7,8.27)})\r\n"
      ],
      "outputs": [],
      "metadata": {
        "id": "OW3CClPEqjri"
      }
    },
    {
      "cell_type": "code",
      "execution_count": null,
      "source": [
        "sns.set_style(\"whitegrid\")\r\n",
        "  \r\n",
        "sns.boxplot(x = 'Crop', y = 'Area Harvested - Ha', data = train)"
      ],
      "outputs": [
        {
          "output_type": "execute_result",
          "data": {
            "text/plain": [
              "<matplotlib.axes._subplots.AxesSubplot at 0x7f97699f4790>"
            ]
          },
          "metadata": {},
          "execution_count": 40
        },
        {
          "output_type": "display_data",
          "data": {
            "image/png": "[encoded data removed]",
            "text/plain": [
              "<Figure size 842.4x595.44 with 1 Axes>"
            ]
          },
          "metadata": {}
        }
      ],
      "metadata": {
        "colab": {
          "base_uri": "https://localhost:8080/",
          "height": 545
        },
        "id": "jPuiJrgEqalr",
        "outputId": "eb70bf5b-f135-4bff-ea49-a1af2c9c4405"
      }
    },
    {
      "cell_type": "code",
      "execution_count": null,
      "source": [
        "sns.set_style(\"whitegrid\")\r\n",
        "  \r\n",
        "sns.boxplot(x = 'Crop', y = 'Production Quantity - tonnes', data = train)"
      ],
      "outputs": [
        {
          "output_type": "execute_result",
          "data": {
            "text/plain": [
              "<matplotlib.axes._subplots.AxesSubplot at 0x7f9768b62890>"
            ]
          },
          "metadata": {},
          "execution_count": 41
        },
        {
          "output_type": "display_data",
          "data": {
            "image/png": "[encoded data removed]",
            "text/plain": [
              "<Figure size 842.4x595.44 with 1 Axes>"
            ]
          },
          "metadata": {}
        }
      ],
      "metadata": {
        "colab": {
          "base_uri": "https://localhost:8080/",
          "height": 545
        },
        "id": "odOKvLUCqtI1",
        "outputId": "4bf5c332-c3ad-4b4a-9ffc-a6f0dba6e2a3"
      }
    },
    {
      "cell_type": "code",
      "execution_count": null,
      "source": [
        "sns.set_style(\"whitegrid\")\r\n",
        "  \r\n",
        "sns.boxplot(x = 'Crop', y = 'Yield - Hg/Ha', data = train)"
      ],
      "outputs": [
        {
          "output_type": "execute_result",
          "data": {
            "text/plain": [
              "<matplotlib.axes._subplots.AxesSubplot at 0x7f976898d2d0>"
            ]
          },
          "metadata": {},
          "execution_count": 42
        },
        {
          "output_type": "display_data",
          "data": {
            "image/png": "[encoded data removed]",
            "text/plain": [
              "<Figure size 842.4x595.44 with 1 Axes>"
            ]
          },
          "metadata": {}
        }
      ],
      "metadata": {
        "colab": {
          "base_uri": "https://localhost:8080/",
          "height": 534
        },
        "id": "jcniS6o2q-LH",
        "outputId": "7ac6b54e-2ff6-475c-b6be-02f360028cde"
      }
    },
    {
      "cell_type": "code",
      "execution_count": null,
      "source": [
        "df"
      ],
      "outputs": [
        {
          "output_type": "execute_result",
          "data": {
            "text/html": [
              "<div>\n",
              "<style scoped>\n",
              "    .dataframe tbody tr th:only-of-type {\n",
              "        vertical-align: middle;\n",
              "    }\n",
              "\n",
              "    .dataframe tbody tr th {\n",
              "        vertical-align: top;\n",
              "    }\n",
              "\n",
              "    .dataframe thead th {\n",
              "        text-align: right;\n",
              "    }\n",
              "</style>\n",
              "<table border=\"1\" class=\"dataframe\">\n",
              "  <thead>\n",
              "    <tr style=\"text-align: right;\">\n",
              "      <th></th>\n",
              "      <th>Crop</th>\n",
              "      <th>year</th>\n",
              "      <th>Area Harvested - Ha</th>\n",
              "      <th>Production Quantity - tonnes</th>\n",
              "      <th>Yield - Hg/Ha</th>\n",
              "    </tr>\n",
              "  </thead>\n",
              "  <tbody>\n",
              "    <tr>\n",
              "      <th>1</th>\n",
              "      <td>rice</td>\n",
              "      <td>1978</td>\n",
              "      <td>6300000</td>\n",
              "      <td>73352000</td>\n",
              "      <td>19623</td>\n",
              "    </tr>\n",
              "    <tr>\n",
              "      <th>2</th>\n",
              "      <td>barley</td>\n",
              "      <td>1985</td>\n",
              "      <td>70000</td>\n",
              "      <td>104225008</td>\n",
              "      <td>258628</td>\n",
              "    </tr>\n",
              "    <tr>\n",
              "      <th>4</th>\n",
              "      <td>pineapple</td>\n",
              "      <td>1998</td>\n",
              "      <td>12572000</td>\n",
              "      <td>246806</td>\n",
              "      <td>137248</td>\n",
              "    </tr>\n",
              "    <tr>\n",
              "      <th>9</th>\n",
              "      <td>banana</td>\n",
              "      <td>1980</td>\n",
              "      <td>1482800</td>\n",
              "      <td>72156200</td>\n",
              "      <td>19972</td>\n",
              "    </tr>\n",
              "    <tr>\n",
              "      <th>10</th>\n",
              "      <td>grape</td>\n",
              "      <td>1999</td>\n",
              "      <td>4054900</td>\n",
              "      <td>660000</td>\n",
              "      <td>16279</td>\n",
              "    </tr>\n",
              "    <tr>\n",
              "      <th>...</th>\n",
              "      <td>...</td>\n",
              "      <td>...</td>\n",
              "      <td>...</td>\n",
              "      <td>...</td>\n",
              "      <td>...</td>\n",
              "    </tr>\n",
              "    <tr>\n",
              "      <th>650</th>\n",
              "      <td>pineapple</td>\n",
              "      <td>1987</td>\n",
              "      <td>43950</td>\n",
              "      <td>59840000</td>\n",
              "      <td>142045</td>\n",
              "    </tr>\n",
              "    <tr>\n",
              "      <th>651</th>\n",
              "      <td>potato</td>\n",
              "      <td>1986</td>\n",
              "      <td>490000</td>\n",
              "      <td>37451808</td>\n",
              "      <td>17921</td>\n",
              "    </tr>\n",
              "    <tr>\n",
              "      <th>652</th>\n",
              "      <td>grape</td>\n",
              "      <td>1976</td>\n",
              "      <td>23261904</td>\n",
              "      <td>44068800</td>\n",
              "      <td>26971</td>\n",
              "    </tr>\n",
              "    <tr>\n",
              "      <th>654</th>\n",
              "      <td>sugarcane</td>\n",
              "      <td>2006</td>\n",
              "      <td>849000</td>\n",
              "      <td>478271</td>\n",
              "      <td>16094</td>\n",
              "    </tr>\n",
              "    <tr>\n",
              "      <th>655</th>\n",
              "      <td>rice</td>\n",
              "      <td>2001</td>\n",
              "      <td>5797200</td>\n",
              "      <td>24104400</td>\n",
              "      <td>222274</td>\n",
              "    </tr>\n",
              "  </tbody>\n",
              "</table>\n",
              "<p>336 rows × 5 columns</p>\n",
              "</div>"
            ],
            "text/plain": [
              "          Crop  year  ...  Production Quantity - tonnes  Yield - Hg/Ha\n",
              "1         rice  1978  ...                      73352000          19623\n",
              "2       barley  1985  ...                     104225008         258628\n",
              "4    pineapple  1998  ...                        246806         137248\n",
              "9       banana  1980  ...                      72156200          19972\n",
              "10       grape  1999  ...                        660000          16279\n",
              "..         ...   ...  ...                           ...            ...\n",
              "650  pineapple  1987  ...                      59840000         142045\n",
              "651     potato  1986  ...                      37451808          17921\n",
              "652      grape  1976  ...                      44068800          26971\n",
              "654  sugarcane  2006  ...                        478271          16094\n",
              "655       rice  2001  ...                      24104400         222274\n",
              "\n",
              "[336 rows x 5 columns]"
            ]
          },
          "metadata": {},
          "execution_count": 43
        }
      ],
      "metadata": {
        "colab": {
          "base_uri": "https://localhost:8080/",
          "height": 419
        },
        "id": "-gijECA8rGgT",
        "outputId": "d037b10b-2e01-4e59-ad21-865fc5693296"
      }
    },
    {
      "cell_type": "code",
      "execution_count": null,
      "source": [
        "sns.set_style(\"whitegrid\")\r\n",
        "sns.set(rc={'figure.figsize':(11.7,8.27)})\r\n",
        "\r\n",
        "  \r\n",
        "sns.boxplot(x = 'Crop', y = 'Yield - Hg/Ha', data = df)"
      ],
      "outputs": [
        {
          "output_type": "execute_result",
          "data": {
            "text/plain": [
              "<matplotlib.axes._subplots.AxesSubplot at 0x7f9768826050>"
            ]
          },
          "metadata": {},
          "execution_count": 44
        },
        {
          "output_type": "display_data",
          "data": {
            "image/png": "[encoded data removed]",
            "text/plain": [
              "<Figure size 842.4x595.44 with 1 Axes>"
            ]
          },
          "metadata": {}
        }
      ],
      "metadata": {
        "colab": {
          "base_uri": "https://localhost:8080/",
          "height": 534
        },
        "id": "_vbyjJHYrTqX",
        "outputId": "0b92864d-1f16-4402-ed1f-729e67287b66"
      }
    },
    {
      "cell_type": "code",
      "execution_count": null,
      "source": [
        "sns.set_style(\"whitegrid\")\r\n",
        "  \r\n",
        "sns.boxplot(x = 'Crop', y = 'Production Quantity - tonnes', data = df)"
      ],
      "outputs": [
        {
          "output_type": "execute_result",
          "data": {
            "text/plain": [
              "<matplotlib.axes._subplots.AxesSubplot at 0x7f97686c3810>"
            ]
          },
          "metadata": {},
          "execution_count": 45
        },
        {
          "output_type": "display_data",
          "data": {
            "image/png": "[encoded data removed]",
            "text/plain": [
              "<Figure size 842.4x595.44 with 1 Axes>"
            ]
          },
          "metadata": {}
        }
      ],
      "metadata": {
        "colab": {
          "base_uri": "https://localhost:8080/",
          "height": 545
        },
        "id": "qzRZQL9KrXtl",
        "outputId": "667e2c87-3e01-4ce2-df14-c6ea50aedcf3"
      }
    },
    {
      "cell_type": "code",
      "execution_count": null,
      "source": [
        "sns.set_style(\"whitegrid\")\r\n",
        "  \r\n",
        "sns.boxplot(x = 'Crop', y = 'Area Harvested - Ha', data = df)"
      ],
      "outputs": [
        {
          "output_type": "execute_result",
          "data": {
            "text/plain": [
              "<matplotlib.axes._subplots.AxesSubplot at 0x7f97686c3c10>"
            ]
          },
          "metadata": {},
          "execution_count": 46
        },
        {
          "output_type": "display_data",
          "data": {
            "image/png": "[encoded data removed]",
            "text/plain": [
              "<Figure size 842.4x595.44 with 1 Axes>"
            ]
          },
          "metadata": {}
        }
      ],
      "metadata": {
        "colab": {
          "base_uri": "https://localhost:8080/",
          "height": 545
        },
        "id": "32AVqrZCrcbJ",
        "outputId": "f4319db4-c38f-40b9-af01-cee76df47f96"
      }
    },
    {
      "cell_type": "code",
      "execution_count": null,
      "source": [
        "df2 = df[(np.abs(stats.zscore(df['Area Harvested - Ha'])) < 3)]\r\n"
      ],
      "outputs": [],
      "metadata": {
        "id": "3YU2KaQsrjwF"
      }
    },
    {
      "cell_type": "code",
      "execution_count": null,
      "source": [
        "df2"
      ],
      "outputs": [
        {
          "output_type": "execute_result",
          "data": {
            "text/html": [
              "<div>\n",
              "<style scoped>\n",
              "    .dataframe tbody tr th:only-of-type {\n",
              "        vertical-align: middle;\n",
              "    }\n",
              "\n",
              "    .dataframe tbody tr th {\n",
              "        vertical-align: top;\n",
              "    }\n",
              "\n",
              "    .dataframe thead th {\n",
              "        text-align: right;\n",
              "    }\n",
              "</style>\n",
              "<table border=\"1\" class=\"dataframe\">\n",
              "  <thead>\n",
              "    <tr style=\"text-align: right;\">\n",
              "      <th></th>\n",
              "      <th>Crop</th>\n",
              "      <th>year</th>\n",
              "      <th>Area Harvested - Ha</th>\n",
              "      <th>Production Quantity - tonnes</th>\n",
              "      <th>Yield - Hg/Ha</th>\n",
              "    </tr>\n",
              "  </thead>\n",
              "  <tbody>\n",
              "    <tr>\n",
              "      <th>1</th>\n",
              "      <td>rice</td>\n",
              "      <td>1978</td>\n",
              "      <td>6300000</td>\n",
              "      <td>73352000</td>\n",
              "      <td>19623</td>\n",
              "    </tr>\n",
              "    <tr>\n",
              "      <th>2</th>\n",
              "      <td>barley</td>\n",
              "      <td>1985</td>\n",
              "      <td>70000</td>\n",
              "      <td>104225008</td>\n",
              "      <td>258628</td>\n",
              "    </tr>\n",
              "    <tr>\n",
              "      <th>4</th>\n",
              "      <td>pineapple</td>\n",
              "      <td>1998</td>\n",
              "      <td>12572000</td>\n",
              "      <td>246806</td>\n",
              "      <td>137248</td>\n",
              "    </tr>\n",
              "    <tr>\n",
              "      <th>9</th>\n",
              "      <td>banana</td>\n",
              "      <td>1980</td>\n",
              "      <td>1482800</td>\n",
              "      <td>72156200</td>\n",
              "      <td>19972</td>\n",
              "    </tr>\n",
              "    <tr>\n",
              "      <th>10</th>\n",
              "      <td>grape</td>\n",
              "      <td>1999</td>\n",
              "      <td>4054900</td>\n",
              "      <td>660000</td>\n",
              "      <td>16279</td>\n",
              "    </tr>\n",
              "    <tr>\n",
              "      <th>...</th>\n",
              "      <td>...</td>\n",
              "      <td>...</td>\n",
              "      <td>...</td>\n",
              "      <td>...</td>\n",
              "      <td>...</td>\n",
              "    </tr>\n",
              "    <tr>\n",
              "      <th>649</th>\n",
              "      <td>potato</td>\n",
              "      <td>1983</td>\n",
              "      <td>3357600</td>\n",
              "      <td>1060000</td>\n",
              "      <td>153220</td>\n",
              "    </tr>\n",
              "    <tr>\n",
              "      <th>650</th>\n",
              "      <td>pineapple</td>\n",
              "      <td>1987</td>\n",
              "      <td>43950</td>\n",
              "      <td>59840000</td>\n",
              "      <td>142045</td>\n",
              "    </tr>\n",
              "    <tr>\n",
              "      <th>651</th>\n",
              "      <td>potato</td>\n",
              "      <td>1986</td>\n",
              "      <td>490000</td>\n",
              "      <td>37451808</td>\n",
              "      <td>17921</td>\n",
              "    </tr>\n",
              "    <tr>\n",
              "      <th>654</th>\n",
              "      <td>sugarcane</td>\n",
              "      <td>2006</td>\n",
              "      <td>849000</td>\n",
              "      <td>478271</td>\n",
              "      <td>16094</td>\n",
              "    </tr>\n",
              "    <tr>\n",
              "      <th>655</th>\n",
              "      <td>rice</td>\n",
              "      <td>2001</td>\n",
              "      <td>5797200</td>\n",
              "      <td>24104400</td>\n",
              "      <td>222274</td>\n",
              "    </tr>\n",
              "  </tbody>\n",
              "</table>\n",
              "<p>323 rows × 5 columns</p>\n",
              "</div>"
            ],
            "text/plain": [
              "          Crop  year  ...  Production Quantity - tonnes  Yield - Hg/Ha\n",
              "1         rice  1978  ...                      73352000          19623\n",
              "2       barley  1985  ...                     104225008         258628\n",
              "4    pineapple  1998  ...                        246806         137248\n",
              "9       banana  1980  ...                      72156200          19972\n",
              "10       grape  1999  ...                        660000          16279\n",
              "..         ...   ...  ...                           ...            ...\n",
              "649     potato  1983  ...                       1060000         153220\n",
              "650  pineapple  1987  ...                      59840000         142045\n",
              "651     potato  1986  ...                      37451808          17921\n",
              "654  sugarcane  2006  ...                        478271          16094\n",
              "655       rice  2001  ...                      24104400         222274\n",
              "\n",
              "[323 rows x 5 columns]"
            ]
          },
          "metadata": {},
          "execution_count": 51
        }
      ],
      "metadata": {
        "colab": {
          "base_uri": "https://localhost:8080/",
          "height": 419
        },
        "id": "QAFFABw0rzuY",
        "outputId": "69f1cbae-7351-4fe2-838a-7fe0fd187b51"
      }
    },
    {
      "cell_type": "code",
      "execution_count": null,
      "source": [
        "sns.set_style(\"whitegrid\")\r\n",
        "  \r\n",
        "sns.boxplot(x = 'Crop', y = 'Area Harvested - Ha', data = df2)"
      ],
      "outputs": [
        {
          "output_type": "execute_result",
          "data": {
            "text/plain": [
              "<matplotlib.axes._subplots.AxesSubplot at 0x7f97689ef0d0>"
            ]
          },
          "metadata": {},
          "execution_count": 52
        },
        {
          "output_type": "display_data",
          "data": {
            "image/png": "[encoded data removed]",
            "text/plain": [
              "<Figure size 842.4x595.44 with 1 Axes>"
            ]
          },
          "metadata": {}
        }
      ],
      "metadata": {
        "colab": {
          "base_uri": "https://localhost:8080/",
          "height": 545
        },
        "id": "Yf0e_0Zdr7ey",
        "outputId": "a1ca9ed4-321a-4048-dfc1-32678bb3d946"
      }
    },
    {
      "cell_type": "code",
      "execution_count": null,
      "source": [
        "df.columns"
      ],
      "outputs": [
        {
          "output_type": "execute_result",
          "data": {
            "text/plain": [
              "Index(['Crop', 'year', 'Area Harvested - Ha', 'Production Quantity - tonnes',\n",
              "       'Yield - Hg/Ha', 'kfold', 'tar_enc_Crop'],\n",
              "      dtype='object')"
            ]
          },
          "metadata": {},
          "execution_count": 187
        }
      ],
      "metadata": {
        "colab": {
          "base_uri": "https://localhost:8080/"
        },
        "id": "G1L1McPtr-FZ",
        "outputId": "8d395546-041a-41b9-e0e3-b54407653244"
      }
    },
    {
      "cell_type": "code",
      "execution_count": null,
      "source": [
        "train = pd.read_excel('/content/bhopal_data.xls')"
      ],
      "outputs": [],
      "metadata": {
        "id": "NFpm3_xXsOzf"
      }
    },
    {
      "cell_type": "code",
      "execution_count": null,
      "source": [
        "df = train.drop('Unnamed: 0',axis =1)\r\n",
        "df[\"kfold\"] = -1\r\n",
        "kf = model_selection.KFold(n_splits=5, shuffle=True, random_state=42)\r\n",
        "for fold, (train_indicies, valid_indicies) in enumerate(kf.split(X=df)):\r\n",
        "    df.loc[valid_indicies, \"kfold\"] = fold"
      ],
      "outputs": [],
      "metadata": {
        "id": "MrBRNDO8sdVV"
      }
    },
    {
      "cell_type": "code",
      "execution_count": null,
      "source": [
        "df"
      ],
      "outputs": [
        {
          "output_type": "execute_result",
          "data": {
            "text/html": [
              "<div>\n",
              "<style scoped>\n",
              "    .dataframe tbody tr th:only-of-type {\n",
              "        vertical-align: middle;\n",
              "    }\n",
              "\n",
              "    .dataframe tbody tr th {\n",
              "        vertical-align: top;\n",
              "    }\n",
              "\n",
              "    .dataframe thead th {\n",
              "        text-align: right;\n",
              "    }\n",
              "</style>\n",
              "<table border=\"1\" class=\"dataframe\">\n",
              "  <thead>\n",
              "    <tr style=\"text-align: right;\">\n",
              "      <th></th>\n",
              "      <th>Crop</th>\n",
              "      <th>year</th>\n",
              "      <th>Area Harvested - Ha</th>\n",
              "      <th>Production Quantity - tonnes</th>\n",
              "      <th>Yield - Hg/Ha</th>\n",
              "      <th>kfold</th>\n",
              "    </tr>\n",
              "  </thead>\n",
              "  <tbody>\n",
              "    <tr>\n",
              "      <th>0</th>\n",
              "      <td>grape</td>\n",
              "      <td>1993</td>\n",
              "      <td>6000</td>\n",
              "      <td>1200000</td>\n",
              "      <td>18432</td>\n",
              "      <td>1</td>\n",
              "    </tr>\n",
              "    <tr>\n",
              "      <th>1</th>\n",
              "      <td>rice</td>\n",
              "      <td>1978</td>\n",
              "      <td>6300000</td>\n",
              "      <td>73352000</td>\n",
              "      <td>19623</td>\n",
              "      <td>4</td>\n",
              "    </tr>\n",
              "    <tr>\n",
              "      <th>2</th>\n",
              "      <td>barley</td>\n",
              "      <td>1985</td>\n",
              "      <td>70000</td>\n",
              "      <td>104225008</td>\n",
              "      <td>258628</td>\n",
              "      <td>0</td>\n",
              "    </tr>\n",
              "    <tr>\n",
              "      <th>3</th>\n",
              "      <td>tomato</td>\n",
              "      <td>1963</td>\n",
              "      <td>434000</td>\n",
              "      <td>24734608</td>\n",
              "      <td>343061</td>\n",
              "      <td>2</td>\n",
              "    </tr>\n",
              "    <tr>\n",
              "      <th>4</th>\n",
              "      <td>pineapple</td>\n",
              "      <td>1998</td>\n",
              "      <td>12572000</td>\n",
              "      <td>246806</td>\n",
              "      <td>137248</td>\n",
              "      <td>4</td>\n",
              "    </tr>\n",
              "    <tr>\n",
              "      <th>...</th>\n",
              "      <td>...</td>\n",
              "      <td>...</td>\n",
              "      <td>...</td>\n",
              "      <td>...</td>\n",
              "      <td>...</td>\n",
              "      <td>...</td>\n",
              "    </tr>\n",
              "    <tr>\n",
              "      <th>653</th>\n",
              "      <td>green_pea</td>\n",
              "      <td>1988</td>\n",
              "      <td>9822</td>\n",
              "      <td>1900000</td>\n",
              "      <td>10000</td>\n",
              "      <td>0</td>\n",
              "    </tr>\n",
              "    <tr>\n",
              "      <th>654</th>\n",
              "      <td>sugarcane</td>\n",
              "      <td>2006</td>\n",
              "      <td>849000</td>\n",
              "      <td>478271</td>\n",
              "      <td>16094</td>\n",
              "      <td>0</td>\n",
              "    </tr>\n",
              "    <tr>\n",
              "      <th>655</th>\n",
              "      <td>rice</td>\n",
              "      <td>2001</td>\n",
              "      <td>5797200</td>\n",
              "      <td>24104400</td>\n",
              "      <td>222274</td>\n",
              "      <td>4</td>\n",
              "    </tr>\n",
              "    <tr>\n",
              "      <th>656</th>\n",
              "      <td>papaya</td>\n",
              "      <td>1973</td>\n",
              "      <td>962200</td>\n",
              "      <td>203036800</td>\n",
              "      <td>10699</td>\n",
              "      <td>0</td>\n",
              "    </tr>\n",
              "    <tr>\n",
              "      <th>657</th>\n",
              "      <td>barley</td>\n",
              "      <td>1979</td>\n",
              "      <td>23567408</td>\n",
              "      <td>15205600</td>\n",
              "      <td>19579</td>\n",
              "      <td>2</td>\n",
              "    </tr>\n",
              "  </tbody>\n",
              "</table>\n",
              "<p>658 rows × 6 columns</p>\n",
              "</div>"
            ],
            "text/plain": [
              "          Crop  year  ...  Yield - Hg/Ha  kfold\n",
              "0        grape  1993  ...          18432      1\n",
              "1         rice  1978  ...          19623      4\n",
              "2       barley  1985  ...         258628      0\n",
              "3       tomato  1963  ...         343061      2\n",
              "4    pineapple  1998  ...         137248      4\n",
              "..         ...   ...  ...            ...    ...\n",
              "653  green_pea  1988  ...          10000      0\n",
              "654  sugarcane  2006  ...          16094      0\n",
              "655       rice  2001  ...         222274      4\n",
              "656     papaya  1973  ...          10699      0\n",
              "657     barley  1979  ...          19579      2\n",
              "\n",
              "[658 rows x 6 columns]"
            ]
          },
          "metadata": {},
          "execution_count": 190
        }
      ],
      "metadata": {
        "colab": {
          "base_uri": "https://localhost:8080/",
          "height": 419
        },
        "id": "V49RZkD4soAZ",
        "outputId": "974a357b-4eaa-47ca-b7fa-63ef15aa1dbe"
      }
    },
    {
      "cell_type": "code",
      "execution_count": null,
      "source": [
        "l = [ 'Area Harvested - Ha', 'Production Quantity - tonnes',\r\n",
        "       'Yield - Hg/Ha']"
      ],
      "outputs": [],
      "metadata": {
        "id": "5jG1MrLIspOG"
      }
    },
    {
      "cell_type": "code",
      "execution_count": null,
      "source": [
        "for i in l:\r\n",
        "  df = df[(np.abs(stats.zscore(df[i])) < 3)]\r\n",
        "\r\n"
      ],
      "outputs": [],
      "metadata": {
        "id": "1_GyQy3gsvGK"
      }
    },
    {
      "cell_type": "code",
      "execution_count": null,
      "source": [
        "df"
      ],
      "outputs": [
        {
          "output_type": "execute_result",
          "data": {
            "text/html": [
              "<div>\n",
              "<style scoped>\n",
              "    .dataframe tbody tr th:only-of-type {\n",
              "        vertical-align: middle;\n",
              "    }\n",
              "\n",
              "    .dataframe tbody tr th {\n",
              "        vertical-align: top;\n",
              "    }\n",
              "\n",
              "    .dataframe thead th {\n",
              "        text-align: right;\n",
              "    }\n",
              "</style>\n",
              "<table border=\"1\" class=\"dataframe\">\n",
              "  <thead>\n",
              "    <tr style=\"text-align: right;\">\n",
              "      <th></th>\n",
              "      <th>Crop</th>\n",
              "      <th>year</th>\n",
              "      <th>Area Harvested - Ha</th>\n",
              "      <th>Production Quantity - tonnes</th>\n",
              "      <th>Yield - Hg/Ha</th>\n",
              "      <th>kfold</th>\n",
              "    </tr>\n",
              "  </thead>\n",
              "  <tbody>\n",
              "    <tr>\n",
              "      <th>0</th>\n",
              "      <td>grape</td>\n",
              "      <td>1993</td>\n",
              "      <td>6000</td>\n",
              "      <td>1200000</td>\n",
              "      <td>18432</td>\n",
              "      <td>1</td>\n",
              "    </tr>\n",
              "    <tr>\n",
              "      <th>1</th>\n",
              "      <td>rice</td>\n",
              "      <td>1978</td>\n",
              "      <td>6300000</td>\n",
              "      <td>73352000</td>\n",
              "      <td>19623</td>\n",
              "      <td>4</td>\n",
              "    </tr>\n",
              "    <tr>\n",
              "      <th>2</th>\n",
              "      <td>barley</td>\n",
              "      <td>1985</td>\n",
              "      <td>70000</td>\n",
              "      <td>104225008</td>\n",
              "      <td>258628</td>\n",
              "      <td>0</td>\n",
              "    </tr>\n",
              "    <tr>\n",
              "      <th>3</th>\n",
              "      <td>tomato</td>\n",
              "      <td>1963</td>\n",
              "      <td>434000</td>\n",
              "      <td>24734608</td>\n",
              "      <td>343061</td>\n",
              "      <td>2</td>\n",
              "    </tr>\n",
              "    <tr>\n",
              "      <th>4</th>\n",
              "      <td>pineapple</td>\n",
              "      <td>1998</td>\n",
              "      <td>12572000</td>\n",
              "      <td>246806</td>\n",
              "      <td>137248</td>\n",
              "      <td>4</td>\n",
              "    </tr>\n",
              "    <tr>\n",
              "      <th>...</th>\n",
              "      <td>...</td>\n",
              "      <td>...</td>\n",
              "      <td>...</td>\n",
              "      <td>...</td>\n",
              "      <td>...</td>\n",
              "      <td>...</td>\n",
              "    </tr>\n",
              "    <tr>\n",
              "      <th>652</th>\n",
              "      <td>grape</td>\n",
              "      <td>1976</td>\n",
              "      <td>23261904</td>\n",
              "      <td>44068800</td>\n",
              "      <td>26971</td>\n",
              "      <td>4</td>\n",
              "    </tr>\n",
              "    <tr>\n",
              "      <th>653</th>\n",
              "      <td>green_pea</td>\n",
              "      <td>1988</td>\n",
              "      <td>9822</td>\n",
              "      <td>1900000</td>\n",
              "      <td>10000</td>\n",
              "      <td>0</td>\n",
              "    </tr>\n",
              "    <tr>\n",
              "      <th>654</th>\n",
              "      <td>sugarcane</td>\n",
              "      <td>2006</td>\n",
              "      <td>849000</td>\n",
              "      <td>478271</td>\n",
              "      <td>16094</td>\n",
              "      <td>0</td>\n",
              "    </tr>\n",
              "    <tr>\n",
              "      <th>655</th>\n",
              "      <td>rice</td>\n",
              "      <td>2001</td>\n",
              "      <td>5797200</td>\n",
              "      <td>24104400</td>\n",
              "      <td>222274</td>\n",
              "      <td>4</td>\n",
              "    </tr>\n",
              "    <tr>\n",
              "      <th>657</th>\n",
              "      <td>barley</td>\n",
              "      <td>1979</td>\n",
              "      <td>23567408</td>\n",
              "      <td>15205600</td>\n",
              "      <td>19579</td>\n",
              "      <td>2</td>\n",
              "    </tr>\n",
              "  </tbody>\n",
              "</table>\n",
              "<p>586 rows × 6 columns</p>\n",
              "</div>"
            ],
            "text/plain": [
              "          Crop  year  ...  Yield - Hg/Ha  kfold\n",
              "0        grape  1993  ...          18432      1\n",
              "1         rice  1978  ...          19623      4\n",
              "2       barley  1985  ...         258628      0\n",
              "3       tomato  1963  ...         343061      2\n",
              "4    pineapple  1998  ...         137248      4\n",
              "..         ...   ...  ...            ...    ...\n",
              "652      grape  1976  ...          26971      4\n",
              "653  green_pea  1988  ...          10000      0\n",
              "654  sugarcane  2006  ...          16094      0\n",
              "655       rice  2001  ...         222274      4\n",
              "657     barley  1979  ...          19579      2\n",
              "\n",
              "[586 rows x 6 columns]"
            ]
          },
          "metadata": {},
          "execution_count": 194
        }
      ],
      "metadata": {
        "colab": {
          "base_uri": "https://localhost:8080/",
          "height": 419
        },
        "id": "e2L52o4ns41l",
        "outputId": "cf58c14d-fc92-4ae6-c500-c0b461203cf9"
      }
    },
    {
      "cell_type": "code",
      "execution_count": null,
      "source": [
        "sns.set_style(\"whitegrid\")\r\n",
        "  \r\n",
        "sns.boxplot(x = 'Crop', y = 'Yield - Hg/Ha', data = df)"
      ],
      "outputs": [
        {
          "output_type": "execute_result",
          "data": {
            "text/plain": [
              "<matplotlib.axes._subplots.AxesSubplot at 0x7f6848f2e310>"
            ]
          },
          "metadata": {},
          "execution_count": 195
        },
        {
          "output_type": "display_data",
          "data": {
            "image/png": "[encoded data removed]",
            "text/plain": [
              "<Figure size 432x288 with 1 Axes>"
            ]
          },
          "metadata": {}
        }
      ],
      "metadata": {
        "colab": {
          "base_uri": "https://localhost:8080/",
          "height": 296
        },
        "id": "9Fep4tpRs6HS",
        "outputId": "ecdae776-acd9-483a-87c0-4de3e2a599a3"
      }
    },
    {
      "cell_type": "code",
      "execution_count": null,
      "source": [
        "lps('ababa')"
      ],
      "outputs": [
        {
          "output_type": "execute_result",
          "data": {
            "text/plain": [
              "5"
            ]
          },
          "metadata": {},
          "execution_count": 18
        }
      ],
      "metadata": {
        "colab": {
          "base_uri": "https://localhost:8080/"
        },
        "id": "L5PyqUZZ0mG7",
        "outputId": "64676688-e04e-48b4-87d0-845fbe8e18c3"
      }
    }
  ]
}