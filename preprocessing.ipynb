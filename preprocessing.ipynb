{
 "cells": [
  {
   "cell_type": "code",
   "execution_count": 26,
   "source": [
    "import pandas as pd\r\n",
    "import numpy as np\r\n",
    "import matplotlib.pyplot as pp\r\n",
    "import sklearn.linear_model"
   ],
   "outputs": [],
   "metadata": {
    "collapsed": true
   }
  },
  {
   "cell_type": "code",
   "execution_count": 27,
   "source": [
    "#loading every data and adding crop name and removing seed if there\r\n",
    "#1-banana\r\n",
    "data=pd.read_excel(\"./data/data_folder/banana.xls\")\r\n",
    "data['Crop']='banana'\r\n",
    "data_total=data.copy()\r\n",
    "data_total\r\n",
    "len(data),len(data_total)"
   ],
   "outputs": [
    {
     "output_type": "execute_result",
     "data": {
      "text/plain": [
       "(47, 47)"
      ]
     },
     "metadata": {},
     "execution_count": 27
    }
   ],
   "metadata": {
    "collapsed": false,
    "scrolled": true
   }
  },
  {
   "cell_type": "code",
   "execution_count": 28,
   "source": [
    "#2-barley\r\n",
    "data=pd.read_excel('./data/data_folder/ginger.xls')\r\n",
    "#data=data.drop(['Seed - tonnes'],axis=1)\r\n",
    "data['Crop']='ginger'\r\n",
    "data_total=pd.concat([data_total,data],axis=0)\r\n",
    "len(data),len(data_total)\r\n",
    "#data.head()"
   ],
   "outputs": [
    {
     "output_type": "execute_result",
     "data": {
      "text/plain": [
       "(47, 94)"
      ]
     },
     "metadata": {},
     "execution_count": 28
    }
   ],
   "metadata": {
    "collapsed": false
   }
  },
  {
   "cell_type": "code",
   "execution_count": 29,
   "source": [
    "#3-ginger\r\n",
    "data=pd.read_excel('./data/data_folder/barley.xls')\r\n",
    "data=data.drop(['Seed - tonnes'],axis=1)\r\n",
    "data['Crop']='barley'\r\n",
    "data_total=pd.concat([data_total,data],axis=0)\r\n",
    "len(data),len(data_total)"
   ],
   "outputs": [
    {
     "output_type": "execute_result",
     "data": {
      "text/plain": [
       "(47, 141)"
      ]
     },
     "metadata": {},
     "execution_count": 29
    }
   ],
   "metadata": {
    "collapsed": false
   }
  },
  {
   "cell_type": "code",
   "execution_count": 30,
   "source": [
    "#4-papaya\r\n",
    "data=pd.read_excel('./data/data_folder/papaya.xls')\r\n",
    "#data=data.drop(['Seed - tonnes'],axis=1)\r\n",
    "data['Crop']='papaya'\r\n",
    "data_total=pd.concat([data_total,data],axis=0)\r\n",
    "len(data),len(data_total)\r\n",
    "#data\r\n",
    "\r\n",
    "#len(data_total)"
   ],
   "outputs": [
    {
     "output_type": "execute_result",
     "data": {
      "text/plain": [
       "(47, 188)"
      ]
     },
     "metadata": {},
     "execution_count": 30
    }
   ],
   "metadata": {
    "collapsed": false
   }
  },
  {
   "cell_type": "code",
   "execution_count": 31,
   "source": [
    "#5-grape\r\n",
    "data=pd.read_excel('./data/data_folder/grape.xls')\r\n",
    "#data=data.drop(['Seed - tonnes'],axis=1)\r\n",
    "data['Crop']='grape'\r\n",
    "len(data)\r\n",
    "#data\r\n",
    "data_total=pd.concat([data_total,data],axis=0)\r\n",
    "data_total\r\n",
    "len(data),len(data_total)"
   ],
   "outputs": [
    {
     "output_type": "execute_result",
     "data": {
      "text/plain": [
       "(47, 235)"
      ]
     },
     "metadata": {},
     "execution_count": 31
    }
   ],
   "metadata": {
    "collapsed": false
   }
  },
  {
   "cell_type": "code",
   "execution_count": 32,
   "source": [
    "#6-green pea\r\n",
    "data=pd.read_excel('./data/data_folder/green_pea.xls')\r\n",
    "#data=data.drop(['Seed - tonnes'],axis=1)\r\n",
    "data['Crop']='green_pea'\r\n",
    "len(data)\r\n",
    "#data\r\n",
    "data_total=pd.concat([data_total,data],axis=0)\r\n",
    "data_total\r\n",
    "len(data),len(data_total)"
   ],
   "outputs": [
    {
     "output_type": "execute_result",
     "data": {
      "text/plain": [
       "(47, 282)"
      ]
     },
     "metadata": {},
     "execution_count": 32
    }
   ],
   "metadata": {
    "collapsed": false
   }
  },
  {
   "cell_type": "code",
   "execution_count": 33,
   "source": [
    "#7-pinapple\r\n",
    "data=pd.read_excel('./data/data_folder/pineapple.xls')\r\n",
    "#data=data.drop(['Seed - tonnes'],axis=1)\r\n",
    "data['Crop']='pineapple'\r\n",
    "len(data)\r\n",
    "#data\r\n",
    "data_total=pd.concat([data_total,data],axis=0)\r\n",
    "data_total\r\n",
    "len(data),len(data_total)\r\n",
    "data_total.head()"
   ],
   "outputs": [
    {
     "output_type": "execute_result",
     "data": {
      "text/html": [
       "<div>\n",
       "<style scoped>\n",
       "    .dataframe tbody tr th:only-of-type {\n",
       "        vertical-align: middle;\n",
       "    }\n",
       "\n",
       "    .dataframe tbody tr th {\n",
       "        vertical-align: top;\n",
       "    }\n",
       "\n",
       "    .dataframe thead th {\n",
       "        text-align: right;\n",
       "    }\n",
       "</style>\n",
       "<table border=\"1\" class=\"dataframe\">\n",
       "  <thead>\n",
       "    <tr style=\"text-align: right;\">\n",
       "      <th></th>\n",
       "      <th>Date</th>\n",
       "      <th>Area Harvested - Ha</th>\n",
       "      <th>Yield - Hg/Ha</th>\n",
       "      <th>Production Quantity - tonnes</th>\n",
       "      <th>Crop</th>\n",
       "    </tr>\n",
       "  </thead>\n",
       "  <tbody>\n",
       "    <tr>\n",
       "      <th>0</th>\n",
       "      <td>2007-12-31</td>\n",
       "      <td>622200</td>\n",
       "      <td>349829</td>\n",
       "      <td>21766400</td>\n",
       "      <td>banana</td>\n",
       "    </tr>\n",
       "    <tr>\n",
       "      <th>1</th>\n",
       "      <td>2006-12-31</td>\n",
       "      <td>600300</td>\n",
       "      <td>347456</td>\n",
       "      <td>20857800</td>\n",
       "      <td>banana</td>\n",
       "    </tr>\n",
       "    <tr>\n",
       "      <th>2</th>\n",
       "      <td>2005-12-31</td>\n",
       "      <td>565100</td>\n",
       "      <td>330948</td>\n",
       "      <td>18701900</td>\n",
       "      <td>banana</td>\n",
       "    </tr>\n",
       "    <tr>\n",
       "      <th>3</th>\n",
       "      <td>2004-12-31</td>\n",
       "      <td>535000</td>\n",
       "      <td>305203</td>\n",
       "      <td>16328400</td>\n",
       "      <td>banana</td>\n",
       "    </tr>\n",
       "    <tr>\n",
       "      <th>4</th>\n",
       "      <td>2003-12-31</td>\n",
       "      <td>498600</td>\n",
       "      <td>277910</td>\n",
       "      <td>13856600</td>\n",
       "      <td>banana</td>\n",
       "    </tr>\n",
       "  </tbody>\n",
       "</table>\n",
       "</div>"
      ],
      "text/plain": [
       "        Date  Area Harvested - Ha  Yield - Hg/Ha  \\\n",
       "0 2007-12-31               622200         349829   \n",
       "1 2006-12-31               600300         347456   \n",
       "2 2005-12-31               565100         330948   \n",
       "3 2004-12-31               535000         305203   \n",
       "4 2003-12-31               498600         277910   \n",
       "\n",
       "   Production Quantity - tonnes    Crop  \n",
       "0                      21766400  banana  \n",
       "1                      20857800  banana  \n",
       "2                      18701900  banana  \n",
       "3                      16328400  banana  \n",
       "4                      13856600  banana  "
      ]
     },
     "metadata": {},
     "execution_count": 33
    }
   ],
   "metadata": {
    "collapsed": false
   }
  },
  {
   "cell_type": "code",
   "execution_count": 34,
   "source": [
    "#8-potato\r\n",
    "data=pd.read_excel('./data/data_folder/potato.xls')\r\n",
    "data=data.drop(['Seed - tonnes'],axis=1)\r\n",
    "data['Crop']='potato'\r\n",
    "len(data)\r\n",
    "#data\r\n",
    "data_total=pd.concat([data_total,data],axis=0)\r\n",
    "data_total\r\n",
    "len(data),len(data_total)\r\n",
    "data_total.head()"
   ],
   "outputs": [
    {
     "output_type": "execute_result",
     "data": {
      "text/html": [
       "<div>\n",
       "<style scoped>\n",
       "    .dataframe tbody tr th:only-of-type {\n",
       "        vertical-align: middle;\n",
       "    }\n",
       "\n",
       "    .dataframe tbody tr th {\n",
       "        vertical-align: top;\n",
       "    }\n",
       "\n",
       "    .dataframe thead th {\n",
       "        text-align: right;\n",
       "    }\n",
       "</style>\n",
       "<table border=\"1\" class=\"dataframe\">\n",
       "  <thead>\n",
       "    <tr style=\"text-align: right;\">\n",
       "      <th></th>\n",
       "      <th>Date</th>\n",
       "      <th>Area Harvested - Ha</th>\n",
       "      <th>Yield - Hg/Ha</th>\n",
       "      <th>Production Quantity - tonnes</th>\n",
       "      <th>Crop</th>\n",
       "    </tr>\n",
       "  </thead>\n",
       "  <tbody>\n",
       "    <tr>\n",
       "      <th>0</th>\n",
       "      <td>2007-12-31</td>\n",
       "      <td>622200</td>\n",
       "      <td>349829</td>\n",
       "      <td>21766400</td>\n",
       "      <td>banana</td>\n",
       "    </tr>\n",
       "    <tr>\n",
       "      <th>1</th>\n",
       "      <td>2006-12-31</td>\n",
       "      <td>600300</td>\n",
       "      <td>347456</td>\n",
       "      <td>20857800</td>\n",
       "      <td>banana</td>\n",
       "    </tr>\n",
       "    <tr>\n",
       "      <th>2</th>\n",
       "      <td>2005-12-31</td>\n",
       "      <td>565100</td>\n",
       "      <td>330948</td>\n",
       "      <td>18701900</td>\n",
       "      <td>banana</td>\n",
       "    </tr>\n",
       "    <tr>\n",
       "      <th>3</th>\n",
       "      <td>2004-12-31</td>\n",
       "      <td>535000</td>\n",
       "      <td>305203</td>\n",
       "      <td>16328400</td>\n",
       "      <td>banana</td>\n",
       "    </tr>\n",
       "    <tr>\n",
       "      <th>4</th>\n",
       "      <td>2003-12-31</td>\n",
       "      <td>498600</td>\n",
       "      <td>277910</td>\n",
       "      <td>13856600</td>\n",
       "      <td>banana</td>\n",
       "    </tr>\n",
       "  </tbody>\n",
       "</table>\n",
       "</div>"
      ],
      "text/plain": [
       "        Date  Area Harvested - Ha  Yield - Hg/Ha  \\\n",
       "0 2007-12-31               622200         349829   \n",
       "1 2006-12-31               600300         347456   \n",
       "2 2005-12-31               565100         330948   \n",
       "3 2004-12-31               535000         305203   \n",
       "4 2003-12-31               498600         277910   \n",
       "\n",
       "   Production Quantity - tonnes    Crop  \n",
       "0                      21766400  banana  \n",
       "1                      20857800  banana  \n",
       "2                      18701900  banana  \n",
       "3                      16328400  banana  \n",
       "4                      13856600  banana  "
      ]
     },
     "metadata": {},
     "execution_count": 34
    }
   ],
   "metadata": {
    "collapsed": false
   }
  },
  {
   "cell_type": "code",
   "execution_count": 35,
   "source": [
    "#9-tomato\r\n",
    "data=pd.read_excel('./data/data_folder/tomato.xls')\r\n",
    "#data=data.drop(['Seed - tonnes'],axis=1)\r\n",
    "data['Crop']='tomato'\r\n",
    "len(data)\r\n",
    "#data\r\n",
    "data_total=pd.concat([data_total,data],axis=0)\r\n",
    "data_total\r\n",
    "len(data),len(data_total)\r\n",
    "data_total.head()"
   ],
   "outputs": [
    {
     "output_type": "execute_result",
     "data": {
      "text/html": [
       "<div>\n",
       "<style scoped>\n",
       "    .dataframe tbody tr th:only-of-type {\n",
       "        vertical-align: middle;\n",
       "    }\n",
       "\n",
       "    .dataframe tbody tr th {\n",
       "        vertical-align: top;\n",
       "    }\n",
       "\n",
       "    .dataframe thead th {\n",
       "        text-align: right;\n",
       "    }\n",
       "</style>\n",
       "<table border=\"1\" class=\"dataframe\">\n",
       "  <thead>\n",
       "    <tr style=\"text-align: right;\">\n",
       "      <th></th>\n",
       "      <th>Date</th>\n",
       "      <th>Area Harvested - Ha</th>\n",
       "      <th>Yield - Hg/Ha</th>\n",
       "      <th>Production Quantity - tonnes</th>\n",
       "      <th>Crop</th>\n",
       "    </tr>\n",
       "  </thead>\n",
       "  <tbody>\n",
       "    <tr>\n",
       "      <th>0</th>\n",
       "      <td>2007-12-31</td>\n",
       "      <td>622200</td>\n",
       "      <td>349829</td>\n",
       "      <td>21766400</td>\n",
       "      <td>banana</td>\n",
       "    </tr>\n",
       "    <tr>\n",
       "      <th>1</th>\n",
       "      <td>2006-12-31</td>\n",
       "      <td>600300</td>\n",
       "      <td>347456</td>\n",
       "      <td>20857800</td>\n",
       "      <td>banana</td>\n",
       "    </tr>\n",
       "    <tr>\n",
       "      <th>2</th>\n",
       "      <td>2005-12-31</td>\n",
       "      <td>565100</td>\n",
       "      <td>330948</td>\n",
       "      <td>18701900</td>\n",
       "      <td>banana</td>\n",
       "    </tr>\n",
       "    <tr>\n",
       "      <th>3</th>\n",
       "      <td>2004-12-31</td>\n",
       "      <td>535000</td>\n",
       "      <td>305203</td>\n",
       "      <td>16328400</td>\n",
       "      <td>banana</td>\n",
       "    </tr>\n",
       "    <tr>\n",
       "      <th>4</th>\n",
       "      <td>2003-12-31</td>\n",
       "      <td>498600</td>\n",
       "      <td>277910</td>\n",
       "      <td>13856600</td>\n",
       "      <td>banana</td>\n",
       "    </tr>\n",
       "  </tbody>\n",
       "</table>\n",
       "</div>"
      ],
      "text/plain": [
       "        Date  Area Harvested - Ha  Yield - Hg/Ha  \\\n",
       "0 2007-12-31               622200         349829   \n",
       "1 2006-12-31               600300         347456   \n",
       "2 2005-12-31               565100         330948   \n",
       "3 2004-12-31               535000         305203   \n",
       "4 2003-12-31               498600         277910   \n",
       "\n",
       "   Production Quantity - tonnes    Crop  \n",
       "0                      21766400  banana  \n",
       "1                      20857800  banana  \n",
       "2                      18701900  banana  \n",
       "3                      16328400  banana  \n",
       "4                      13856600  banana  "
      ]
     },
     "metadata": {},
     "execution_count": 35
    }
   ],
   "metadata": {
    "collapsed": false
   }
  },
  {
   "cell_type": "code",
   "execution_count": 36,
   "source": [
    "#10-wheat\r\n",
    "data=pd.read_excel('./data/data_folder/wheat.xls')\r\n",
    "data=data.drop(['Seed - tonnes'],axis=1)\r\n",
    "data['Crop']='wheat'\r\n",
    "len(data)\r\n",
    "#data\r\n",
    "data_total=pd.concat([data_total,data],axis=0)\r\n",
    "data_total\r\n",
    "len(data),len(data_total)\r\n",
    "#data_total.head()"
   ],
   "outputs": [
    {
     "output_type": "execute_result",
     "data": {
      "text/plain": [
       "(47, 470)"
      ]
     },
     "metadata": {},
     "execution_count": 36
    }
   ],
   "metadata": {
    "collapsed": false
   }
  },
  {
   "cell_type": "code",
   "execution_count": 37,
   "source": [
    "#11-tea\r\n",
    "data=pd.read_excel('./data/data_folder/tea.xls')\r\n",
    "#data=data.drop(['Seed - tonnes'],axis=1)\r\n",
    "data['Crop']='tea'\r\n",
    "len(data)\r\n",
    "#data\r\n",
    "data_total=pd.concat([data_total,data],axis=0)\r\n",
    "data_total\r\n",
    "len(data),len(data_total)\r\n",
    "#data_total.head()"
   ],
   "outputs": [
    {
     "output_type": "execute_result",
     "data": {
      "text/plain": [
       "(47, 517)"
      ]
     },
     "metadata": {},
     "execution_count": 37
    }
   ],
   "metadata": {
    "collapsed": false
   }
  },
  {
   "cell_type": "code",
   "execution_count": 38,
   "source": [
    "#12-maize\r\n",
    "data=pd.read_excel('./data/data_folder/maize.xls')\r\n",
    "data=data.drop(['Seed - tonnes'],axis=1)\r\n",
    "data['Crop']='maize'\r\n",
    "len(data)\r\n",
    "#data\r\n",
    "data_total=pd.concat([data_total,data],axis=0)\r\n",
    "data_total\r\n",
    "len(data),len(data_total)\r\n",
    "#data_total.head()"
   ],
   "outputs": [
    {
     "output_type": "execute_result",
     "data": {
      "text/plain": [
       "(47, 564)"
      ]
     },
     "metadata": {},
     "execution_count": 38
    }
   ],
   "metadata": {
    "collapsed": false
   }
  },
  {
   "cell_type": "code",
   "execution_count": 39,
   "source": [
    "#13-rice\r\n",
    "data=pd.read_excel('./data/data_folder/rice.xls')\r\n",
    "data=data.drop(['Seed - tonnes'],axis=1)\r\n",
    "data['Crop']='rice'\r\n",
    "len(data)\r\n",
    "#data\r\n",
    "data_total=pd.concat([data_total,data],axis=0)\r\n",
    "data_total\r\n",
    "len(data),len(data_total)\r\n",
    "#data_total.head()"
   ],
   "outputs": [
    {
     "output_type": "execute_result",
     "data": {
      "text/plain": [
       "(47, 611)"
      ]
     },
     "metadata": {},
     "execution_count": 39
    }
   ],
   "metadata": {
    "collapsed": false
   }
  },
  {
   "cell_type": "code",
   "execution_count": 40,
   "source": [
    "#14-sugarcane\r\n",
    "data=pd.read_excel('./data/data_folder/sugarcane.xls')\r\n",
    "data=data.drop(['Seed - tonnes'],axis=1)\r\n",
    "data['Crop']='sugarcane'\r\n",
    "len(data)\r\n",
    "#data\r\n",
    "data_total=pd.concat([data_total,data],axis=0)\r\n",
    "data_total\r\n",
    "len(data),len(data_total)\r\n",
    "#data_total.head()"
   ],
   "outputs": [
    {
     "output_type": "execute_result",
     "data": {
      "text/plain": [
       "(47, 658)"
      ]
     },
     "metadata": {},
     "execution_count": 40
    }
   ],
   "metadata": {
    "collapsed": false
   }
  },
  {
   "cell_type": "code",
   "execution_count": 41,
   "source": [
    "data_total.head()"
   ],
   "outputs": [
    {
     "output_type": "execute_result",
     "data": {
      "text/html": [
       "<div>\n",
       "<style scoped>\n",
       "    .dataframe tbody tr th:only-of-type {\n",
       "        vertical-align: middle;\n",
       "    }\n",
       "\n",
       "    .dataframe tbody tr th {\n",
       "        vertical-align: top;\n",
       "    }\n",
       "\n",
       "    .dataframe thead th {\n",
       "        text-align: right;\n",
       "    }\n",
       "</style>\n",
       "<table border=\"1\" class=\"dataframe\">\n",
       "  <thead>\n",
       "    <tr style=\"text-align: right;\">\n",
       "      <th></th>\n",
       "      <th>Date</th>\n",
       "      <th>Area Harvested - Ha</th>\n",
       "      <th>Yield - Hg/Ha</th>\n",
       "      <th>Production Quantity - tonnes</th>\n",
       "      <th>Crop</th>\n",
       "    </tr>\n",
       "  </thead>\n",
       "  <tbody>\n",
       "    <tr>\n",
       "      <th>0</th>\n",
       "      <td>2007-12-31</td>\n",
       "      <td>622200</td>\n",
       "      <td>349829</td>\n",
       "      <td>21766400</td>\n",
       "      <td>banana</td>\n",
       "    </tr>\n",
       "    <tr>\n",
       "      <th>1</th>\n",
       "      <td>2006-12-31</td>\n",
       "      <td>600300</td>\n",
       "      <td>347456</td>\n",
       "      <td>20857800</td>\n",
       "      <td>banana</td>\n",
       "    </tr>\n",
       "    <tr>\n",
       "      <th>2</th>\n",
       "      <td>2005-12-31</td>\n",
       "      <td>565100</td>\n",
       "      <td>330948</td>\n",
       "      <td>18701900</td>\n",
       "      <td>banana</td>\n",
       "    </tr>\n",
       "    <tr>\n",
       "      <th>3</th>\n",
       "      <td>2004-12-31</td>\n",
       "      <td>535000</td>\n",
       "      <td>305203</td>\n",
       "      <td>16328400</td>\n",
       "      <td>banana</td>\n",
       "    </tr>\n",
       "    <tr>\n",
       "      <th>4</th>\n",
       "      <td>2003-12-31</td>\n",
       "      <td>498600</td>\n",
       "      <td>277910</td>\n",
       "      <td>13856600</td>\n",
       "      <td>banana</td>\n",
       "    </tr>\n",
       "  </tbody>\n",
       "</table>\n",
       "</div>"
      ],
      "text/plain": [
       "        Date  Area Harvested - Ha  Yield - Hg/Ha  \\\n",
       "0 2007-12-31               622200         349829   \n",
       "1 2006-12-31               600300         347456   \n",
       "2 2005-12-31               565100         330948   \n",
       "3 2004-12-31               535000         305203   \n",
       "4 2003-12-31               498600         277910   \n",
       "\n",
       "   Production Quantity - tonnes    Crop  \n",
       "0                      21766400  banana  \n",
       "1                      20857800  banana  \n",
       "2                      18701900  banana  \n",
       "3                      16328400  banana  \n",
       "4                      13856600  banana  "
      ]
     },
     "metadata": {},
     "execution_count": 41
    }
   ],
   "metadata": {}
  },
  {
   "cell_type": "code",
   "execution_count": 42,
   "source": [
    "data_total.info()"
   ],
   "outputs": [
    {
     "output_type": "stream",
     "name": "stdout",
     "text": [
      "<class 'pandas.core.frame.DataFrame'>\n",
      "Int64Index: 658 entries, 0 to 46\n",
      "Data columns (total 5 columns):\n",
      " #   Column                        Non-Null Count  Dtype         \n",
      "---  ------                        --------------  -----         \n",
      " 0   Date                          658 non-null    datetime64[ns]\n",
      " 1   Area Harvested - Ha           658 non-null    int64         \n",
      " 2   Yield - Hg/Ha                 658 non-null    int64         \n",
      " 3   Production Quantity - tonnes  658 non-null    int64         \n",
      " 4   Crop                          658 non-null    object        \n",
      "dtypes: datetime64[ns](1), int64(3), object(1)\n",
      "memory usage: 30.8+ KB\n"
     ]
    }
   ],
   "metadata": {}
  },
  {
   "cell_type": "code",
   "execution_count": 43,
   "source": [
    "#setting proper index , to keep uniqueness\r\n",
    "data_total.index=[i for i in range(len(data_total))]"
   ],
   "outputs": [],
   "metadata": {
    "collapsed": false
   }
  },
  {
   "cell_type": "code",
   "execution_count": 44,
   "source": [
    "#replacing the Date,which is a timestamp() or datetime() object to year(int64)\r\n",
    "data_total['year']=data_total['Date'].dt.year\r\n",
    "#deleting Date, column \r\n",
    "data_total.drop('Date',axis=1,inplace=True)\r\n",
    "#type(data_total['year'][0])\r\n",
    "data_total.head()"
   ],
   "outputs": [
    {
     "output_type": "execute_result",
     "data": {
      "text/html": [
       "<div>\n",
       "<style scoped>\n",
       "    .dataframe tbody tr th:only-of-type {\n",
       "        vertical-align: middle;\n",
       "    }\n",
       "\n",
       "    .dataframe tbody tr th {\n",
       "        vertical-align: top;\n",
       "    }\n",
       "\n",
       "    .dataframe thead th {\n",
       "        text-align: right;\n",
       "    }\n",
       "</style>\n",
       "<table border=\"1\" class=\"dataframe\">\n",
       "  <thead>\n",
       "    <tr style=\"text-align: right;\">\n",
       "      <th></th>\n",
       "      <th>Area Harvested - Ha</th>\n",
       "      <th>Yield - Hg/Ha</th>\n",
       "      <th>Production Quantity - tonnes</th>\n",
       "      <th>Crop</th>\n",
       "      <th>year</th>\n",
       "    </tr>\n",
       "  </thead>\n",
       "  <tbody>\n",
       "    <tr>\n",
       "      <th>0</th>\n",
       "      <td>622200</td>\n",
       "      <td>349829</td>\n",
       "      <td>21766400</td>\n",
       "      <td>banana</td>\n",
       "      <td>2007</td>\n",
       "    </tr>\n",
       "    <tr>\n",
       "      <th>1</th>\n",
       "      <td>600300</td>\n",
       "      <td>347456</td>\n",
       "      <td>20857800</td>\n",
       "      <td>banana</td>\n",
       "      <td>2006</td>\n",
       "    </tr>\n",
       "    <tr>\n",
       "      <th>2</th>\n",
       "      <td>565100</td>\n",
       "      <td>330948</td>\n",
       "      <td>18701900</td>\n",
       "      <td>banana</td>\n",
       "      <td>2005</td>\n",
       "    </tr>\n",
       "    <tr>\n",
       "      <th>3</th>\n",
       "      <td>535000</td>\n",
       "      <td>305203</td>\n",
       "      <td>16328400</td>\n",
       "      <td>banana</td>\n",
       "      <td>2004</td>\n",
       "    </tr>\n",
       "    <tr>\n",
       "      <th>4</th>\n",
       "      <td>498600</td>\n",
       "      <td>277910</td>\n",
       "      <td>13856600</td>\n",
       "      <td>banana</td>\n",
       "      <td>2003</td>\n",
       "    </tr>\n",
       "  </tbody>\n",
       "</table>\n",
       "</div>"
      ],
      "text/plain": [
       "   Area Harvested - Ha  Yield - Hg/Ha  Production Quantity - tonnes    Crop  \\\n",
       "0               622200         349829                      21766400  banana   \n",
       "1               600300         347456                      20857800  banana   \n",
       "2               565100         330948                      18701900  banana   \n",
       "3               535000         305203                      16328400  banana   \n",
       "4               498600         277910                      13856600  banana   \n",
       "\n",
       "   year  \n",
       "0  2007  \n",
       "1  2006  \n",
       "2  2005  \n",
       "3  2004  \n",
       "4  2003  "
      ]
     },
     "metadata": {},
     "execution_count": 44
    }
   ],
   "metadata": {
    "collapsed": false
   }
  },
  {
   "cell_type": "code",
   "execution_count": 45,
   "source": [
    "#rearranging columns in some other order\r\n",
    "cols=data_total.columns.tolist()\r\n",
    "cols=cols[-2:]+cols[0:1]+cols[2:3]+cols[1:2]\r\n",
    "cols"
   ],
   "outputs": [
    {
     "output_type": "execute_result",
     "data": {
      "text/plain": [
       "['Crop',\n",
       " 'year',\n",
       " 'Area Harvested - Ha',\n",
       " 'Production Quantity - tonnes',\n",
       " 'Yield - Hg/Ha']"
      ]
     },
     "metadata": {},
     "execution_count": 45
    }
   ],
   "metadata": {
    "collapsed": false
   }
  },
  {
   "cell_type": "code",
   "execution_count": 46,
   "source": [
    "#now rearrange the data_total according to these columns\r\n",
    "data_total=data_total[cols]\r\n",
    "data_total.head()"
   ],
   "outputs": [
    {
     "output_type": "execute_result",
     "data": {
      "text/html": [
       "<div>\n",
       "<style scoped>\n",
       "    .dataframe tbody tr th:only-of-type {\n",
       "        vertical-align: middle;\n",
       "    }\n",
       "\n",
       "    .dataframe tbody tr th {\n",
       "        vertical-align: top;\n",
       "    }\n",
       "\n",
       "    .dataframe thead th {\n",
       "        text-align: right;\n",
       "    }\n",
       "</style>\n",
       "<table border=\"1\" class=\"dataframe\">\n",
       "  <thead>\n",
       "    <tr style=\"text-align: right;\">\n",
       "      <th></th>\n",
       "      <th>Crop</th>\n",
       "      <th>year</th>\n",
       "      <th>Area Harvested - Ha</th>\n",
       "      <th>Production Quantity - tonnes</th>\n",
       "      <th>Yield - Hg/Ha</th>\n",
       "    </tr>\n",
       "  </thead>\n",
       "  <tbody>\n",
       "    <tr>\n",
       "      <th>0</th>\n",
       "      <td>banana</td>\n",
       "      <td>2007</td>\n",
       "      <td>622200</td>\n",
       "      <td>21766400</td>\n",
       "      <td>349829</td>\n",
       "    </tr>\n",
       "    <tr>\n",
       "      <th>1</th>\n",
       "      <td>banana</td>\n",
       "      <td>2006</td>\n",
       "      <td>600300</td>\n",
       "      <td>20857800</td>\n",
       "      <td>347456</td>\n",
       "    </tr>\n",
       "    <tr>\n",
       "      <th>2</th>\n",
       "      <td>banana</td>\n",
       "      <td>2005</td>\n",
       "      <td>565100</td>\n",
       "      <td>18701900</td>\n",
       "      <td>330948</td>\n",
       "    </tr>\n",
       "    <tr>\n",
       "      <th>3</th>\n",
       "      <td>banana</td>\n",
       "      <td>2004</td>\n",
       "      <td>535000</td>\n",
       "      <td>16328400</td>\n",
       "      <td>305203</td>\n",
       "    </tr>\n",
       "    <tr>\n",
       "      <th>4</th>\n",
       "      <td>banana</td>\n",
       "      <td>2003</td>\n",
       "      <td>498600</td>\n",
       "      <td>13856600</td>\n",
       "      <td>277910</td>\n",
       "    </tr>\n",
       "  </tbody>\n",
       "</table>\n",
       "</div>"
      ],
      "text/plain": [
       "     Crop  year  Area Harvested - Ha  Production Quantity - tonnes  \\\n",
       "0  banana  2007               622200                      21766400   \n",
       "1  banana  2006               600300                      20857800   \n",
       "2  banana  2005               565100                      18701900   \n",
       "3  banana  2004               535000                      16328400   \n",
       "4  banana  2003               498600                      13856600   \n",
       "\n",
       "   Yield - Hg/Ha  \n",
       "0         349829  \n",
       "1         347456  \n",
       "2         330948  \n",
       "3         305203  \n",
       "4         277910  "
      ]
     },
     "metadata": {},
     "execution_count": 46
    }
   ],
   "metadata": {
    "collapsed": false
   }
  },
  {
   "cell_type": "code",
   "execution_count": 47,
   "source": [
    "#exporting to a file\r\n",
    "data_total.to_excel('data_complete_arranged.xls')"
   ],
   "outputs": [],
   "metadata": {
    "collapsed": false,
    "scrolled": true
   }
  },
  {
   "cell_type": "code",
   "execution_count": 48,
   "source": [
    "#shuffling the data so will be easy to divide into train and test data\r\n",
    "data_total=data_total.apply(np.random.permutation)\r\n",
    "#exporting to filea\r\n",
    "data_total.to_excel('data_complete_shuffled.xls')\r\n",
    "data_total.head()"
   ],
   "outputs": [
    {
     "output_type": "execute_result",
     "data": {
      "text/html": [
       "<div>\n",
       "<style scoped>\n",
       "    .dataframe tbody tr th:only-of-type {\n",
       "        vertical-align: middle;\n",
       "    }\n",
       "\n",
       "    .dataframe tbody tr th {\n",
       "        vertical-align: top;\n",
       "    }\n",
       "\n",
       "    .dataframe thead th {\n",
       "        text-align: right;\n",
       "    }\n",
       "</style>\n",
       "<table border=\"1\" class=\"dataframe\">\n",
       "  <thead>\n",
       "    <tr style=\"text-align: right;\">\n",
       "      <th></th>\n",
       "      <th>Crop</th>\n",
       "      <th>year</th>\n",
       "      <th>Area Harvested - Ha</th>\n",
       "      <th>Production Quantity - tonnes</th>\n",
       "      <th>Yield - Hg/Ha</th>\n",
       "    </tr>\n",
       "  </thead>\n",
       "  <tbody>\n",
       "    <tr>\n",
       "      <th>0</th>\n",
       "      <td>green_pea</td>\n",
       "      <td>1965</td>\n",
       "      <td>70000</td>\n",
       "      <td>1200000</td>\n",
       "      <td>72506</td>\n",
       "    </tr>\n",
       "    <tr>\n",
       "      <th>1</th>\n",
       "      <td>sugarcane</td>\n",
       "      <td>1990</td>\n",
       "      <td>3019000</td>\n",
       "      <td>4221300</td>\n",
       "      <td>15470</td>\n",
       "    </tr>\n",
       "    <tr>\n",
       "      <th>2</th>\n",
       "      <td>pineapple</td>\n",
       "      <td>1985</td>\n",
       "      <td>211000</td>\n",
       "      <td>23920000</td>\n",
       "      <td>147500</td>\n",
       "    </tr>\n",
       "    <tr>\n",
       "      <th>3</th>\n",
       "      <td>pineapple</td>\n",
       "      <td>1977</td>\n",
       "      <td>80000</td>\n",
       "      <td>179000</td>\n",
       "      <td>100000</td>\n",
       "    </tr>\n",
       "    <tr>\n",
       "      <th>4</th>\n",
       "      <td>pineapple</td>\n",
       "      <td>1992</td>\n",
       "      <td>43830</td>\n",
       "      <td>893000</td>\n",
       "      <td>17704</td>\n",
       "    </tr>\n",
       "  </tbody>\n",
       "</table>\n",
       "</div>"
      ],
      "text/plain": [
       "        Crop  year  Area Harvested - Ha  Production Quantity - tonnes  \\\n",
       "0  green_pea  1965                70000                       1200000   \n",
       "1  sugarcane  1990              3019000                       4221300   \n",
       "2  pineapple  1985               211000                      23920000   \n",
       "3  pineapple  1977                80000                        179000   \n",
       "4  pineapple  1992                43830                        893000   \n",
       "\n",
       "   Yield - Hg/Ha  \n",
       "0          72506  \n",
       "1          15470  \n",
       "2         147500  \n",
       "3         100000  \n",
       "4          17704  "
      ]
     },
     "metadata": {},
     "execution_count": 48
    }
   ],
   "metadata": {
    "collapsed": true
   }
  }
 ],
 "metadata": {
  "kernelspec": {
   "name": "python3",
   "display_name": "Python 3.8.3 64-bit ('base': conda)"
  },
  "language_info": {
   "codemirror_mode": {
    "name": "ipython",
    "version": 3
   },
   "file_extension": ".py",
   "mimetype": "text/x-python",
   "name": "python",
   "nbconvert_exporter": "python",
   "pygments_lexer": "ipython3",
   "version": "3.8.3"
  },
  "interpreter": {
   "hash": "565f68dfd1673076c57f96022b773c67649ea25cd75c17a67158ed7af3f84750"
  }
 },
 "nbformat": 4,
 "nbformat_minor": 2
}